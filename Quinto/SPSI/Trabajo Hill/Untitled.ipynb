{
 "cells": [
  {
   "cell_type": "code",
   "execution_count": 2,
   "id": "d6a5afdd",
   "metadata": {},
   "outputs": [],
   "source": [
    "from sage.all import *\n",
    "from sage.crypto.util import *"
   ]
  },
  {
   "cell_type": "code",
   "execution_count": 3,
   "id": "fef01c2d",
   "metadata": {},
   "outputs": [],
   "source": [
    "diccionario_encrypt = {'A': 0, 'B': 1, 'C': 2, 'D': 3, 'E': 4, 'F': 5, 'G': 6, 'H': 7, 'I': 8, 'J': 9, 'K': 10, 'L': 11,\n",
    "            'M': 12, 'N': 13, 'O': 14, 'P': 15, 'Q': 16, 'R': 17, 'S': 18, 'T': 19, 'U': 20, 'V': 21, 'W': 22, 'X': 23, 'Y': 24, 'Z': 25}"
   ]
  },
  {
   "cell_type": "code",
   "execution_count": 4,
   "id": "2f694bb7",
   "metadata": {},
   "outputs": [],
   "source": [
    "diccionario_decrypt = {v: k for k, v in diccionario_encrypt.items()}"
   ]
  },
  {
   "cell_type": "code",
   "execution_count": 28,
   "id": "aeff3135",
   "metadata": {},
   "outputs": [],
   "source": [
    "def hill_genkey(size):\n",
    "    while True:\n",
    "        matrix = Matrix(ZZ,size,[randint(0,len(diccionario_encrypt)-1) for _ in range(size**2)])\n",
    "        if matrix.is_invertible():\n",
    "            return matrix"
   ]
  },
  {
   "cell_type": "code",
   "execution_count": 42,
   "id": "4b862147",
   "metadata": {},
   "outputs": [
    {
     "data": {
      "text/plain": [
       "[ 8  9]\n",
       "[ 9 10]"
      ]
     },
     "execution_count": 42,
     "metadata": {},
     "output_type": "execute_result"
    }
   ],
   "source": [
    "M = hill_genkey(2)\n",
    "M"
   ]
  },
  {
   "cell_type": "code",
   "execution_count": 73,
   "id": "27fe4558",
   "metadata": {},
   "outputs": [],
   "source": [
    "def hill_cipher(message, key):\n",
    "    ciphertext = ''\n",
    "    message = message.upper()\n",
    "    \n",
    "    if len(message) <= key.nrows():\n",
    "        while len(message) < key.nrows():\n",
    "            message = message + 'X'\n",
    "        matrix_message = [diccionario_encrypt[char] for char in message]\n",
    "        matrix_message = Matrix(ZZ,len(message),matrix_message)\n",
    "\n",
    "        cipher = (key*matrix_message)%len(diccionario_encrypt)\n",
    "        for i in range(cipher.nrows()):\n",
    "            ciphertext += diccionario_decrypt[int(cipher[i][0])]\n",
    "    else:\n",
    "        while len(message) % key.nrows() != 0:\n",
    "            message = message + 'X'\n",
    "            \n",
    "        matrix_message = [message[i:i+key.nrows()] for i in range(0,len(message),key.nrows())]\n",
    "        \n",
    "        for bloque in matrix_message:\n",
    "            list_temp = [diccionario_encrypt[char] for char in bloque]\n",
    "            matrix_encrypt = Matrix(ZZ,key.nrows(),list_temp)\n",
    "            cipher = (key*matrix_encrypt)%len(diccionario_encrypt)\n",
    "            \n",
    "            for i in range(cipher.nrows()):\n",
    "                ciphertext += diccionario_decrypt[int(cipher[i][0])]\n",
    "    \n",
    "    return ciphertext"
   ]
  },
  {
   "cell_type": "code",
   "execution_count": 74,
   "id": "67256440",
   "metadata": {},
   "outputs": [
    {
     "data": {
      "text/plain": [
       "'BEYB'"
      ]
     },
     "execution_count": 74,
     "metadata": {},
     "output_type": "execute_result"
    }
   ],
   "source": [
    "hill_cipher('ADDA',M)"
   ]
  },
  {
   "cell_type": "code",
   "execution_count": 77,
   "id": "18c61f36",
   "metadata": {},
   "outputs": [],
   "source": [
    "def hill_decipher(message, key):\n",
    "    plaintext = ''\n",
    "    matrix_message = [message[i:i+key.nrows()] for i in range(0,len(message),key.nrows())]\n",
    "    \n",
    "    inverse_matrix = (key.inverse())%len(diccionario_encrypt)\n",
    "    \n",
    "    for bloque in matrix_message:\n",
    "        list_temp = [diccionario_encrypt[char] for char in bloque]\n",
    "        matrix_encrypt = Matrix(ZZ,key.nrows(),list_temp)\n",
    "        cipher = (inverse_matrix*matrix_encrypt)%len(diccionario_encrypt)\n",
    "        \n",
    "        for i in range(cipher.nrows()):\n",
    "            plaintext += diccionario_decrypt[int(cipher[i][0])]\n",
    "            \n",
    "    while plaintext[-1] == 'X':\n",
    "        plaintext = plaintext.rstrip(plaintext[-1])\n",
    "    \n",
    "    return plaintext"
   ]
  },
  {
   "cell_type": "code",
   "execution_count": 78,
   "id": "5ccc96d5",
   "metadata": {},
   "outputs": [
    {
     "data": {
      "text/plain": [
       "'ADDA'"
      ]
     },
     "execution_count": 78,
     "metadata": {},
     "output_type": "execute_result"
    }
   ],
   "source": [
    "hill_decipher('BEYB',M)"
   ]
  },
  {
   "cell_type": "code",
   "execution_count": null,
   "id": "e2898de4",
   "metadata": {},
   "outputs": [],
   "source": []
  }
 ],
 "metadata": {
  "kernelspec": {
   "display_name": "SageMath 10.1",
   "language": "sage",
   "name": "sagemath"
  },
  "language_info": {
   "codemirror_mode": {
    "name": "ipython",
    "version": 3
   },
   "file_extension": ".py",
   "mimetype": "text/x-python",
   "name": "python",
   "nbconvert_exporter": "python",
   "pygments_lexer": "ipython3",
   "version": "3.8.10"
  }
 },
 "nbformat": 4,
 "nbformat_minor": 5
}
