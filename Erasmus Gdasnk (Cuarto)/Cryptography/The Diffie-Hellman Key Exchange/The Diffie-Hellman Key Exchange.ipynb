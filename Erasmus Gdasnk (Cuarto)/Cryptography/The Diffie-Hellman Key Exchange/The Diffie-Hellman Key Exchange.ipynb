{
 "cells": [
  {
   "cell_type": "markdown",
   "id": "0424809c",
   "metadata": {},
   "source": [
    "## The Diffie-Hellman Key Exchange"
   ]
  },
  {
   "cell_type": "markdown",
   "id": "735b4b88",
   "metadata": {},
   "source": [
    "First, we are required to functions for a prime number **p** and the group $\\mathbb{Z_p}^*=${1,2,3,...,p-1}.\n",
    "\n",
    "The first function is called **generator(g,p)** and checks if $g$ is a generator of $\\mathbb{Z_p}^*$. That means $$g^n\\; mod\\;p=1,2,...,p-1-\\;for\\;some\\;n$$\n",
    "\n",
    "For doing it we are going to use the **Primitive Root Theorem**. Let p be a prime number. Then there is some $g\\in\\mathbb{F^*}_p$, the multiplicative group of nonzero elements of $\\mathbb{F}_p$, so that all alements of $\\mathbb{F}_p$ are powers of g. For such an element g, we have that: $$g^{p-1}\\equiv\\; 1\\;(mod\\; p)$$ $$g^r\\not\\equiv \\; 1\\;(mod\\;p)\\;for\\; 1\\leq r\\leq p-2$$"
   ]
  },
  {
   "cell_type": "code",
   "execution_count": 1,
   "id": "c4d33691",
   "metadata": {},
   "outputs": [],
   "source": [
    "def generator(g,p):\n",
    "    if p<2:\n",
    "        return False\n",
    "    \n",
    "    if pow(g,p-1,p)!=1:\n",
    "        return False\n",
    "    \n",
    "    for i in range(2,p-1):\n",
    "        if pow(g,i,p)==1:\n",
    "            return False\n",
    "        \n",
    "    return True"
   ]
  },
  {
   "cell_type": "markdown",
   "id": "95be14ac",
   "metadata": {},
   "source": [
    "1. The first prime numer is 2, so if p<2 we can return False.\n",
    "2. If $p\\geq 2$, we first check if g is relatively prime to p. If they are not relatively prime, then g cannot be generator of $\\mathbb{Z_p}^*$, so we can return false (First condition from theorem).\n",
    "3. Finally, we check if g is a generator of $\\mathbb{Z_p}^*$ by computing ```pow(g,i,p)``` $\\forall\\;i\\in$ {2,...,p-1}. If any of these values are equal to 1, then g is not a generator of $\\mathbb{Z_p}^*$ because it would be generaiting a cyclic subgroup, so we can return false (Second condition from theorem).\n",
    "4. We return true in case g pass the previous conditions.\n",
    "\n",
    "**Note: We do not check if p is a prime number. We suppose the user introduces it correctly.**"
   ]
  },
  {
   "cell_type": "code",
   "execution_count": 2,
   "id": "5d61ec87",
   "metadata": {},
   "outputs": [
    {
     "data": {
      "text/plain": [
       "False"
      ]
     },
     "execution_count": 2,
     "metadata": {},
     "output_type": "execute_result"
    }
   ],
   "source": [
    "generator(2,47)"
   ]
  },
  {
   "cell_type": "code",
   "execution_count": 3,
   "id": "b379f45d",
   "metadata": {},
   "outputs": [
    {
     "data": {
      "text/plain": [
       "True"
      ]
     },
     "execution_count": 3,
     "metadata": {},
     "output_type": "execute_result"
    }
   ],
   "source": [
    "generator(5,47)"
   ]
  },
  {
   "cell_type": "markdown",
   "id": "e87bbe83",
   "metadata": {},
   "source": [
    "The second function is called **euklid(a,p)** and allows us to calculate $a^{-1}$ in $\\mathbb{Z}_p^*$. We know that $$a\\cdot a^{-1}\\;(mod\\;p)\\equiv 1$$"
   ]
  },
  {
   "cell_type": "code",
   "execution_count": 4,
   "id": "669e7414",
   "metadata": {},
   "outputs": [],
   "source": [
    "def euklid(a,p):\n",
    "    if a%p==0:\n",
    "        raise ValueError(\"a is divisible by p\")\n",
    "        \n",
    "    for i in range(1,p):\n",
    "        if pow(a*i,1,p)==1:\n",
    "            return i\n",
    "        \n",
    "    raise ValueError(\"not multiplicative inverse found\")"
   ]
  },
  {
   "cell_type": "markdown",
   "id": "af826629",
   "metadata": {},
   "source": [
    "1. First, we check if a is divisible by p, because, in that case, a does not have multiplicative inverse in $\\mathbb{Z}_p^*$\n",
    "2. Using that the third parameter or ```pow``` is the module, we compute $(a\\cdot i)^1\\;(mod\\; p)\\equiv a\\cdot i\\;(mod\\; p)\\;for\\;1\\leq i\\leq p-1$. If it is equal to 1, then i=$a^{-1}$ and we can return i.\n",
    "3. If we do not find the inverse, we return a error.\n",
    "\n",
    "**Note: We do not check if p is a prime number. We suppose the user introduces it correctly.**"
   ]
  },
  {
   "cell_type": "code",
   "execution_count": 5,
   "id": "bb5b41ae",
   "metadata": {},
   "outputs": [
    {
     "data": {
      "text/plain": [
       "3"
      ]
     },
     "execution_count": 5,
     "metadata": {},
     "output_type": "execute_result"
    }
   ],
   "source": [
    "euklid(2,5)"
   ]
  },
  {
   "cell_type": "code",
   "execution_count": 6,
   "id": "19ce0fb4",
   "metadata": {},
   "outputs": [
    {
     "data": {
      "text/plain": [
       "4"
      ]
     },
     "execution_count": 6,
     "metadata": {},
     "output_type": "execute_result"
    }
   ],
   "source": [
    "euklid(4,5)"
   ]
  },
  {
   "cell_type": "code",
   "execution_count": 7,
   "id": "0e2a5c11",
   "metadata": {},
   "outputs": [
    {
     "data": {
      "text/plain": [
       "2"
      ]
     },
     "execution_count": 7,
     "metadata": {},
     "output_type": "execute_result"
    }
   ],
   "source": [
    "euklid(3,5)"
   ]
  },
  {
   "cell_type": "markdown",
   "id": "72c762f5",
   "metadata": {},
   "source": [
    "Now, we are going to use this functions to find x in **Diffie-Hellman Key Exchange** for prime p=1117, g=6(generator in $\\mathbb{Z}_p^*$) and key h=527($h=g^x\\;mod\\;p$)"
   ]
  },
  {
   "cell_type": "markdown",
   "id": "347d340c",
   "metadata": {},
   "source": [
    "So, we are required to solve $$527=6^x\\;mod\\;1117$$"
   ]
  },
  {
   "cell_type": "markdown",
   "id": "a29d93d0",
   "metadata": {},
   "source": [
    "First, we need to check if 6 is a generator of $\\mathbb{Z}_{1117}^*$. This condition is necessary, since otherwise we cannot guarantee that the power 6 raised to x can take the value 527. For this, we use the function ```generator```:"
   ]
  },
  {
   "cell_type": "code",
   "execution_count": 8,
   "id": "162f479e",
   "metadata": {},
   "outputs": [
    {
     "data": {
      "text/plain": [
       "True"
      ]
     },
     "execution_count": 8,
     "metadata": {},
     "output_type": "execute_result"
    }
   ],
   "source": [
    "generator(6,1117)"
   ]
  },
  {
   "cell_type": "markdown",
   "id": "832150e2",
   "metadata": {},
   "source": [
    "Since we are working in $\\mathbb{Z}_{1117}^*$, we know that every element has multiplicative inverse, so we can multiply each member by the multiplicative inverse of 527 in $\\mathbb{Z}_{1117}^*$: $$527\\cdot527^{-1}=6^x\\cdot527^{-1}\\;mod\\;1117$$ and we would get that: $$1=6^x\\cdot527^{-1}\\;mod\\;1117$$"
   ]
  },
  {
   "cell_type": "markdown",
   "id": "4d037870",
   "metadata": {},
   "source": [
    "Using the ```euklid``` function, we can get the multiplicative inverse of 527 in $\\mathbb{Z}_{1117}^*$:"
   ]
  },
  {
   "cell_type": "code",
   "execution_count": 9,
   "id": "b42e9439",
   "metadata": {},
   "outputs": [
    {
     "data": {
      "text/plain": [
       "195"
      ]
     },
     "execution_count": 9,
     "metadata": {},
     "output_type": "execute_result"
    }
   ],
   "source": [
    "euklid(527,1117)"
   ]
  },
  {
   "cell_type": "markdown",
   "id": "d425c241",
   "metadata": {},
   "source": [
    "So, the equation we have to solve is:$$1=6^x\\cdot527^{-1}\\;mod\\;1117\\implies1=6^x\\cdot195\\;mod\\;1117$$ Since 1117 is a small prime number, we can solve it by looping through elements of $\\mathbb{Z}_p^*$ and checking if the value verifies the equation."
   ]
  },
  {
   "cell_type": "code",
   "execution_count": 10,
   "id": "cd804430",
   "metadata": {},
   "outputs": [
    {
     "name": "stdout",
     "output_type": "stream",
     "text": [
      "123\n"
     ]
    }
   ],
   "source": [
    "for i in range(1,1117):\n",
    "    a=pow(6,i) #a=6^i\n",
    "    if pow(a*195,1,1117)==1: #(195*6^i)^1 mod 1117\n",
    "        print(i)"
   ]
  },
  {
   "cell_type": "markdown",
   "id": "50ad4d4a",
   "metadata": {},
   "source": [
    "So, the solution is **x=123**."
   ]
  }
 ],
 "metadata": {
  "kernelspec": {
   "display_name": "Python 3 (ipykernel)",
   "language": "python",
   "name": "python3"
  },
  "language_info": {
   "codemirror_mode": {
    "name": "ipython",
    "version": 3
   },
   "file_extension": ".py",
   "mimetype": "text/x-python",
   "name": "python",
   "nbconvert_exporter": "python",
   "pygments_lexer": "ipython3",
   "version": "3.8.8"
  }
 },
 "nbformat": 4,
 "nbformat_minor": 5
}
