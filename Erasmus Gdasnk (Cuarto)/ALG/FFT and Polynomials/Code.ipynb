{
 "cells": [
  {
   "cell_type": "code",
   "execution_count": 2,
   "id": "89ef5c43",
   "metadata": {},
   "outputs": [],
   "source": [
    "import numpy as np\n",
    "import matplotlib.pyplot as plt\n",
    "from numpy.fft import fft, ifft"
   ]
  },
  {
   "cell_type": "code",
   "execution_count": 3,
   "id": "24538e31",
   "metadata": {},
   "outputs": [],
   "source": [
    "def RECURSIVE_FFT(A,m,w):\n",
    "    if m==1:\n",
    "        return A\n",
    "    else:\n",
    "        A_even = A[::2]\n",
    "        A_odd = A[1::2]\n",
    "        F_even = RECURSIVE_FFT(A_even,m/2,w**2)\n",
    "        F_odd = RECURSIVE_FFT(A_odd,m/2,w**2)\n",
    "        F = [0]*int(m)\n",
    "        x = 1\n",
    "        for j in range (0,int(m/2)):\n",
    "            F[j] = F_even[j] + x*F_odd[j]\n",
    "            F[int(j+m/2)] = F_even[j] - x*F_odd[j]\n",
    "            x = x * w\n",
    "        return F"
   ]
  },
  {
   "cell_type": "code",
   "execution_count": 4,
   "id": "9c48bb01",
   "metadata": {},
   "outputs": [],
   "source": [
    "def RECURSIVE_CONVOLUTION(A,B):\n",
    "    if (len(A)!=len(B)) or np.log2(len(A))%1 > 0:\n",
    "        raise ValueError(\"Both coefficient representations must have same size and be power of 2\")\n",
    "    \n",
    "    # Double degree bound\n",
    "    n = len(A)\n",
    "    for i in range (0,n):\n",
    "        A.append(0)\n",
    "        B.append(0)\n",
    "    \n",
    "    n = len(A)\n",
    "    wn = np.exp((-2j*np.pi)/n)\n",
    "    \n",
    "    # Evaluate using FFT\n",
    "    FFTA = RECURSIVE_FFT(A,n,wn)\n",
    "    FFTB = RECURSIVE_FFT(B,n,wn)\n",
    "    \n",
    "    # Point-Wise Multiplication\n",
    "    FC = []\n",
    "    for i in range (0,n):\n",
    "        FC.append(FFTA[i]*FFTB[i])\n",
    "        \n",
    "    # Interpolate\n",
    "    F = RECURSIVE_FFT(FC,n,wn**(-1))\n",
    "    for i in range (0,n):\n",
    "        F[i] = F[i]*(1/n)  \n",
    "    \n",
    "    return F"
   ]
  },
  {
   "cell_type": "code",
   "execution_count": 5,
   "id": "e9fd7cd9",
   "metadata": {},
   "outputs": [],
   "source": [
    "A = [3,2,1,1]\n",
    "B = [5,0,2,1]\n",
    "S2 = np.polymul(A,B)\n",
    "S1 = RECURSIVE_CONVOLUTION(A,B)"
   ]
  },
  {
   "cell_type": "code",
   "execution_count": 6,
   "id": "622c4e1f",
   "metadata": {},
   "outputs": [
    {
     "data": {
      "text/plain": [
       "True"
      ]
     },
     "execution_count": 6,
     "metadata": {},
     "output_type": "execute_result"
    }
   ],
   "source": [
    "np.allclose(S1[0:len(S2)],S2,rtol=1e-05,atol=1e-08,equal_nan=False)"
   ]
  },
  {
   "cell_type": "code",
   "execution_count": 7,
   "id": "7257648b",
   "metadata": {},
   "outputs": [
    {
     "data": {
      "text/plain": [
       "[(15-8.604228440844963e-16j),\n",
       " (10-6.106226635438361e-16j),\n",
       " (11-1.582067810090848e-15j),\n",
       " (11.999999999999998-9.43689570931383e-16j),\n",
       " (4+9.159339953157541e-16j),\n",
       " (2.9999999999999996+7.216449660063518e-16j),\n",
       " (1+1.5265566588595902e-15j),\n",
       " (1.7763568394002505e-15+8.326672684688674e-16j)]"
      ]
     },
     "execution_count": 7,
     "metadata": {},
     "output_type": "execute_result"
    }
   ],
   "source": [
    "S1"
   ]
  },
  {
   "cell_type": "code",
   "execution_count": 8,
   "id": "60b33b98",
   "metadata": {},
   "outputs": [
    {
     "data": {
      "text/plain": [
       "array([15, 10, 11, 12,  4,  3,  1])"
      ]
     },
     "execution_count": 8,
     "metadata": {},
     "output_type": "execute_result"
    }
   ],
   "source": [
    "S2"
   ]
  },
  {
   "cell_type": "code",
   "execution_count": 9,
   "id": "8fe09912",
   "metadata": {},
   "outputs": [],
   "source": [
    "def REV(n,bits):\n",
    "    result = 0\n",
    "    for i in range(int(np.log2(bits))):\n",
    "        result <<= 1\n",
    "        result |= n & 1\n",
    "        n >>= 1\n",
    "    return result"
   ]
  },
  {
   "cell_type": "code",
   "execution_count": 10,
   "id": "f9b76a1a",
   "metadata": {},
   "outputs": [],
   "source": [
    "def BIT_REVERSE_COPY(a,A):\n",
    "    n = len(a)\n",
    "    k = 0\n",
    "    while k<=n-1:\n",
    "        A[REV(k,n)] = a[k]\n",
    "        k+=1"
   ]
  },
  {
   "cell_type": "code",
   "execution_count": 11,
   "id": "99b7f476",
   "metadata": {},
   "outputs": [],
   "source": [
    "def ITERATIVE_FFT(a):\n",
    "    A = [0]*len(a)\n",
    "    BIT_REVERSE_COPY(a,A)\n",
    "    n = len(a)\n",
    "    \n",
    "    s = 1\n",
    "    while s <= np.log2(n):\n",
    "        m = pow(2,s)\n",
    "        wm = np.exp((-2j*np.pi)/m)\n",
    "        k = 0\n",
    "        while k <= n-1:\n",
    "            w = 1\n",
    "            j = 0\n",
    "            while j <= m/2-1:\n",
    "                t = w*A[int(k+j+m/2)]\n",
    "                u = A[int(k+j)]\n",
    "                A[int(k+j)] = u+t\n",
    "                A[int(k+j+m/2)] = u-t\n",
    "                w = w*wm\n",
    "                j+=1\n",
    "            k+=m\n",
    "        s+=1\n",
    "    return A"
   ]
  },
  {
   "cell_type": "code",
   "execution_count": 12,
   "id": "94fa8c6b",
   "metadata": {},
   "outputs": [],
   "source": [
    "def ITERATIVE_INVERSE_FFT(a):\n",
    "    A = [0]*len(a)\n",
    "    BIT_REVERSE_COPY(a,A)\n",
    "    n = len(a)\n",
    "    \n",
    "    s = 1\n",
    "    while s <= np.log2(n):\n",
    "        m = pow(2,s)\n",
    "        wm = np.exp((2j*np.pi)/m)\n",
    "        k = 0\n",
    "        while k <= n-1:\n",
    "            w = 1\n",
    "            j = 0\n",
    "            while j <= m/2-1:\n",
    "                t = w*A[int(k+j+m/2)]\n",
    "                u = A[int(k+j)]\n",
    "                A[int(k+j)] = u+t\n",
    "                A[int(k+j+m/2)] = u-t\n",
    "                w = w*wm\n",
    "                j+=1\n",
    "            k+=m\n",
    "        s+=1\n",
    "    return A"
   ]
  },
  {
   "cell_type": "code",
   "execution_count": 13,
   "id": "16f3df46",
   "metadata": {},
   "outputs": [],
   "source": [
    "def ITERATIVE_CONVOLUTION(A,B):\n",
    "    if (len(A)!=len(B)) or np.log2(len(A))%1 > 0:\n",
    "        raise ValueError(\"Both coefficient representations must have same size and be power of 2\")\n",
    "    \n",
    "    # Double degree bound\n",
    "    n = len(A)\n",
    "    for i in range (0,n):\n",
    "        A.append(0)\n",
    "        B.append(0)\n",
    "    \n",
    "    # Evaluate using FFT\n",
    "    FFTA = ITERATIVE_FFT(A)\n",
    "    FFTB = ITERATIVE_FFT(B)\n",
    "    \n",
    "    n = len(A)\n",
    "    \n",
    "    # Point-Wise Multiplication\n",
    "    FC = []\n",
    "    for i in range (0,n):\n",
    "        FC.append(FFTA[i]*FFTB[i])\n",
    "        \n",
    "    # Interpolate\n",
    "    F = ITERATIVE_INVERSE_FFT(FC)\n",
    "    for i in range (0,n):\n",
    "        F[i] = F[i]*(1/n)  \n",
    "    \n",
    "    return F"
   ]
  },
  {
   "cell_type": "code",
   "execution_count": 14,
   "id": "773acc95",
   "metadata": {},
   "outputs": [],
   "source": [
    "A = [3,2,1,1]\n",
    "B = [5,0,2,1]\n",
    "S2 = np.polymul(A,B)\n",
    "S1 = ITERATIVE_CONVOLUTION(A,B)"
   ]
  },
  {
   "cell_type": "code",
   "execution_count": 15,
   "id": "e8d78a24",
   "metadata": {},
   "outputs": [
    {
     "data": {
      "text/plain": [
       "True"
      ]
     },
     "execution_count": 15,
     "metadata": {},
     "output_type": "execute_result"
    }
   ],
   "source": [
    "np.allclose(S1[0:len(S2)],S2,rtol=1e-05,atol=1e-08,equal_nan=False)"
   ]
  },
  {
   "cell_type": "code",
   "execution_count": 16,
   "id": "096f8a36",
   "metadata": {},
   "outputs": [
    {
     "name": "stdout",
     "output_type": "stream",
     "text": [
      "Case 1 :\n",
      "\t Recursive Solution: True\n",
      "\t Iterative Solution: True\n",
      "Case 2 :\n",
      "\t Recursive Solution: True\n",
      "\t Iterative Solution: True\n",
      "Case 3 :\n",
      "\t Recursive Solution: True\n",
      "\t Iterative Solution: True\n",
      "Case 4 :\n",
      "\t Recursive Solution: True\n",
      "\t Iterative Solution: True\n",
      "Case 5 :\n",
      "\t Recursive Solution: True\n",
      "\t Iterative Solution: True\n",
      "Case 6 :\n",
      "\t Recursive Solution: True\n",
      "\t Iterative Solution: True\n",
      "Case 7 :\n",
      "\t Recursive Solution: True\n",
      "\t Iterative Solution: True\n",
      "Case 8 :\n",
      "\t Recursive Solution: True\n",
      "\t Iterative Solution: True\n",
      "Case 9 :\n",
      "\t Recursive Solution: True\n",
      "\t Iterative Solution: True\n",
      "Case 10 :\n",
      "\t Recursive Solution: True\n",
      "\t Iterative Solution: True\n"
     ]
    }
   ],
   "source": [
    "for i in range (10):\n",
    "    A = np.random.random(1024)\n",
    "    A = A.tolist()\n",
    "    B = np.random.random(1024)\n",
    "    B = B.tolist()\n",
    "    S = np.polymul(A,B)\n",
    "    SR = RECURSIVE_CONVOLUTION(A,B)\n",
    "    SI = ITERATIVE_CONVOLUTION(A,B)\n",
    "    print(\"Case\", i+1, \":\")\n",
    "    print(\"\\t\",\"Recursive Solution:\", np.allclose(SR[0:len(S)],S,rtol=1e-05,atol=1e-08,equal_nan=False))\n",
    "    print(\"\\t\",\"Iterative Solution:\", np.allclose(SI[0:len(S)],S,rtol=1e-05,atol=1e-08,equal_nan=False))"
   ]
  },
  {
   "cell_type": "code",
   "execution_count": 17,
   "id": "d45efba4",
   "metadata": {},
   "outputs": [],
   "source": [
    "A1 = np.random.random(2048) # 2^11\n",
    "B1 = np.random.random(2048)\n",
    "A1 = A1.tolist()\n",
    "B1 = B1.tolist()\n",
    "A2 = np.random.random(1024) # 2^10\n",
    "B2 = np.random.random(1024)\n",
    "A2 = A2.tolist()\n",
    "B2 = B2.tolist()\n",
    "A3 = np.random.random(8192) # 2^13\n",
    "B3 = np.random.random(8192)\n",
    "A3 = A3.tolist()\n",
    "B3 = B3.tolist()"
   ]
  },
  {
   "cell_type": "code",
   "execution_count": 18,
   "id": "8b7dbcb3",
   "metadata": {},
   "outputs": [],
   "source": [
    "def unitest(A,B):\n",
    "    S = np.polymul(A,B)\n",
    "    SR = RECURSIVE_CONVOLUTION(A,B)\n",
    "    SI = ITERATIVE_CONVOLUTION(A,B)\n",
    "    print (\"Input: \\n\", \"A:\", np.asarray(A), \"\\n\", \"B:\", np.asarray(B))\n",
    "    print(\"\\t\",\"Recursive Solution:\", np.allclose(SR[0:len(S)],S,rtol=1e-05,atol=1e-08,equal_nan=False))\n",
    "    print(\"\\t\",\"Iterative Solution:\", np.allclose(SI[0:len(S)],S,rtol=1e-05,atol=1e-08,equal_nan=False))\n",
    "    print(\"\\n Output: \\n\")\n",
    "    print(\"Numpy: \\n\", np.asarray(S))\n",
    "    print(\"Recursive: \\n\", np.asarray(SR))\n",
    "    print(\"Iterative: \\n\", np.asarray(SI))"
   ]
  },
  {
   "cell_type": "code",
   "execution_count": 19,
   "id": "329f76b2",
   "metadata": {
    "scrolled": true
   },
   "outputs": [
    {
     "name": "stdout",
     "output_type": "stream",
     "text": [
      "Input: \n",
      " A: [0.74567901 0.42716859 0.83864014 ... 0.         0.         0.        ] \n",
      " B: [0.25796635 0.2640148  0.448177   ... 0.         0.         0.        ]\n",
      "\t Recursive Solution: True\n",
      "\t Iterative Solution: True\n",
      "\n",
      " Output: \n",
      "\n",
      "Numpy: \n",
      " [0.19236009 0.30706542 0.66331594 ... 0.81945899 0.39836784 0.63093124]\n",
      "Recursive: \n",
      " [1.92360090e-01+2.19485367e-12j 3.07065416e-01+2.37576061e-12j\n",
      " 6.63315944e-01+2.54853844e-12j ... 3.98367836e-01+5.45494595e-12j\n",
      " 6.30931243e-01+5.65826654e-12j 1.99833039e-10+4.61609918e-12j]\n",
      "Iterative: \n",
      " [1.92360090e-01-4.24670975e-12j 3.07065416e-01-4.19110210e-12j\n",
      " 6.63315944e-01-4.17457674e-12j ... 1.13043463e-11-1.30006762e-11j\n",
      " 1.13763443e-11-1.30207429e-11j 1.14209843e-11-1.31035742e-11j]\n"
     ]
    }
   ],
   "source": [
    "unitest(A1,B1)"
   ]
  },
  {
   "cell_type": "code",
   "execution_count": 20,
   "id": "bfc88f68",
   "metadata": {},
   "outputs": [
    {
     "name": "stdout",
     "output_type": "stream",
     "text": [
      "Input: \n",
      " A: [0.46312433 0.16717358 0.38295353 ... 0.         0.         0.        ] \n",
      " B: [0.10389584 0.56885436 0.2258708  ... 0.         0.         0.        ]\n",
      "\t Recursive Solution: True\n",
      "\t Iterative Solution: True\n",
      "\n",
      " Output: \n",
      "\n",
      "Numpy: \n",
      " [0.04811669 0.28081894 0.23949096 ... 1.34739651 1.12482685 0.79462368]\n",
      "Recursive: \n",
      " [ 4.81166907e-02-7.74510664e-13j  2.80818935e-01-8.52423422e-13j\n",
      "  2.39490961e-01-7.84187912e-13j ...  1.12482685e+00-2.24130722e-12j\n",
      "  7.94623676e-01-2.14606307e-12j -5.65307801e-11-1.52979166e-12j]\n",
      "Iterative: \n",
      " [4.81166907e-02-3.54249095e-12j 2.80818935e-01-3.65692016e-12j\n",
      " 2.39490961e-01-3.53320400e-12j ... 2.00695016e-12-3.44816456e-12j\n",
      " 1.92795779e-12-3.37623799e-12j 1.98772371e-12-3.49074296e-12j]\n"
     ]
    }
   ],
   "source": [
    "unitest(A2,B2)"
   ]
  },
  {
   "cell_type": "code",
   "execution_count": 21,
   "id": "c0824974",
   "metadata": {},
   "outputs": [
    {
     "name": "stdout",
     "output_type": "stream",
     "text": [
      "Input: \n",
      " A: [0.05665022 0.4304864  0.73375027 ... 0.         0.         0.        ] \n",
      " B: [0.25626075 0.50503733 0.04738541 ... 0.         0.         0.        ]\n",
      "\t Recursive Solution: True\n",
      "\t Iterative Solution: True\n",
      "\n",
      " Output: \n",
      "\n",
      "Numpy: \n",
      " [0.01451723 0.13892725 0.4081275  ... 1.05071733 0.37688471 0.40818471]\n",
      "Recursive: \n",
      " [ 1.45172260e-02-5.13906626e-13j  1.38927244e-01+5.09954973e-13j\n",
      "  4.08127492e-01+4.74030169e-12j ...  3.76884703e-01-7.69462218e-12j\n",
      "  4.08184701e-01-9.16294990e-13j -5.23459676e-09+2.41890829e-12j]\n",
      "Iterative: \n",
      " [ 1.45172284e-02+3.75023448e-10j  1.38927246e-01+3.71747752e-10j\n",
      "  4.08127495e-01+3.77760109e-10j ... -4.10948636e-10+5.30681301e-10j\n",
      " -4.13139939e-10+5.37767841e-10j -4.09338953e-10+5.28422001e-10j]\n"
     ]
    }
   ],
   "source": [
    "unitest(A3,B3)"
   ]
  },
  {
   "cell_type": "code",
   "execution_count": 22,
   "id": "113bb01d",
   "metadata": {},
   "outputs": [],
   "source": [
    "A4 = np.random.random(32768) # 2^15\n",
    "B4 = np.random.random(32768)\n",
    "A4 = A4.tolist()\n",
    "B4 = B4.tolist()\n",
    "A5 = np.random.random(131072) # 2^17\n",
    "B5 = np.random.random(131072)\n",
    "A5 = A5.tolist()\n",
    "B5 = B5.tolist()\n",
    "\n",
    "def unitest2(A,B):\n",
    "    S = np.polymul(A,B)\n",
    "    SI = ITERATIVE_CONVOLUTION(A,B)\n",
    "    print (\"Input: \\n\", \"A:\", np.asarray(A), \"\\n\", \"B:\", np.asarray(B))\n",
    "    print(\"\\t\",\"Iterative Solution:\", np.allclose(SI[0:len(S)],S,rtol=1e-05,atol=1e-08,equal_nan=False))\n",
    "    print(\"\\n Output: \\n\")\n",
    "    print(\"Numpy: \\n\", np.asarray(S))\n",
    "    print(\"Iterative: \\n\", np.asarray(SI))"
   ]
  },
  {
   "cell_type": "code",
   "execution_count": 24,
   "id": "62881d46",
   "metadata": {},
   "outputs": [
    {
     "name": "stdout",
     "output_type": "stream",
     "text": [
      "Input: \n",
      " A: [0.67190028 0.07042499 0.86666143 ... 0.         0.         0.        ] \n",
      " B: [0.34024541 0.84426884 0.56223703 ... 0.         0.         0.        ]\n",
      "\t Iterative Solution: True\n",
      "\n",
      " Output: \n",
      "\n",
      "Numpy: \n",
      " [0.22861099 0.59122625 0.73210242 ... 0.         0.         0.        ]\n",
      "Iterative: \n",
      " [2.28610989e-01-4.23653132e-09j 5.91226255e-01-4.16360065e-09j\n",
      " 7.32102423e-01-4.24956610e-09j ... 3.69597537e-11-8.93674448e-10j\n",
      " 5.58507892e-11-9.62360232e-10j 3.51363355e-11-8.81404123e-10j]\n"
     ]
    }
   ],
   "source": [
    "unitest2(A4,B4)"
   ]
  },
  {
   "cell_type": "code",
   "execution_count": 25,
   "id": "0e25ab27",
   "metadata": {},
   "outputs": [
    {
     "name": "stdout",
     "output_type": "stream",
     "text": [
      "Input: \n",
      " A: [0.61019576 0.89804163 0.8757521  ... 0.         0.         0.        ] \n",
      " B: [0.35731999 0.12891496 0.47110385 ... 0.         0.         0.        ]\n",
      "\t Iterative Solution: True\n",
      "\n",
      " Output: \n",
      "\n",
      "Numpy: \n",
      " [0.21803514 0.39955158 0.7161603  ... 0.97705647 0.54336369 0.53004141]\n",
      "Iterative: \n",
      " [2.18035160e-01+2.08977720e-10j 3.99551603e-01+2.97004785e-11j\n",
      " 7.16160319e-01+2.13914363e-10j ... 5.43363786e-01-1.44650086e-11j\n",
      " 5.30041500e-01+1.49538974e-10j 9.06002242e-08-6.99891215e-11j]\n"
     ]
    }
   ],
   "source": [
    "unitest2(A5,B5)"
   ]
  },
  {
   "cell_type": "code",
   "execution_count": 29,
   "id": "dde4e29d",
   "metadata": {},
   "outputs": [
    {
     "name": "stdout",
     "output_type": "stream",
     "text": [
      "Size of N 2\n",
      "Average Time: 0.030400244900101826\n",
      "Standard Deviation: 0.06195259833138895\n",
      "\n",
      "\n",
      "Size of N 4\n",
      "Average Time: 0.019209442299779767\n",
      "Standard Deviation: 0.031180883324244475\n",
      "\n",
      "\n",
      "Size of N 8\n",
      "Average Time: 0.04163716730017768\n",
      "Standard Deviation: 0.06738677297284106\n",
      "\n",
      "\n",
      "Size of N 16\n",
      "Average Time: 0.08927487399987513\n",
      "Standard Deviation: 0.14539602418841532\n",
      "\n",
      "\n",
      "Size of N 32\n",
      "Average Time: 0.19235024299987344\n",
      "Standard Deviation: 0.31183207850056643\n",
      "\n",
      "\n",
      "Size of N 64\n",
      "Average Time: 0.401094406899756\n",
      "Standard Deviation: 0.6389681834724148\n",
      "\n",
      "\n",
      "Size of N 128\n",
      "Average Time: 0.8414097208002204\n",
      "Standard Deviation: 1.3486561014390892\n",
      "\n",
      "\n",
      "Size of N 256\n",
      "Average Time: 1.8357663106000472\n",
      "Standard Deviation: 2.959723901628359\n",
      "\n",
      "\n",
      "Size of N 512\n",
      "Average Time: 3.7138247564999802\n",
      "Standard Deviation: 5.920570433751573\n",
      "\n",
      "\n",
      "Size of N 1024\n",
      "Average Time: 7.9705723978999234\n",
      "Standard Deviation: 12.781655664302042\n",
      "\n",
      "\n",
      "Size of N 2048\n",
      "Average Time: 17.189995763000024\n",
      "Standard Deviation: 27.810203018716045\n",
      "\n",
      "\n",
      "Size of N 4096\n",
      "Average Time: 36.173929070099895\n",
      "Standard Deviation: 56.71719479293871\n",
      "\n",
      "\n"
     ]
    },
    {
     "ename": "KeyboardInterrupt",
     "evalue": "",
     "output_type": "error",
     "traceback": [
      "\u001b[0;31m---------------------------------------------------------------------------\u001b[0m",
      "\u001b[0;31mKeyboardInterrupt\u001b[0m                         Traceback (most recent call last)",
      "\u001b[0;32m/tmp/ipykernel_28976/3039460903.py\u001b[0m in \u001b[0;36m<module>\u001b[0;34m\u001b[0m\n\u001b[1;32m     11\u001b[0m     \u001b[0;32mfor\u001b[0m \u001b[0mj\u001b[0m \u001b[0;32min\u001b[0m \u001b[0mrange\u001b[0m \u001b[0;34m(\u001b[0m\u001b[0;36m10\u001b[0m\u001b[0;34m)\u001b[0m\u001b[0;34m:\u001b[0m\u001b[0;34m\u001b[0m\u001b[0;34m\u001b[0m\u001b[0m\n\u001b[1;32m     12\u001b[0m         \u001b[0mstart\u001b[0m \u001b[0;34m=\u001b[0m \u001b[0mtimer\u001b[0m\u001b[0;34m(\u001b[0m\u001b[0;34m)\u001b[0m\u001b[0;34m\u001b[0m\u001b[0;34m\u001b[0m\u001b[0m\n\u001b[0;32m---> 13\u001b[0;31m         \u001b[0mS\u001b[0m \u001b[0;34m=\u001b[0m \u001b[0mITERATIVE_CONVOLUTION\u001b[0m\u001b[0;34m(\u001b[0m\u001b[0mA\u001b[0m\u001b[0;34m,\u001b[0m\u001b[0mB\u001b[0m\u001b[0;34m)\u001b[0m\u001b[0;34m\u001b[0m\u001b[0;34m\u001b[0m\u001b[0m\n\u001b[0m\u001b[1;32m     14\u001b[0m         \u001b[0mend\u001b[0m \u001b[0;34m=\u001b[0m \u001b[0mtimer\u001b[0m\u001b[0;34m(\u001b[0m\u001b[0;34m)\u001b[0m\u001b[0;34m\u001b[0m\u001b[0;34m\u001b[0m\u001b[0m\n\u001b[1;32m     15\u001b[0m         \u001b[0mtime\u001b[0m \u001b[0;34m=\u001b[0m \u001b[0mend\u001b[0m\u001b[0;34m-\u001b[0m\u001b[0mstart\u001b[0m\u001b[0;34m\u001b[0m\u001b[0;34m\u001b[0m\u001b[0m\n",
      "\u001b[0;32m/tmp/ipykernel_28976/4143548822.py\u001b[0m in \u001b[0;36mITERATIVE_CONVOLUTION\u001b[0;34m(A, B)\u001b[0m\n\u001b[1;32m     11\u001b[0m     \u001b[0;31m# Evaluate using FFT\u001b[0m\u001b[0;34m\u001b[0m\u001b[0;34m\u001b[0m\u001b[0;34m\u001b[0m\u001b[0m\n\u001b[1;32m     12\u001b[0m     \u001b[0mFFTA\u001b[0m \u001b[0;34m=\u001b[0m \u001b[0mITERATIVE_FFT\u001b[0m\u001b[0;34m(\u001b[0m\u001b[0mA\u001b[0m\u001b[0;34m)\u001b[0m\u001b[0;34m\u001b[0m\u001b[0;34m\u001b[0m\u001b[0m\n\u001b[0;32m---> 13\u001b[0;31m     \u001b[0mFFTB\u001b[0m \u001b[0;34m=\u001b[0m \u001b[0mITERATIVE_FFT\u001b[0m\u001b[0;34m(\u001b[0m\u001b[0mB\u001b[0m\u001b[0;34m)\u001b[0m\u001b[0;34m\u001b[0m\u001b[0;34m\u001b[0m\u001b[0m\n\u001b[0m\u001b[1;32m     14\u001b[0m \u001b[0;34m\u001b[0m\u001b[0m\n\u001b[1;32m     15\u001b[0m     \u001b[0mn\u001b[0m \u001b[0;34m=\u001b[0m \u001b[0mlen\u001b[0m\u001b[0;34m(\u001b[0m\u001b[0mA\u001b[0m\u001b[0;34m)\u001b[0m\u001b[0;34m\u001b[0m\u001b[0;34m\u001b[0m\u001b[0m\n",
      "\u001b[0;32m/tmp/ipykernel_28976/3877920520.py\u001b[0m in \u001b[0;36mITERATIVE_FFT\u001b[0;34m(a)\u001b[0m\n\u001b[1;32m     15\u001b[0m                 \u001b[0mt\u001b[0m \u001b[0;34m=\u001b[0m \u001b[0mw\u001b[0m\u001b[0;34m*\u001b[0m\u001b[0mA\u001b[0m\u001b[0;34m[\u001b[0m\u001b[0mint\u001b[0m\u001b[0;34m(\u001b[0m\u001b[0mk\u001b[0m\u001b[0;34m+\u001b[0m\u001b[0mj\u001b[0m\u001b[0;34m+\u001b[0m\u001b[0mm\u001b[0m\u001b[0;34m/\u001b[0m\u001b[0;36m2\u001b[0m\u001b[0;34m)\u001b[0m\u001b[0;34m]\u001b[0m\u001b[0;34m\u001b[0m\u001b[0;34m\u001b[0m\u001b[0m\n\u001b[1;32m     16\u001b[0m                 \u001b[0mu\u001b[0m \u001b[0;34m=\u001b[0m \u001b[0mA\u001b[0m\u001b[0;34m[\u001b[0m\u001b[0mint\u001b[0m\u001b[0;34m(\u001b[0m\u001b[0mk\u001b[0m\u001b[0;34m+\u001b[0m\u001b[0mj\u001b[0m\u001b[0;34m)\u001b[0m\u001b[0;34m]\u001b[0m\u001b[0;34m\u001b[0m\u001b[0;34m\u001b[0m\u001b[0m\n\u001b[0;32m---> 17\u001b[0;31m                 \u001b[0mA\u001b[0m\u001b[0;34m[\u001b[0m\u001b[0mint\u001b[0m\u001b[0;34m(\u001b[0m\u001b[0mk\u001b[0m\u001b[0;34m+\u001b[0m\u001b[0mj\u001b[0m\u001b[0;34m)\u001b[0m\u001b[0;34m]\u001b[0m \u001b[0;34m=\u001b[0m \u001b[0mu\u001b[0m\u001b[0;34m+\u001b[0m\u001b[0mt\u001b[0m\u001b[0;34m\u001b[0m\u001b[0;34m\u001b[0m\u001b[0m\n\u001b[0m\u001b[1;32m     18\u001b[0m                 \u001b[0mA\u001b[0m\u001b[0;34m[\u001b[0m\u001b[0mint\u001b[0m\u001b[0;34m(\u001b[0m\u001b[0mk\u001b[0m\u001b[0;34m+\u001b[0m\u001b[0mj\u001b[0m\u001b[0;34m+\u001b[0m\u001b[0mm\u001b[0m\u001b[0;34m/\u001b[0m\u001b[0;36m2\u001b[0m\u001b[0;34m)\u001b[0m\u001b[0;34m]\u001b[0m \u001b[0;34m=\u001b[0m \u001b[0mu\u001b[0m\u001b[0;34m-\u001b[0m\u001b[0mt\u001b[0m\u001b[0;34m\u001b[0m\u001b[0;34m\u001b[0m\u001b[0m\n\u001b[1;32m     19\u001b[0m                 \u001b[0mw\u001b[0m \u001b[0;34m=\u001b[0m \u001b[0mw\u001b[0m\u001b[0;34m*\u001b[0m\u001b[0mwm\u001b[0m\u001b[0;34m\u001b[0m\u001b[0;34m\u001b[0m\u001b[0m\n",
      "\u001b[0;31mKeyboardInterrupt\u001b[0m: "
     ]
    }
   ],
   "source": [
    "from timeit import default_timer as timer\n",
    "\n",
    "N = 2 \n",
    "for i in range (15):\n",
    "    A = np.random.random(N)\n",
    "    B = np.random.random(N)\n",
    "    A = A.tolist()\n",
    "    B = B.tolist()\n",
    "    \n",
    "    \n",
    "    times = []\n",
    "    for j in range (10):\n",
    "        start = timer()\n",
    "        S = ITERATIVE_CONVOLUTION(A,B)\n",
    "        end = timer()\n",
    "        time = end-start\n",
    "        times.append(time)\n",
    "    \n",
    "    average = np.mean(times)\n",
    "    deviation = np.std(times)\n",
    "    \n",
    "    print(\"Size of N\", N)\n",
    "    print(\"Average Time:\", average)\n",
    "    print(\"Standard Deviation:\", deviation)\n",
    "    print(\"\\n\")\n",
    "    N*=2"
   ]
  },
  {
   "cell_type": "code",
   "execution_count": 34,
   "id": "b402cc2e",
   "metadata": {},
   "outputs": [],
   "source": [
    "def ITERATIVE_CONVOLUTION2(A,B):    \n",
    "    # Evaluate using FFT\n",
    "    FFTA = ITERATIVE_FFT(A)\n",
    "    FFTB = ITERATIVE_FFT(B)\n",
    "    \n",
    "    n = len(A)\n",
    "    \n",
    "    # Point-Wise Multiplication\n",
    "    FC = []\n",
    "    for i in range (0,n):\n",
    "        FC.append(FFTA[i]*FFTB[i])\n",
    "        \n",
    "    # Interpolate\n",
    "    F = ITERATIVE_INVERSE_FFT(FC)\n",
    "\n",
    "    return F"
   ]
  },
  {
   "cell_type": "code",
   "execution_count": 36,
   "id": "d1349fcd",
   "metadata": {},
   "outputs": [
    {
     "name": "stdout",
     "output_type": "stream",
     "text": [
      "Size of N 2\n",
      "Average Time: 0.00041064500001084523\n",
      "Standard Deviation: 0.0010467618477896581\n",
      "\n",
      "\n",
      "Size of N 4\n",
      "Average Time: 0.0001625653000701277\n",
      "Standard Deviation: 5.869787404954675e-05\n",
      "\n",
      "\n",
      "Size of N 8\n",
      "Average Time: 0.0002329482000277494\n",
      "Standard Deviation: 2.0856667959705398e-05\n",
      "\n",
      "\n",
      "Size of N 16\n",
      "Average Time: 0.0005800605000331416\n",
      "Standard Deviation: 0.00015750598663067378\n",
      "\n",
      "\n",
      "Size of N 32\n",
      "Average Time: 0.0010646675002135453\n",
      "Standard Deviation: 9.834163701536125e-05\n",
      "\n",
      "\n",
      "Size of N 64\n",
      "Average Time: 0.0021999719998348154\n",
      "Standard Deviation: 0.00015993857597299007\n",
      "\n",
      "\n",
      "Size of N 128\n",
      "Average Time: 0.004629416200168634\n",
      "Standard Deviation: 4.259312863119057e-05\n",
      "\n",
      "\n",
      "Size of N 256\n",
      "Average Time: 0.010245481400033896\n",
      "Standard Deviation: 0.0001005938536301305\n",
      "\n",
      "\n",
      "Size of N 512\n",
      "Average Time: 0.02230287180009327\n",
      "Standard Deviation: 0.00031327570333500424\n",
      "\n",
      "\n",
      "Size of N 1024\n",
      "Average Time: 0.047172959499766874\n",
      "Standard Deviation: 0.0007432197061259509\n",
      "\n",
      "\n",
      "Size of N 2048\n",
      "Average Time: 0.10659039850006594\n",
      "Standard Deviation: 0.0087655697552925\n",
      "\n",
      "\n",
      "Size of N 4096\n",
      "Average Time: 0.2366943951000394\n",
      "Standard Deviation: 0.017638536812417473\n",
      "\n",
      "\n",
      "Size of N 8192\n",
      "Average Time: 0.48730179309995947\n",
      "Standard Deviation: 0.03411094753141976\n",
      "\n",
      "\n",
      "Size of N 16384\n",
      "Average Time: 1.0264710055999786\n",
      "Standard Deviation: 0.08585437107256867\n",
      "\n",
      "\n",
      "Size of N 32768\n",
      "Average Time: 2.1115381540998897\n",
      "Standard Deviation: 0.03322173797039719\n",
      "\n",
      "\n",
      "Size of N 65536\n",
      "Average Time: 4.562282113999845\n",
      "Standard Deviation: 0.19401084234808288\n",
      "\n",
      "\n",
      "Size of N 131072\n",
      "Average Time: 9.607307113000115\n",
      "Standard Deviation: 0.25822360335246625\n",
      "\n",
      "\n",
      "Size of N 262144\n",
      "Average Time: 19.811323657600134\n",
      "Standard Deviation: 0.4137360866685898\n",
      "\n",
      "\n",
      "Size of N 524288\n",
      "Average Time: 43.526238708100024\n",
      "Standard Deviation: 1.2957055359545409\n",
      "\n",
      "\n",
      "Size of N 1048576\n",
      "Average Time: 89.50924947950007\n",
      "Standard Deviation: 3.611458089156712\n",
      "\n",
      "\n"
     ]
    }
   ],
   "source": [
    "N = 2 \n",
    "for i in range (20):\n",
    "    A = np.random.random(N)\n",
    "    B = np.random.random(N)\n",
    "    A = A.tolist()\n",
    "    B = B.tolist()\n",
    "    \n",
    "    # Double degree bound\n",
    "    n = len(A)\n",
    "    for i in range (0,n):\n",
    "        A.append(0)\n",
    "        B.append(0)\n",
    "    \n",
    "    times = []\n",
    "    for j in range (10):\n",
    "        \n",
    "        start = timer()\n",
    "        S = ITERATIVE_CONVOLUTION2(A,B)\n",
    "        end = timer()\n",
    "        time = end-start\n",
    "        times.append(time)\n",
    "    \n",
    "    average = np.mean(times)\n",
    "    deviation = np.std(times)\n",
    "    \n",
    "    print(\"Size of N\", N)\n",
    "    print(\"Average Time:\", average)\n",
    "    print(\"Standard Deviation:\", deviation)\n",
    "    print(\"\\n\")\n",
    "    N*=2"
   ]
  },
  {
   "cell_type": "code",
   "execution_count": null,
   "id": "3616fed9",
   "metadata": {},
   "outputs": [],
   "source": []
  }
 ],
 "metadata": {
  "kernelspec": {
   "display_name": "Python 3 (ipykernel)",
   "language": "python",
   "name": "python3"
  },
  "language_info": {
   "codemirror_mode": {
    "name": "ipython",
    "version": 3
   },
   "file_extension": ".py",
   "mimetype": "text/x-python",
   "name": "python",
   "nbconvert_exporter": "python",
   "pygments_lexer": "ipython3",
   "version": "3.8.10"
  }
 },
 "nbformat": 4,
 "nbformat_minor": 5
}
