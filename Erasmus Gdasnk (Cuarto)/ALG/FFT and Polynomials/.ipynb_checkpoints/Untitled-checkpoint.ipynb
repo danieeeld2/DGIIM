{
 "cells": [
  {
   "cell_type": "code",
   "execution_count": 1,
   "id": "89ef5c43",
   "metadata": {},
   "outputs": [],
   "source": [
    "import numpy as np\n",
    "import matplotlib.pyplot as plt\n",
    "from numpy.fft import fft, ifft"
   ]
  },
  {
   "cell_type": "code",
   "execution_count": 2,
   "id": "24538e31",
   "metadata": {},
   "outputs": [],
   "source": [
    "def RECURSIVE_FFT(A,m,w):\n",
    "    if m==1:\n",
    "        return A\n",
    "    else:\n",
    "        A_even = A[::2]\n",
    "        A_odd = A[1::2]\n",
    "        F_even = RECURSIVE_FFT(A_even,m/2,w**2)\n",
    "        F_odd = RECURSIVE_FFT(A_odd,m/2,w**2)\n",
    "        F = [0]*int(m)\n",
    "        x = 1\n",
    "        for j in range (0,int(m/2)):\n",
    "            F[j] = F_even[j] + x*F_odd[j]\n",
    "            F[int(j+m/2)] = F_even[j] - x*F_odd[j]\n",
    "            x = x * w\n",
    "        return F"
   ]
  },
  {
   "cell_type": "code",
   "execution_count": 3,
   "id": "9c48bb01",
   "metadata": {},
   "outputs": [],
   "source": [
    "def RECURSIVE_CONVOLUTION(A,B):\n",
    "    if (len(A)!=len(B)) or np.log2(len(A))%1 > 0:\n",
    "        raise ValueError(\"Both coefficient representations must have same size and be power of 2\")\n",
    "    \n",
    "    # Double degree bound\n",
    "    n = len(A)\n",
    "    for i in range (0,n):\n",
    "        A.append(0)\n",
    "        B.append(0)\n",
    "    \n",
    "    n = len(A)\n",
    "    wn = np.exp((-2j*np.pi)/n)\n",
    "    \n",
    "    # Evaluate using FFT\n",
    "    FFTA = RECURSIVE_FFT(A,n,wn)\n",
    "    FFTB = RECURSIVE_FFT(B,n,wn)\n",
    "    \n",
    "    # Point-Wise Multiplication\n",
    "    FC = []\n",
    "    for i in range (0,n):\n",
    "        FC.append(FFTA[i]*FFTB[i])\n",
    "        \n",
    "    # Interpolate\n",
    "    F = RECURSIVE_FFT(FC,n,wn**(-1))\n",
    "    for i in range (0,n):\n",
    "        F[i] = F[i]*(1/n)  \n",
    "    \n",
    "    return F"
   ]
  },
  {
   "cell_type": "code",
   "execution_count": 4,
   "id": "e9fd7cd9",
   "metadata": {},
   "outputs": [],
   "source": [
    "A = [3,2,1,1]\n",
    "B = [5,0,2,1]\n",
    "S2 = np.polymul(A,B)\n",
    "S1 = RECURSIVE_CONVOLUTION(A,B)"
   ]
  },
  {
   "cell_type": "code",
   "execution_count": 5,
   "id": "622c4e1f",
   "metadata": {},
   "outputs": [
    {
     "data": {
      "text/plain": [
       "True"
      ]
     },
     "execution_count": 5,
     "metadata": {},
     "output_type": "execute_result"
    }
   ],
   "source": [
    "np.allclose(S1[0:len(S2)],S2,rtol=1e-05,atol=1e-08,equal_nan=False)"
   ]
  },
  {
   "cell_type": "code",
   "execution_count": 6,
   "id": "7257648b",
   "metadata": {},
   "outputs": [
    {
     "data": {
      "text/plain": [
       "[(15-8.604228440844963e-16j),\n",
       " (10-6.106226635438361e-16j),\n",
       " (11-1.582067810090848e-15j),\n",
       " (11.999999999999998-9.43689570931383e-16j),\n",
       " (4+9.159339953157541e-16j),\n",
       " (2.9999999999999996+7.216449660063518e-16j),\n",
       " (1+1.5265566588595902e-15j),\n",
       " (1.7763568394002505e-15+8.326672684688674e-16j)]"
      ]
     },
     "execution_count": 6,
     "metadata": {},
     "output_type": "execute_result"
    }
   ],
   "source": [
    "S1"
   ]
  },
  {
   "cell_type": "code",
   "execution_count": 7,
   "id": "60b33b98",
   "metadata": {},
   "outputs": [
    {
     "data": {
      "text/plain": [
       "array([15, 10, 11, 12,  4,  3,  1])"
      ]
     },
     "execution_count": 7,
     "metadata": {},
     "output_type": "execute_result"
    }
   ],
   "source": [
    "S2"
   ]
  },
  {
   "cell_type": "code",
   "execution_count": 8,
   "id": "8fe09912",
   "metadata": {},
   "outputs": [],
   "source": [
    "def REV(n,bits):\n",
    "    result = 0\n",
    "    for i in range(int(np.log2(bits))):\n",
    "        result <<= 1\n",
    "        result |= n & 1\n",
    "        n >>= 1\n",
    "    return result"
   ]
  },
  {
   "cell_type": "code",
   "execution_count": 9,
   "id": "f9b76a1a",
   "metadata": {},
   "outputs": [],
   "source": [
    "def BIT_REVERSE_COPY(a,A):\n",
    "    n = len(a)\n",
    "    k = 0\n",
    "    while k<=n-1:\n",
    "        A[REV(k,n)] = a[k]\n",
    "        k+=1"
   ]
  },
  {
   "cell_type": "code",
   "execution_count": 10,
   "id": "99b7f476",
   "metadata": {},
   "outputs": [],
   "source": [
    "def ITERATIVE_FFT(a):\n",
    "    A = [0]*len(a)\n",
    "    BIT_REVERSE_COPY(a,A)\n",
    "    n = len(a)\n",
    "    \n",
    "    s = 1\n",
    "    while s <= np.log2(n):\n",
    "        m = pow(2,s)\n",
    "        wm = np.exp((-2j*np.pi)/m)\n",
    "        k = 0\n",
    "        while k <= n-1:\n",
    "            w = 1\n",
    "            j = 0\n",
    "            while j <= m/2-1:\n",
    "                t = w*A[int(k+j+m/2)]\n",
    "                u = A[int(k+j)]\n",
    "                A[int(k+j)] = u+t\n",
    "                A[int(k+j+m/2)] = u-t\n",
    "                w = w*wm\n",
    "                j+=1\n",
    "            k+=m\n",
    "        s+=1\n",
    "    return A"
   ]
  },
  {
   "cell_type": "code",
   "execution_count": 11,
   "id": "94fa8c6b",
   "metadata": {},
   "outputs": [],
   "source": [
    "def ITERATIVE_INVERSE_FFT(a):\n",
    "    A = [0]*len(a)\n",
    "    BIT_REVERSE_COPY(a,A)\n",
    "    n = len(a)\n",
    "    \n",
    "    s = 1\n",
    "    while s <= np.log2(n):\n",
    "        m = pow(2,s)\n",
    "        wm = np.exp((2j*np.pi)/m)\n",
    "        k = 0\n",
    "        while k <= n-1:\n",
    "            w = 1\n",
    "            j = 0\n",
    "            while j <= m/2-1:\n",
    "                t = w*A[int(k+j+m/2)]\n",
    "                u = A[int(k+j)]\n",
    "                A[int(k+j)] = u+t\n",
    "                A[int(k+j+m/2)] = u-t\n",
    "                w = w*wm\n",
    "                j+=1\n",
    "            k+=m\n",
    "        s+=1\n",
    "    return A"
   ]
  },
  {
   "cell_type": "code",
   "execution_count": 12,
   "id": "16f3df46",
   "metadata": {},
   "outputs": [],
   "source": [
    "def ITERATIVE_CONVOLUTION(A,B):\n",
    "    if (len(A)!=len(B)) or np.log2(len(A))%1 > 0:\n",
    "        raise ValueError(\"Both coefficient representations must have same size and be power of 2\")\n",
    "    \n",
    "    # Double degree bound\n",
    "    n = len(A)\n",
    "    for i in range (0,n):\n",
    "        A.append(0)\n",
    "        B.append(0)\n",
    "    \n",
    "    # Evaluate using FFT\n",
    "    FFTA = ITERATIVE_FFT(A)\n",
    "    FFTB = ITERATIVE_FFT(B)\n",
    "    \n",
    "    n = len(A)\n",
    "    \n",
    "    # Point-Wise Multiplication\n",
    "    FC = []\n",
    "    for i in range (0,n):\n",
    "        FC.append(FFTA[i]*FFTB[i])\n",
    "        \n",
    "    # Interpolate\n",
    "    F = ITERATIVE_INVERSE_FFT(FC)\n",
    "    for i in range (0,n):\n",
    "        F[i] = F[i]*(1/n)  \n",
    "    \n",
    "    return F"
   ]
  },
  {
   "cell_type": "code",
   "execution_count": 13,
   "id": "773acc95",
   "metadata": {},
   "outputs": [],
   "source": [
    "A = [3,2,1,1]\n",
    "B = [5,0,2,1]\n",
    "S2 = np.polymul(A,B)\n",
    "S1 = ITERATIVE_CONVOLUTION(A,B)"
   ]
  },
  {
   "cell_type": "code",
   "execution_count": 14,
   "id": "e8d78a24",
   "metadata": {},
   "outputs": [
    {
     "data": {
      "text/plain": [
       "True"
      ]
     },
     "execution_count": 14,
     "metadata": {},
     "output_type": "execute_result"
    }
   ],
   "source": [
    "np.allclose(S1[0:len(S2)],S2,rtol=1e-05,atol=1e-08,equal_nan=False)"
   ]
  },
  {
   "cell_type": "code",
   "execution_count": 15,
   "id": "096f8a36",
   "metadata": {},
   "outputs": [
    {
     "name": "stdout",
     "output_type": "stream",
     "text": [
      "Case 1 :\n",
      "\t Recursive Solution: True\n",
      "\t Iterative Solution: True\n",
      "Case 2 :\n",
      "\t Recursive Solution: True\n",
      "\t Iterative Solution: True\n",
      "Case 3 :\n",
      "\t Recursive Solution: True\n",
      "\t Iterative Solution: True\n",
      "Case 4 :\n",
      "\t Recursive Solution: True\n",
      "\t Iterative Solution: True\n",
      "Case 5 :\n",
      "\t Recursive Solution: True\n",
      "\t Iterative Solution: True\n",
      "Case 6 :\n",
      "\t Recursive Solution: True\n",
      "\t Iterative Solution: True\n",
      "Case 7 :\n",
      "\t Recursive Solution: True\n",
      "\t Iterative Solution: True\n",
      "Case 8 :\n",
      "\t Recursive Solution: True\n",
      "\t Iterative Solution: True\n",
      "Case 9 :\n",
      "\t Recursive Solution: True\n",
      "\t Iterative Solution: True\n",
      "Case 10 :\n",
      "\t Recursive Solution: True\n",
      "\t Iterative Solution: True\n"
     ]
    }
   ],
   "source": [
    "for i in range (10):\n",
    "    A = np.random.random(1024)\n",
    "    A = A.tolist()\n",
    "    B = np.random.random(1024)\n",
    "    B = B.tolist()\n",
    "    S = np.polymul(A,B)\n",
    "    SR = RECURSIVE_CONVOLUTION(A,B)\n",
    "    SI = ITERATIVE_CONVOLUTION(A,B)\n",
    "    print(\"Case\", i+1, \":\")\n",
    "    print(\"\\t\",\"Recursive Solution:\", np.allclose(SR[0:len(S)],S,rtol=1e-05,atol=1e-08,equal_nan=False))\n",
    "    print(\"\\t\",\"Iterative Solution:\", np.allclose(SI[0:len(S)],S,rtol=1e-05,atol=1e-08,equal_nan=False))"
   ]
  },
  {
   "cell_type": "code",
   "execution_count": 16,
   "id": "d45efba4",
   "metadata": {},
   "outputs": [],
   "source": [
    "A1 = np.random.random(2048) # 2^11\n",
    "B1 = np.random.random(2048)\n",
    "A1 = A1.tolist()\n",
    "B1 = B1.tolist()\n",
    "A2 = np.random.random(1024) # 2^10\n",
    "B2 = np.random.random(1024)\n",
    "A2 = A2.tolist()\n",
    "B2 = B2.tolist()\n",
    "A3 = np.random.random(8192) # 2^13\n",
    "B3 = np.random.random(8192)\n",
    "A3 = A3.tolist()\n",
    "B3 = B3.tolist()"
   ]
  },
  {
   "cell_type": "code",
   "execution_count": 17,
   "id": "8b7dbcb3",
   "metadata": {},
   "outputs": [],
   "source": [
    "def unitest(A,B):\n",
    "    S = np.polymul(A,B)\n",
    "    SR = RECURSIVE_CONVOLUTION(A,B)\n",
    "    SI = ITERATIVE_CONVOLUTION(A,B)\n",
    "    print (\"Input: \\n\", \"A:\", np.asarray(A), \"\\n\", \"B:\", np.asarray(B))\n",
    "    print(\"\\t\",\"Recursive Solution:\", np.allclose(SR[0:len(S)],S,rtol=1e-05,atol=1e-08,equal_nan=False))\n",
    "    print(\"\\t\",\"Iterative Solution:\", np.allclose(SI[0:len(S)],S,rtol=1e-05,atol=1e-08,equal_nan=False))\n",
    "    print(\"\\n Output: \\n\")\n",
    "    print(\"Numpy: \\n\", np.asarray(S))\n",
    "    print(\"Recursive: \\n\", np.asarray(SR))\n",
    "    print(\"Iterative: \\n\", np.asarray(SI))"
   ]
  },
  {
   "cell_type": "code",
   "execution_count": 18,
   "id": "329f76b2",
   "metadata": {
    "scrolled": true
   },
   "outputs": [
    {
     "name": "stdout",
     "output_type": "stream",
     "text": [
      "Input: \n",
      " A: [0.67404283 0.73722285 0.06200824 ... 0.         0.         0.        ] \n",
      " B: [0.3754898  0.69116655 0.24803506 ... 0.         0.         0.        ]\n",
      "\t Recursive Solution: True\n",
      "\t Iterative Solution: True\n",
      "\n",
      " Output: \n",
      "\n",
      "Numpy: \n",
      " [0.25309621 0.74269552 0.70001349 ... 1.01089601 0.76121805 0.42087152]\n",
      "Recursive: \n",
      " [2.53096211e-01+1.80548979e-12j 7.42695524e-01+1.59581420e-12j\n",
      " 7.00013492e-01+1.68299117e-12j ... 7.61218050e-01+4.07573347e-12j\n",
      " 4.20871517e-01+4.15624417e-12j 2.03954187e-10+3.45484946e-12j]\n",
      "Iterative: \n",
      " [2.53096211e-01-4.31208715e-12j 7.42695523e-01-4.14332636e-12j\n",
      " 7.00013492e-01-4.12450686e-12j ... 1.17507670e-11-1.33614418e-11j\n",
      " 1.16662791e-11-1.33406880e-11j 1.17443854e-11-1.34069878e-11j]\n"
     ]
    }
   ],
   "source": [
    "unitest(A1,B1)"
   ]
  },
  {
   "cell_type": "code",
   "execution_count": 19,
   "id": "bfc88f68",
   "metadata": {},
   "outputs": [
    {
     "name": "stdout",
     "output_type": "stream",
     "text": [
      "Input: \n",
      " A: [0.89119201 0.01594732 0.85950342 ... 0.         0.         0.        ] \n",
      " B: [0.23684825 0.30778079 0.02808243 ... 0.         0.         0.        ]\n",
      "\t Recursive Solution: True\n",
      "\t Iterative Solution: True\n",
      "\n",
      " Output: \n",
      "\n",
      "Numpy: \n",
      " [0.21107727 0.27806887 0.233507   ... 0.76793905 0.36245558 0.28365541]\n",
      "Recursive: \n",
      " [ 2.11077272e-01-7.38274025e-13j  2.78068873e-01-6.84004341e-13j\n",
      "  2.33506998e-01-5.50553320e-13j ...  3.62455580e-01-1.67657473e-12j\n",
      "  2.83655411e-01-1.39025921e-12j -5.14432941e-11-9.45000235e-13j]\n",
      "Iterative: \n",
      " [2.11077272e-01-3.43697466e-12j 2.78068873e-01-3.37186955e-12j\n",
      " 2.33506998e-01-3.39434319e-12j ... 1.82762139e-12-3.14783625e-12j\n",
      " 1.88715710e-12-3.18738617e-12j 1.87431127e-12-3.23836532e-12j]\n"
     ]
    }
   ],
   "source": [
    "unitest(A2,B2)"
   ]
  },
  {
   "cell_type": "code",
   "execution_count": 20,
   "id": "c0824974",
   "metadata": {},
   "outputs": [
    {
     "name": "stdout",
     "output_type": "stream",
     "text": [
      "Input: \n",
      " A: [0.00398711 0.49891897 0.48788787 ... 0.         0.         0.        ] \n",
      " B: [0.6289876  0.85411861 0.9538958  ... 0.         0.         0.        ]\n",
      "\t Recursive Solution: True\n",
      "\t Iterative Solution: True\n",
      "\n",
      " Output: \n",
      "\n",
      "Numpy: \n",
      " [0.00250784 0.31721931 0.73681468 ... 0.88851278 0.95491181 0.25938019]\n",
      "Recursive: \n",
      " [ 2.50784017e-03-5.22785790e-11j  3.17219306e-01-5.49314437e-11j\n",
      "  7.36814680e-01-5.54541915e-11j ...  9.54911805e-01-9.58559900e-11j\n",
      "  2.59380189e-01-9.54990414e-11j -5.17115950e-09-9.83795150e-11j]\n",
      "Iterative: \n",
      " [ 2.50784253e-03+3.60244924e-10j  3.17219308e-01+3.62690943e-10j\n",
      "  7.36814683e-01+3.62446810e-10j ... -4.07359313e-10+5.20430779e-10j\n",
      " -4.07066575e-10+5.20489126e-10j -4.04390486e-10+5.18098815e-10j]\n"
     ]
    }
   ],
   "source": [
    "unitest(A3,B3)"
   ]
  },
  {
   "cell_type": "code",
   "execution_count": 21,
   "id": "113bb01d",
   "metadata": {},
   "outputs": [],
   "source": [
    "A4 = np.random.random(1048576) # 2^20\n",
    "B4 = np.random.random(1048576)\n",
    "A4 = A4.tolist()\n",
    "B4 = B4.tolist()\n",
    "A5 = np.random.random(33554432) # 2^25\n",
    "\n",
    "\n",
    "def unitest2(A,B):\n",
    "    S = np.polymul(A,B)\n",
    "    SI = ITERATIVE_CONVOLUTION(A,B)\n",
    "    print (\"Input: \\n\", \"A:\", np.asarray(A), \"\\n\", \"B:\", np.asarray(B))\n",
    "    print(\"\\t\",\"Iterative Solution:\", np.allclose(SI[0:len(S)],S,rtol=1e-05,atol=1e-08,equal_nan=False))\n",
    "    print(\"\\n Output: \\n\")\n",
    "    print(\"Numpy: \\n\", np.asarray(S))\n",
    "    print(\"Iterative: \\n\", np.asarray(SI))"
   ]
  },
  {
   "cell_type": "code",
   "execution_count": null,
   "id": "62881d46",
   "metadata": {},
   "outputs": [],
   "source": [
    "np.polymul(A4,B4)"
   ]
  },
  {
   "cell_type": "code",
   "execution_count": null,
   "id": "0e25ab27",
   "metadata": {},
   "outputs": [],
   "source": []
  }
 ],
 "metadata": {
  "kernelspec": {
   "display_name": "Python 3 (ipykernel)",
   "language": "python",
   "name": "python3"
  },
  "language_info": {
   "codemirror_mode": {
    "name": "ipython",
    "version": 3
   },
   "file_extension": ".py",
   "mimetype": "text/x-python",
   "name": "python",
   "nbconvert_exporter": "python",
   "pygments_lexer": "ipython3",
   "version": "3.8.8"
  }
 },
 "nbformat": 4,
 "nbformat_minor": 5
}
