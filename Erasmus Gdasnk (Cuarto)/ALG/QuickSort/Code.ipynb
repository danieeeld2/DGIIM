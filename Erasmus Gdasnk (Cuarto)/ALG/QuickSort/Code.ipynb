{
 "cells": [
  {
   "cell_type": "code",
   "execution_count": 1,
   "id": "b09d88a0",
   "metadata": {},
   "outputs": [],
   "source": [
    "def PARTITION(A,p,r):\n",
    "    x=A[r]\n",
    "    i=p-1\n",
    "    for j in range (p,r):\n",
    "        if A[j]<=x:\n",
    "            i=i+1\n",
    "            (A[i],A[j])=(A[j],A[i])\n",
    "    (A[i+1],A[r])=(A[r],A[i+1])\n",
    "    return i+1"
   ]
  },
  {
   "cell_type": "code",
   "execution_count": 2,
   "id": "a7b2f2f6",
   "metadata": {},
   "outputs": [],
   "source": [
    "def QUICKSORT(A,p,r):\n",
    "    if p<r:\n",
    "        q=PARTITION(A,p,r)\n",
    "        QUICKSORT(A,p,q-1)\n",
    "        QUICKSORT(A,q+1,r)"
   ]
  },
  {
   "cell_type": "code",
   "execution_count": 3,
   "id": "2c61a015",
   "metadata": {},
   "outputs": [
    {
     "data": {
      "text/plain": [
       "[1, 2, 3, 4, 5, 6, 7, 8]"
      ]
     },
     "execution_count": 3,
     "metadata": {},
     "output_type": "execute_result"
    }
   ],
   "source": [
    "A=[2,8,7,1,3,5,6,4]\n",
    "QUICKSORT(A,0,len(A)-1)\n",
    "A"
   ]
  },
  {
   "cell_type": "code",
   "execution_count": 4,
   "id": "3fd59f3e",
   "metadata": {},
   "outputs": [],
   "source": [
    "def SORTED(A):\n",
    "    for j in range(1,len(A)-1):\n",
    "        if A[j-1]>A[j]:\n",
    "            print(\"False\")\n",
    "            return 1\n",
    "    print(\"True\")"
   ]
  },
  {
   "cell_type": "code",
   "execution_count": 5,
   "id": "cf2712b6",
   "metadata": {},
   "outputs": [
    {
     "name": "stdout",
     "output_type": "stream",
     "text": [
      "False\n",
      "True\n"
     ]
    }
   ],
   "source": [
    "A=[2,8,7,1,3,5,6,4]\n",
    "SORTED(A)\n",
    "QUICKSORT(A,0,len(A)-1)\n",
    "SORTED(A)"
   ]
  },
  {
   "cell_type": "code",
   "execution_count": 6,
   "id": "2a1e9f1e",
   "metadata": {},
   "outputs": [],
   "source": [
    "import numpy as np\n",
    "\n",
    "def unit_test():\n",
    "    for i in range (10):\n",
    "        A = np.random.random(1024)\n",
    "        A.tolist()\n",
    "        print(\"Array 1\", A)\n",
    "        QUICKSORT(A,0,len(A)-1)\n",
    "        print(\"Result:\")\n",
    "        SORTED(A)"
   ]
  },
  {
   "cell_type": "code",
   "execution_count": 7,
   "id": "d63a6dc6",
   "metadata": {},
   "outputs": [
    {
     "name": "stdout",
     "output_type": "stream",
     "text": [
      "Array 1 [0.95417069 0.34630129 0.69183067 ... 0.03652748 0.68985871 0.81905607]\n",
      "Result:\n",
      "True\n",
      "Array 1 [0.57221695 0.0959385  0.79374133 ... 0.74720887 0.32459429 0.53935018]\n",
      "Result:\n",
      "True\n",
      "Array 1 [0.96612986 0.87386162 0.85229258 ... 0.82232737 0.45009455 0.4280562 ]\n",
      "Result:\n",
      "True\n",
      "Array 1 [0.94889338 0.05552574 0.24595851 ... 0.76250648 0.08517102 0.1346154 ]\n",
      "Result:\n",
      "True\n",
      "Array 1 [0.60129631 0.91011227 0.65502377 ... 0.19264621 0.92019122 0.4082638 ]\n",
      "Result:\n",
      "True\n",
      "Array 1 [0.95146367 0.60379435 0.95070754 ... 0.50141527 0.72691794 0.44242119]\n",
      "Result:\n",
      "True\n",
      "Array 1 [0.70940233 0.17061395 0.94762896 ... 0.82652917 0.7254032  0.23466514]\n",
      "Result:\n",
      "True\n",
      "Array 1 [0.44531738 0.39646821 0.97815001 ... 0.08954124 0.88040448 0.7757324 ]\n",
      "Result:\n",
      "True\n",
      "Array 1 [0.93854052 0.4119677  0.33753047 ... 0.25402858 0.4408861  0.05652894]\n",
      "Result:\n",
      "True\n",
      "Array 1 [0.48912637 0.08928384 0.12746513 ... 0.10990468 0.38030907 0.30720698]\n",
      "Result:\n",
      "True\n"
     ]
    }
   ],
   "source": [
    "unit_test()"
   ]
  },
  {
   "cell_type": "code",
   "execution_count": 8,
   "id": "ac6c0b52",
   "metadata": {},
   "outputs": [],
   "source": [
    "def unit_test2():\n",
    "    size=1024\n",
    "    for i in range (10):\n",
    "        A = np.random.random(size)\n",
    "        A.tolist()\n",
    "        print(\"Array 1\", A)\n",
    "        QUICKSORT(A,0,len(A)-1)\n",
    "        print(\"Result:\")\n",
    "        SORTED(A)\n",
    "        size=size*2 "
   ]
  },
  {
   "cell_type": "code",
   "execution_count": 9,
   "id": "1875945c",
   "metadata": {},
   "outputs": [
    {
     "name": "stdout",
     "output_type": "stream",
     "text": [
      "Array 1 [0.01580582 0.39319022 0.6256466  ... 0.6809262  0.1238502  0.27464514]\n",
      "Result:\n",
      "True\n",
      "Array 1 [0.44109636 0.79334478 0.02330423 ... 0.70186922 0.20696084 0.27393629]\n",
      "Result:\n",
      "True\n",
      "Array 1 [0.07384184 0.24883003 0.74839624 ... 0.69476107 0.64879271 0.84626387]\n",
      "Result:\n",
      "True\n",
      "Array 1 [0.86983936 0.21789322 0.96694384 ... 0.33007911 0.70552175 0.97494792]\n",
      "Result:\n",
      "True\n",
      "Array 1 [0.875453   0.66556292 0.61397558 ... 0.25169409 0.70157268 0.81052781]\n",
      "Result:\n",
      "True\n",
      "Array 1 [0.51999738 0.63401757 0.04653051 ... 0.88105373 0.35885925 0.51503514]\n",
      "Result:\n",
      "True\n",
      "Array 1 [0.53737299 0.85035476 0.74883368 ... 0.21751964 0.67852923 0.83277412]\n",
      "Result:\n",
      "True\n",
      "Array 1 [0.80990676 0.26091371 0.0254311  ... 0.87406071 0.37667993 0.66928487]\n",
      "Result:\n",
      "True\n",
      "Array 1 [0.92648422 0.91496131 0.37937161 ... 0.31892809 0.97051478 0.16583918]\n",
      "Result:\n",
      "True\n",
      "Array 1 [0.21255023 0.57326178 0.53507242 ... 0.42739115 0.81151877 0.06592947]\n",
      "Result:\n",
      "True\n"
     ]
    }
   ],
   "source": [
    "unit_test2()"
   ]
  },
  {
   "cell_type": "code",
   "execution_count": 12,
   "id": "b77c73c0",
   "metadata": {},
   "outputs": [
    {
     "name": "stdout",
     "output_type": "stream",
     "text": [
      "Size of N: 100\n",
      "Average Time: 0.0026351265999892347\n",
      "Standard Deviation: 0.0010235340742359676\n",
      "\n",
      "\n",
      "Size of N: 200\n",
      "Average Time: 0.010390990400060219\n",
      "Standard Deviation: 0.004433795081502104\n",
      "\n",
      "\n",
      "Size of N: 300\n",
      "Average Time: 0.023191566600007717\n",
      "Standard Deviation: 0.00960129928796335\n",
      "\n",
      "\n",
      "Size of N: 400\n",
      "Average Time: 0.0353624888000013\n",
      "Standard Deviation: 0.01131113519921623\n",
      "\n",
      "\n",
      "Size of N: 500\n",
      "Average Time: 0.05548215869996511\n",
      "Standard Deviation: 0.017993138556731746\n",
      "\n",
      "\n",
      "Size of N: 600\n",
      "Average Time: 0.08358199629997216\n",
      "Standard Deviation: 0.02734790036674195\n",
      "\n",
      "\n",
      "Size of N: 700\n",
      "Average Time: 0.11298645040001247\n",
      "Standard Deviation: 0.03745186523885189\n",
      "\n",
      "\n",
      "Size of N: 800\n",
      "Average Time: 0.1467695115999959\n",
      "Standard Deviation: 0.048235712308892086\n",
      "\n",
      "\n",
      "Size of N: 900\n",
      "Average Time: 0.20074805709994054\n",
      "Standard Deviation: 0.07310429969212746\n",
      "\n",
      "\n",
      "Size of N: 1000\n",
      "Average Time: 0.23943876980001733\n",
      "Standard Deviation: 0.0796041332294781\n",
      "\n",
      "\n",
      "Size of N: 1100\n",
      "Average Time: 0.32323740439999255\n",
      "Standard Deviation: 0.11763969637628843\n",
      "\n",
      "\n",
      "Size of N: 1200\n",
      "Average Time: 0.3748904607999748\n",
      "Standard Deviation: 0.1340223953607623\n",
      "\n",
      "\n",
      "Size of N: 1300\n",
      "Average Time: 0.44969641949996914\n",
      "Standard Deviation: 0.16392417886713767\n",
      "\n",
      "\n",
      "Size of N: 1400\n",
      "Average Time: 0.49649058170000443\n",
      "Standard Deviation: 0.1733668688009081\n",
      "\n",
      "\n",
      "Size of N: 1500\n",
      "Average Time: 0.6010589021000442\n",
      "Standard Deviation: 0.21368952893608614\n",
      "\n",
      "\n"
     ]
    }
   ],
   "source": [
    "from timeit import default_timer as timer\n",
    "\n",
    "N=100\n",
    "for i in range (15):\n",
    "    A=np.random.random(N)\n",
    "    A.tolist()\n",
    "    \n",
    "    times = []\n",
    "    for j in range (10):\n",
    "        start = timer()\n",
    "        QUICKSORT(A,0,len(A)-1)\n",
    "        end = timer()\n",
    "        time = end-start\n",
    "        times.append(time)\n",
    "        \n",
    "    average = np.mean(times)\n",
    "    deviation = np.std(times)\n",
    "    \n",
    "    print(\"Size of N:\", N)\n",
    "    print(\"Average Time:\", average)\n",
    "    print(\"Standard Deviation:\", deviation)\n",
    "    print(\"\\n\")\n",
    "    N+=100"
   ]
  },
  {
   "cell_type": "code",
   "execution_count": null,
   "id": "d491e66f",
   "metadata": {},
   "outputs": [],
   "source": []
  }
 ],
 "metadata": {
  "kernelspec": {
   "display_name": "Python 3 (ipykernel)",
   "language": "python",
   "name": "python3"
  },
  "language_info": {
   "codemirror_mode": {
    "name": "ipython",
    "version": 3
   },
   "file_extension": ".py",
   "mimetype": "text/x-python",
   "name": "python",
   "nbconvert_exporter": "python",
   "pygments_lexer": "ipython3",
   "version": "3.8.10"
  }
 },
 "nbformat": 4,
 "nbformat_minor": 5
}
