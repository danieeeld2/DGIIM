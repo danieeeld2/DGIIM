{
 "cells": [
  {
   "cell_type": "markdown",
   "id": "7b4158cc",
   "metadata": {},
   "source": [
    "# Práctica 2. Fórmulas de derivación e integración numérica"
   ]
  },
  {
   "cell_type": "markdown",
   "id": "0aaab9b3",
   "metadata": {},
   "source": [
    "###### Daniel Alconchel Vázquez"
   ]
  },
  {
   "cell_type": "code",
   "execution_count": 4,
   "id": "04c546c4",
   "metadata": {},
   "outputs": [],
   "source": [
    "import numpy as np\n",
    "import sympy as sp\n",
    "import matplotlib.pyplot as plt"
   ]
  },
  {
   "cell_type": "markdown",
   "id": "fe0b830a",
   "metadata": {},
   "source": [
    "## Ejercicio 1\n",
    "\n",
    "Obtenga mediante interpolación en el espacio $\\mathbb{P}_2$ una fórmula para aproximar $f''(a)$ del tipo de combinación $f(a-h),f(a)$ y $f(a+h)$. "
   ]
  },
  {
   "cell_type": "markdown",
   "id": "194bc995",
   "metadata": {},
   "source": [
    "Para hacerlo, lo haremos mediante los polinomios de Lagrange:"
   ]
  },
  {
   "cell_type": "code",
   "execution_count": 5,
   "id": "1c0c1122",
   "metadata": {},
   "outputs": [],
   "source": [
    "f = sp.Function('f')\n",
    "a,h = sp.symbols('a,h')\n",
    "x = [a-h,a,a+h]"
   ]
  },
  {
   "cell_type": "code",
   "execution_count": 6,
   "id": "a64046c8",
   "metadata": {},
   "outputs": [
    {
     "data": {
      "text/plain": [
       "[f(a - h), f(a), f(a + h)]"
      ]
     },
     "execution_count": 6,
     "metadata": {},
     "output_type": "execute_result"
    }
   ],
   "source": [
    "y = [f(i) for i in x]\n",
    "y"
   ]
  },
  {
   "cell_type": "code",
   "execution_count": 7,
   "id": "f80649e8",
   "metadata": {},
   "outputs": [
    {
     "data": {
      "text/latex": [
       "$\\displaystyle f{\\left(a - h \\right)} + \\frac{\\left(f{\\left(a \\right)} - f{\\left(a - h \\right)}\\right) \\left(- a + h + z\\right)}{h} + \\frac{\\left(- a + z\\right) \\left(- a + h + z\\right) \\left(- 2 f{\\left(a \\right)} + f{\\left(a - h \\right)} + f{\\left(a + h \\right)}\\right)}{2 h^{2}}$"
      ],
      "text/plain": [
       "f(a - h) + (f(a) - f(a - h))*(-a + h + z)/h + (-a + z)*(-a + h + z)*(-2*f(a) + f(a - h) + f(a + h))/(2*h**2)"
      ]
     },
     "execution_count": 7,
     "metadata": {},
     "output_type": "execute_result"
    }
   ],
   "source": [
    "z = sp.Symbol('z')\n",
    "p0 = y[0]\n",
    "p1 = p0 + (z-x[0])/(x[1]-x[0])*(y[1]-y[0])\n",
    "D = sp.Symbol('D')\n",
    "p2 = p1 + (z-x[0])*(z-x[1])*D\n",
    "sol2 = sp.solve(p2.subs({z:x[2]})-y[2],D)\n",
    "D = sol2[0]\n",
    "p2 = p1 + (z-x[0])*(z-x[1])*D\n",
    "p2"
   ]
  },
  {
   "cell_type": "markdown",
   "id": "d15676ad",
   "metadata": {},
   "source": [
    "El polinomio debe interpolar a f en los puntos $a-h,a,a+h$:"
   ]
  },
  {
   "cell_type": "code",
   "execution_count": 8,
   "id": "be05fe65",
   "metadata": {},
   "outputs": [
    {
     "data": {
      "text/plain": [
       "[True, True, True]"
      ]
     },
     "execution_count": 8,
     "metadata": {},
     "output_type": "execute_result"
    }
   ],
   "source": [
    "[p2.subs({z:x[i]})==y[i] for i in range(0,3)]"
   ]
  },
  {
   "cell_type": "markdown",
   "id": "952121f5",
   "metadata": {},
   "source": [
    "Derivamos el polinomio de interpolación dos veces y obtendremos la fórmula pedida:"
   ]
  },
  {
   "cell_type": "code",
   "execution_count": 9,
   "id": "692e258f",
   "metadata": {},
   "outputs": [
    {
     "data": {
      "text/latex": [
       "$\\displaystyle \\frac{- 2 f{\\left(a \\right)} + f{\\left(a - h \\right)} + f{\\left(a + h \\right)}}{h^{2}}$"
      ],
      "text/plain": [
       "(-2*f(a) + f(a - h) + f(a + h))/h**2"
      ]
     },
     "execution_count": 9,
     "metadata": {},
     "output_type": "execute_result"
    }
   ],
   "source": [
    "d1 = sp.diff(p2,z,2).subs({z:a}).simplify()\n",
    "d1"
   ]
  },
  {
   "cell_type": "markdown",
   "id": "77a5fa51",
   "metadata": {},
   "source": [
    "## Ejercicio 2"
   ]
  },
  {
   "cell_type": "markdown",
   "id": "c136c429",
   "metadata": {},
   "source": [
    "Con la fórmula obtenida en el ejercicio 1, halle una tabla de aproximaciones y errores de $f_1''(2.5)$, siendo $f_1(x)=x^x$, para $h=10^{-i},\\; i=1,\\ldots,5.$"
   ]
  },
  {
   "cell_type": "markdown",
   "id": "47df292d",
   "metadata": {},
   "source": [
    "Vamos a realizar dicha tabla:"
   ]
  },
  {
   "cell_type": "code",
   "execution_count": 10,
   "id": "975296b7",
   "metadata": {},
   "outputs": [],
   "source": [
    "def func(z):\n",
    "    return z**z\n",
    "f = func"
   ]
  },
  {
   "cell_type": "code",
   "execution_count": 11,
   "id": "6d1191a7",
   "metadata": {},
   "outputs": [
    {
     "data": {
      "text/latex": [
       "$\\displaystyle 40.2416648563875$"
      ],
      "text/plain": [
       "40.2416648563875"
      ]
     },
     "execution_count": 11,
     "metadata": {},
     "output_type": "execute_result"
    }
   ],
   "source": [
    "valor_exacto = sp.diff(f(z),z,2).subs({z:2.5})\n",
    "valor_exacto"
   ]
  },
  {
   "cell_type": "code",
   "execution_count": 12,
   "id": "e75e7ae2",
   "metadata": {},
   "outputs": [],
   "source": [
    "def formula(f, a, h):\n",
    "    return (-2*f(a)+f(a-h)+f(a+h))/h**2"
   ]
  },
  {
   "cell_type": "code",
   "execution_count": 13,
   "id": "2066d102",
   "metadata": {},
   "outputs": [
    {
     "data": {
      "text/plain": [
       "[40.42056829795832,\n",
       " 40.243450230939004,\n",
       " 40.24168270788664,\n",
       " 40.24166475602442,\n",
       " 40.24164113047845]"
      ]
     },
     "execution_count": 13,
     "metadata": {},
     "output_type": "execute_result"
    }
   ],
   "source": [
    "valores_aproximados = [formula(f=lambda z:z**z, a=2.5, h=10**(-i)) for i in range(1,6)]\n",
    "valores_aproximados"
   ]
  },
  {
   "cell_type": "markdown",
   "id": "e727556a",
   "metadata": {},
   "source": [
    "Expresamos los errores a continuación:"
   ]
  },
  {
   "cell_type": "code",
   "execution_count": 14,
   "id": "a42588db",
   "metadata": {},
   "outputs": [],
   "source": [
    "errores = [abs(valor_aproximado - valor_exacto) for valor_aproximado in valores_aproximados]"
   ]
  },
  {
   "cell_type": "code",
   "execution_count": 15,
   "id": "ef108856",
   "metadata": {},
   "outputs": [
    {
     "name": "stdout",
     "output_type": "stream",
     "text": [
      "Valor exacto: 40.2416648563875\n",
      "\n",
      "h\tAproximación\t\tError\n",
      "-\t------------\t\t-----\n",
      "10^-1\t40.42056829795832\t0.178903441570853\n",
      "10^-2\t40.243450230939004\t0.00178537455153815\n",
      "10^-3\t40.24168270788664\t0.0000178514991731049\n",
      "10^-4\t40.24166475602442\t1.00363045874019E-7\n",
      "10^-5\t40.24164113047845\t0.0000237259090170028\n"
     ]
    }
   ],
   "source": [
    "print(\"Valor exacto: {}\\n\".format(valor_exacto))\n",
    "\n",
    "#from tabulate import tabulate\n",
    "#print(tabulate([[\"10**{}\".format(-i), valores_aproximados[i-1], errores[i-1]] for i in range(1,6)], headers=['h', 'Aproximación', 'Error'], tablefmt='orgtbl'))\n",
    "\n",
    "print(\"h\\tAproximación\\t\\tError\")\n",
    "print(\"-\\t------------\\t\\t-----\")\n",
    "for i in range(1,6):\n",
    "    print(\"10^{}\\t{}\\t{}\".format(-i, valores_aproximados[i-1], errores[i-1]))"
   ]
  },
  {
   "cell_type": "markdown",
   "id": "567756fe",
   "metadata": {},
   "source": [
    "## Ejercicio 3"
   ]
  },
  {
   "cell_type": "markdown",
   "id": "1eafb7f8",
   "metadata": {},
   "source": [
    "Sea $f_2(x)=\\frac{x^2+40}{x+\\sqrt{5x}+7}$. Calcule una tabla que recoja las derivadas de $f_2$ en $x_i=1,2,\\ldots,10$, utilizando alguna de las fórmulas de derivación numérica de primer orden obtenidas al inicio de la práctica, con $h=10^{-3}$, y muestre al mismo tiempo el error cometido en cada punto. Repita el ejercicio con la fórmula centrada obtenida para la derivada primera y, finalmente, para la obtenida en el ejercicio 1 (con respecto a la segunda derivada)."
   ]
  },
  {
   "cell_type": "markdown",
   "id": "ef266c37",
   "metadata": {},
   "source": [
    "Para este ejercicio, usaremos tres fórmulas de derivación. La primera de ellas es para aproximar $f'_2(x)$\n",
    "\n",
    "$$f'_2(x) \\approx \\frac{f_2(x+h)-f_2(x)}{h}$$"
   ]
  },
  {
   "cell_type": "code",
   "execution_count": 16,
   "id": "4d337749",
   "metadata": {},
   "outputs": [],
   "source": [
    "def func(z):\n",
    "    return (z**2+40)/(z+(5*z)**(1/2)+7)\n",
    "f = func\n",
    "\n",
    "def formula(f, a, h):\n",
    "    return (f(a+h)-f(a))/h"
   ]
  },
  {
   "cell_type": "code",
   "execution_count": 17,
   "id": "7a882b69",
   "metadata": {},
   "outputs": [
    {
     "data": {
      "text/plain": [
       "[-0.6330758508230616,\n",
       " -0.20358841102519065,\n",
       " 0.013637834543889227,\n",
       " 0.15241382963759875,\n",
       " 0.2509073591920874,\n",
       " 0.32526720196468517,\n",
       " 0.3837792735330581,\n",
       " 0.43122332479583747,\n",
       " 0.47058475905004116,\n",
       " 0.5038394181333672]"
      ]
     },
     "execution_count": 17,
     "metadata": {},
     "output_type": "execute_result"
    }
   ],
   "source": [
    "valores_aproximados = [formula(f=lambda z:(z**2+40)/(z+(5*z)**(1/2)+7), a=i, h=10**(-3)) for i in range(1,11)]\n",
    "valores_aproximados"
   ]
  },
  {
   "cell_type": "code",
   "execution_count": 18,
   "id": "c7988883",
   "metadata": {},
   "outputs": [
    {
     "data": {
      "text/plain": [
       "[-0.633413841504903,\n",
       " -0.203729991363422,\n",
       " 0.0135536765957583,\n",
       " 0.152356382446352,\n",
       " 0.250865051903114,\n",
       " 0.325234486346073,\n",
       " 0.383753089267232,\n",
       " 0.431201820656649,\n",
       " 0.470566739057635,\n",
       " 0.503824070415537]"
      ]
     },
     "execution_count": 18,
     "metadata": {},
     "output_type": "execute_result"
    }
   ],
   "source": [
    "deriv = sp.diff(f(z),z)\n",
    "valores_exactos = [deriv.subs({z:i}) for i in range(1,11)]\n",
    "valores_exactos"
   ]
  },
  {
   "cell_type": "code",
   "execution_count": 19,
   "id": "2c89b8df",
   "metadata": {},
   "outputs": [],
   "source": [
    "errores = [abs(val_aprox - val_exact) for (val_aprox, val_exact) in zip(valores_aproximados, valores_exactos)]\n"
   ]
  },
  {
   "cell_type": "code",
   "execution_count": 20,
   "id": "bcd6a431",
   "metadata": {},
   "outputs": [
    {
     "name": "stdout",
     "output_type": "stream",
     "text": [
      "h\tValor exacto\t\tAproximación\t\tError\n",
      "-\t------------\t\t------------\t\t-----\n",
      "10^-1\t-0.633413841504903\t-0.6330758508230616\t0.000337990681841038\n",
      "10^-2\t-0.203729991363422\t-0.20358841102519065\t0.000141580338231473\n",
      "10^-3\t0.0135536765957583\t0.013637834543889227\t0.0000841579481308807\n",
      "10^-4\t0.152356382446352\t0.15241382963759875\t0.0000574471912467844\n",
      "10^-5\t0.250865051903114\t0.2509073591920874\t0.0000423072889731979\n"
     ]
    }
   ],
   "source": [
    "print(\"h\\tValor exacto\\t\\tAproximación\\t\\tError\")\n",
    "print(\"-\\t------------\\t\\t------------\\t\\t-----\")\n",
    "for i in range(1,6):\n",
    "    print(\"10^{}\\t{}\\t{}\\t{}\".format(-i, valores_exactos[i-1], valores_aproximados[i-1], errores[i-1]))"
   ]
  },
  {
   "cell_type": "markdown",
   "id": "f7f40cca",
   "metadata": {},
   "source": [
    "Continuamos de forma análoga con la fórmula centrada:\n",
    "$$f'_2(x) \\approx \\frac{f_2(x+h)-f_2(x-h)}{2h}$$"
   ]
  },
  {
   "cell_type": "code",
   "execution_count": 21,
   "id": "a58f6fcb",
   "metadata": {},
   "outputs": [],
   "source": [
    "def formula(f, a, h):\n",
    "    return (f(a+h)-f(a-h))/(2*h)"
   ]
  },
  {
   "cell_type": "code",
   "execution_count": 22,
   "id": "f5bfec1b",
   "metadata": {},
   "outputs": [
    {
     "data": {
      "text/plain": [
       "[-0.6334139834538455,\n",
       " -0.20373002121565342,\n",
       " 0.013553664382381925,\n",
       " 0.15235637597976748,\n",
       " 0.25086504797688924,\n",
       " 0.3252344837485488,\n",
       " 0.38375308744642567,\n",
       " 0.4312018193228795,\n",
       " 0.4705667380475731,\n",
       " 0.50382406963001]"
      ]
     },
     "execution_count": 22,
     "metadata": {},
     "output_type": "execute_result"
    }
   ],
   "source": [
    "valores_aproximados = [formula(f=lambda z:(z**2+40)/(z+(5*z)**(1/2)+7), a=i, h=10**(-3)) for i in range(1,11)]\n",
    "valores_aproximados"
   ]
  },
  {
   "cell_type": "code",
   "execution_count": 23,
   "id": "3977d7fb",
   "metadata": {},
   "outputs": [],
   "source": [
    "errores = [abs(val_aprox - val_exact) for (val_aprox, val_exact) in zip(valores_aproximados, valores_exactos)]"
   ]
  },
  {
   "cell_type": "code",
   "execution_count": 24,
   "id": "77fe40a4",
   "metadata": {},
   "outputs": [
    {
     "name": "stdout",
     "output_type": "stream",
     "text": [
      "h\tValor exacto\t\tAproximación\t\tError\n",
      "-\t------------\t\t------------\t\t-----\n",
      "10^-1\t-0.633413841504903\t-0.6334139834538455\t1.41948942822268E-7\n",
      "10^-2\t-0.203729991363422\t-0.20373002121565342\t2.98522312980332E-8\n",
      "10^-3\t0.0135536765957583\t0.013553664382381925\t1.22133764213217E-8\n",
      "10^-4\t0.152356382446352\t0.15235637597976748\t6.46658449010573E-9\n",
      "10^-5\t0.250865051903114\t0.25086504797688924\t3.92622495626327E-9\n"
     ]
    }
   ],
   "source": [
    "print(\"h\\tValor exacto\\t\\tAproximación\\t\\tError\")\n",
    "print(\"-\\t------------\\t\\t------------\\t\\t-----\")\n",
    "for i in range(1,6):\n",
    "    print(\"10^{}\\t{}\\t{}\\t{}\".format(-i, valores_exactos[i-1], valores_aproximados[i-1], errores[i-1]))"
   ]
  },
  {
   "cell_type": "markdown",
   "id": "2aa18b96",
   "metadata": {},
   "source": [
    "Usaremos, finalmente, la fórmula obtenida en el ejercicio 1:\n",
    "$$f''_2(x) \\approx \\frac{f_2(x-h)-2f_2(x)+f_2(x+h)}{h²}$$"
   ]
  },
  {
   "cell_type": "code",
   "execution_count": 25,
   "id": "c53916e8",
   "metadata": {},
   "outputs": [],
   "source": [
    "def formula(f, a, h):\n",
    "    return (f(a-h)-2*f(a)+f(a+h))/(h**2)"
   ]
  },
  {
   "cell_type": "code",
   "execution_count": 26,
   "id": "3189479d",
   "metadata": {},
   "outputs": [
    {
     "data": {
      "text/plain": [
       "[0.6762652615677212,\n",
       " 0.2832203809255418,\n",
       " 0.1683403230146041,\n",
       " 0.11490731566254908,\n",
       " 0.08462243039630835,\n",
       " 0.06543643227274742,\n",
       " 0.05237217326481414,\n",
       " 0.04301094591596666,\n",
       " 0.036042004936120975,\n",
       " 0.03069700671431974]"
      ]
     },
     "execution_count": 26,
     "metadata": {},
     "output_type": "execute_result"
    }
   ],
   "source": [
    "valores_aproximados = [formula(f=lambda z:(z**2+40)/(z+(5*z)**(1/2)+7), a=i, h=10**(-3)) for i in range(1,11)]\n",
    "valores_aproximados"
   ]
  },
  {
   "cell_type": "code",
   "execution_count": 27,
   "id": "1f8dff47",
   "metadata": {},
   "outputs": [
    {
     "data": {
      "text/plain": [
       "[0.676265098285376,\n",
       " 0.283220364176106,\n",
       " 0.168340319928121,\n",
       " 0.114907312895053,\n",
       " 0.0846224302869937,\n",
       " 0.0654364313639429,\n",
       " 0.0523721743690358,\n",
       " 0.0430109449028751,\n",
       " 0.0360420057237485,\n",
       " 0.0306970066620211]"
      ]
     },
     "execution_count": 27,
     "metadata": {},
     "output_type": "execute_result"
    }
   ],
   "source": [
    "deriv = sp.diff(f(z),z,2)\n",
    "valores_exactos = [deriv.subs({z:i}) for i in range(1,11)]\n",
    "valores_exactos"
   ]
  },
  {
   "cell_type": "code",
   "execution_count": 28,
   "id": "325029af",
   "metadata": {},
   "outputs": [],
   "source": [
    "errores = [abs(val_aprox - val_exact) for (val_aprox, val_exact) in zip(valores_aproximados, valores_exactos)]"
   ]
  },
  {
   "cell_type": "code",
   "execution_count": 29,
   "id": "cb78f74a",
   "metadata": {},
   "outputs": [
    {
     "name": "stdout",
     "output_type": "stream",
     "text": [
      "h\tValor exacto\t\tAproximación\t\tError\n",
      "-\t------------\t\t------------\t\t-----\n",
      "10^-1\t0.676265098285376\t0.6762652615677212\t1.63282345311266E-7\n",
      "10^-2\t0.283220364176106\t0.2832203809255418\t1.67494356717590E-8\n",
      "10^-3\t0.168340319928121\t0.1683403230146041\t3.08648318014804E-9\n",
      "10^-4\t0.114907312895053\t0.11490731566254908\t2.76749589911418E-9\n",
      "10^-5\t0.0846224302869937\t0.08462243039630835\t1.09314654550552E-10\n"
     ]
    }
   ],
   "source": [
    "print(\"h\\tValor exacto\\t\\tAproximación\\t\\tError\")\n",
    "print(\"-\\t------------\\t\\t------------\\t\\t-----\")\n",
    "for i in range(1,6):\n",
    "    print(\"10^{}\\t{}\\t{}\\t{}\".format(-i, valores_exactos[i-1], valores_aproximados[i-1], errores[i-1]))"
   ]
  },
  {
   "cell_type": "markdown",
   "id": "98dc5b6d",
   "metadata": {},
   "source": [
    "## Ejercicio 4"
   ]
  },
  {
   "cell_type": "markdown",
   "id": "2e54d17e",
   "metadata": {},
   "source": [
    "Divide el intervalo $[1,2]$ en 100 partes iguales y aplique lasfórmulas del rectángulo, Simpson y trapecio compuestas para aproximar la integral en dicho intervalo de $f_1$. Compare dichos resultados."
   ]
  },
  {
   "cell_type": "markdown",
   "id": "c38726d1",
   "metadata": {},
   "source": [
    "Primero crearemos las funciones para computar cada una de las fórmulas compuestas:"
   ]
  },
  {
   "cell_type": "code",
   "execution_count": 30,
   "id": "1841ff2a",
   "metadata": {},
   "outputs": [],
   "source": [
    "def formula_rectangulo_izquierda(f, a, b, nx):\n",
    "    h = (b-a)/nx\n",
    "    return h*sum([f(a+i*h) for i in range(0,nx)])\n",
    "\n",
    "def formula_rectangulo_derecha(f, a, b, nx):\n",
    "    h = (b-a)/nx\n",
    "    return h*sum([f(a+(i+1)*h) for i in range(0,nx)])\n",
    "\n",
    "def formula_simpson(f, a, b, nx):\n",
    "    h = (b-a)/nx\n",
    "    m = int(nx/2)\n",
    "    P = sum([f(a+2*i*h) for i in range(1,m)])\n",
    "    I = sum([f(a+(2*i-1)*h) for i in range(1,m+1)])\n",
    "    E = f(a)+f(b)\n",
    "    return h/3*(E+2*P+4*I)\n",
    "\n",
    "def formula_trapecio(f, a, b, nx):\n",
    "    h = (b-a)/nx\n",
    "    return h/2*(f(a)+2*sum([f(a+i*h) for i in range(1,nx)])+f(b))"
   ]
  },
  {
   "cell_type": "markdown",
   "id": "86299599",
   "metadata": {},
   "source": [
    "Calculemos el valor exacto de la intregal:"
   ]
  },
  {
   "cell_type": "code",
   "execution_count": 31,
   "id": "a210e59f",
   "metadata": {},
   "outputs": [
    {
     "data": {
      "text/latex": [
       "$\\displaystyle \\int\\limits_{1}^{2} z^{z}\\, dz$"
      ],
      "text/plain": [
       "Integral(z**z, (z, 1, 2))"
      ]
     },
     "execution_count": 31,
     "metadata": {},
     "output_type": "execute_result"
    }
   ],
   "source": [
    "def func(z):\n",
    "    return z**z\n",
    "f = func\n",
    "a, b = 1, 2\n",
    "valor_exacto = sp.integrate(f(z),[z,a,b])\n",
    "valor_exacto"
   ]
  },
  {
   "cell_type": "markdown",
   "id": "8ecb4f12",
   "metadata": {},
   "source": [
    "Vemos que `sympy` no es capaz de calcular el valor exacto de esta integral. Tomaremos el valor exacto de esta integral como la aproximación de `quad` y de `scipy`. Esta aproximación tendrá un error pero lo consideraremos como valor exacto para comparar."
   ]
  },
  {
   "cell_type": "code",
   "execution_count": 32,
   "id": "43902894",
   "metadata": {},
   "outputs": [
    {
     "data": {
      "text/plain": [
       "(2.050446234534731, 2.2764526203364124e-14)"
      ]
     },
     "execution_count": 32,
     "metadata": {},
     "output_type": "execute_result"
    }
   ],
   "source": [
    "from scipy.integrate import quad\n",
    "valor_exacto, abserr = quad(f, a, b)\n",
    "valor_exacto, abserr"
   ]
  },
  {
   "cell_type": "code",
   "execution_count": 33,
   "id": "90edeb8a",
   "metadata": {},
   "outputs": [],
   "source": [
    "n = 100\n",
    "valores_aproximados = {}\n",
    "formulas = ['r_izquierda', 'r_derecha', 'simpson ', 'trapecio']\n",
    "valores_aproximados[formulas[0]] = formula_rectangulo_izquierda(f, a, b, n)\n",
    "valores_aproximados[formulas[1]] = formula_rectangulo_derecha(f, a, b, n)\n",
    "valores_aproximados[formulas[2]] = formula_simpson(f, a, b, n)\n",
    "valores_aproximados[formulas[3]] = formula_trapecio(f, a, b, n)"
   ]
  },
  {
   "cell_type": "code",
   "execution_count": 34,
   "id": "84a771a5",
   "metadata": {},
   "outputs": [
    {
     "name": "stdout",
     "output_type": "stream",
     "text": [
      "Valor \"exacto\": 2.050446234534731\n",
      "\n",
      "Fórmula\t\tAproximación\t\tError\n",
      "-------\t\t------------\t\t-----\n",
      "r_izquierda\t2.0354943390855573\t0.014951895449173858\n",
      "r_derecha\t2.065494339085557\t0.015048104550825947\n",
      "simpson \t2.050446235955426\t1.4206946730155323e-09\n",
      "trapecio\t2.0504943390855574\t4.8104550826266745e-05\n"
     ]
    }
   ],
   "source": [
    "print(\"Valor \\\"exacto\\\": {}\\n\".format(valor_exacto))\n",
    "\n",
    "print(\"Fórmula\\t\\tAproximación\\t\\tError\")\n",
    "print(\"-------\\t\\t------------\\t\\t-----\")\n",
    "for formula in formulas:\n",
    "    print(\"{}\\t{}\\t{}\".format(formula, valores_aproximados[formula], abs(valores_aproximados[formula]-valor_exacto)))"
   ]
  },
  {
   "cell_type": "markdown",
   "id": "2d57b66f",
   "metadata": {},
   "source": [
    "Vemos que el que más se aproxima al valor exacto sería el de Simpson (nótese que hemos obtenido nosotros son del orden de $10^{-9}$ mientras que el error de `quad` es de $10^{-14}$, considerablemente mejor, y por eso podemos decir que el valor aproximado por Simpson es el más cercano al valor exacto de la integral.)"
   ]
  },
  {
   "cell_type": "markdown",
   "id": "97ca761c",
   "metadata": {},
   "source": [
    "## Ejercicio 5\n",
    "\n",
    "Repita el ejercicio 4 para $f_2$. "
   ]
  },
  {
   "cell_type": "code",
   "execution_count": 35,
   "id": "a660da69",
   "metadata": {},
   "outputs": [],
   "source": [
    "def func(z):\n",
    "    return (z**2+40)/(z+(5*z)**(1/2)+7)\n",
    "f = func\n",
    "a, b = 1, 2"
   ]
  },
  {
   "cell_type": "code",
   "execution_count": 36,
   "id": "579fe2be",
   "metadata": {},
   "outputs": [
    {
     "data": {
      "text/latex": [
       "$\\displaystyle - \\frac{270 \\sqrt{115} \\operatorname{atan}{\\left(\\frac{\\sqrt{115}}{23} + \\frac{2 \\sqrt{46}}{23} \\right)}}{23} - \\frac{52 \\sqrt{5}}{3} - 9 \\log{\\left(4 \\sqrt{5} + 32 \\right)} - \\frac{1}{2} + 9 \\log{\\left(4 \\sqrt{10} + 36 \\right)} + \\frac{50 \\sqrt{10}}{3} + \\frac{270 \\sqrt{115} \\operatorname{atan}{\\left(\\frac{2 \\sqrt{23}}{23} + \\frac{\\sqrt{115}}{23} \\right)}}{23}$"
      ],
      "text/plain": [
       "-270*sqrt(115)*atan(sqrt(115)/23 + 2*sqrt(46)/23)/23 - 52*sqrt(5)/3 - 9*log(4*sqrt(5) + 32) - 1/2 + 9*log(4*sqrt(10) + 36) + 50*sqrt(10)/3 + 270*sqrt(115)*atan(2*sqrt(23)/23 + sqrt(115)/23)/23"
      ]
     },
     "execution_count": 36,
     "metadata": {},
     "output_type": "execute_result"
    }
   ],
   "source": [
    "valor_exacto = sp.integrate((z**2+40)/(z+sp.sqrt(5*z)+7),[z,a,b])\n",
    "valor_exacto"
   ]
  },
  {
   "cell_type": "code",
   "execution_count": 37,
   "id": "560f2545",
   "metadata": {},
   "outputs": [
    {
     "data": {
      "text/latex": [
       "$\\displaystyle 3.77658111776791$"
      ],
      "text/plain": [
       "3.77658111776791"
      ]
     },
     "execution_count": 37,
     "metadata": {},
     "output_type": "execute_result"
    }
   ],
   "source": [
    "# igualamos valor_exacto a la representación decimal para agilizar los cálculos\n",
    "valor_exacto = valor_exacto.evalf()\n",
    "valor_exacto"
   ]
  },
  {
   "cell_type": "code",
   "execution_count": 38,
   "id": "adbe055f",
   "metadata": {},
   "outputs": [],
   "source": [
    "n = 100\n",
    "valores_aproximados = {}\n",
    "formulas = ['r_izquierda', 'r_derecha', 'simpson ', 'trapecio']\n",
    "valores_aproximados[formulas[0]] = formula_rectangulo_izquierda(f, a, b, n)\n",
    "valores_aproximados[formulas[1]] = formula_rectangulo_derecha(f, a, b, n)\n",
    "valores_aproximados[formulas[2]] = formula_simpson(f, a, b, n)\n",
    "valores_aproximados[formulas[3]] = formula_trapecio(f, a, b, n)"
   ]
  },
  {
   "cell_type": "code",
   "execution_count": 39,
   "id": "8051d233",
   "metadata": {},
   "outputs": [
    {
     "name": "stdout",
     "output_type": "stream",
     "text": [
      "Valor \"exacto\": 3.77658111776791\n",
      "\n",
      "Fórmula\t\tAproximación\t\tError\n",
      "-------\t\t------------\t\t-----\n",
      "r_izquierda\t3.778523202782093\t0.00194208501418336\n",
      "r_derecha\t3.774646194132547\t0.00193492363536274\n",
      "simpson \t3.776581117805272\t3.73621134031055E-11\n",
      "trapecio\t3.77658469845732\t0.00000358068941030965\n"
     ]
    }
   ],
   "source": [
    "print(\"Valor \\\"exacto\\\": {}\\n\".format(valor_exacto))\n",
    "\n",
    "print(\"Fórmula\\t\\tAproximación\\t\\tError\")\n",
    "print(\"-------\\t\\t------------\\t\\t-----\")\n",
    "for formula in formulas:\n",
    "    print(\"{}\\t{}\\t{}\".format(formula, valores_aproximados[formula], abs(valores_aproximados[formula]-valor_exacto)))"
   ]
  },
  {
   "cell_type": "markdown",
   "id": "1cb852d3",
   "metadata": {},
   "source": [
    "De nuevo, Simpson es la mejor aproximación."
   ]
  },
  {
   "cell_type": "markdown",
   "id": "5b28e641",
   "metadata": {},
   "source": [
    "## Ejercicio 6"
   ]
  },
  {
   "cell_type": "markdown",
   "id": "bd5b5dfb",
   "metadata": {},
   "source": [
    "Sea $f_3(x)=x^{15} e^x$ en $[0,2]$. Vamos a dividir el intervalo en $10\\times 2^n$ subintervalos, es decir, $10,\\,20,\\,40,\\, 80,\\ldots $ y a aplicar la fórmula de Simpson compuesta hasta que la diferencia entre dos aproximaciones consecutivas (por ejemplo, podrían\n",
    "ser con $20$ y $40$ subintervalos) sea menor que $10^{-2}$, dando en tal caso por buena la última aproximación obtenida. Programe\n",
    "y calcule dicha aproximación. Compare ambas aproximaciones con\n",
    "el valor exacto."
   ]
  },
  {
   "cell_type": "markdown",
   "id": "33f16284",
   "metadata": {},
   "source": [
    "Crearemos un algoritmo sencillo para calcular el valor de aproximación de acuerdo a los criterios del enunciado."
   ]
  },
  {
   "cell_type": "code",
   "execution_count": 40,
   "id": "6713217c",
   "metadata": {},
   "outputs": [],
   "source": [
    "def Simpsoncompuesta(f,a,b,m):\n",
    "    h= (b-a)/(2*m)\n",
    "    P = sum([f(a+2*i*h) for i in range(1,m)])\n",
    "    I = sum([f(a+(2*i-1)*h) for i in range(1,m+1)])\n",
    "    E = f(a)+f(b)\n",
    "    return h/3*(E+2*P+4*I)"
   ]
  },
  {
   "cell_type": "code",
   "execution_count": 41,
   "id": "d8f52e88",
   "metadata": {},
   "outputs": [
    {
     "name": "stdout",
     "output_type": "stream",
     "text": [
      "Penúltima:  27062.70241416132\n",
      "Última:  27062.70241391597\n"
     ]
    }
   ],
   "source": [
    "def f0(x):\n",
    "    return x**15*np.exp(x)\n",
    "\n",
    "a, b = 0, 2\n",
    "\n",
    "aprox0 = Simpsoncompuesta(f0,a,b,10)\n",
    "aprox1 = Simpsoncompuesta(f0,a,b,20)\n",
    "\n",
    "n=2\n",
    "while abs(aprox0-aprox1) >= 10**-6:\n",
    "    aprox0 = aprox1\n",
    "    aprox1 = Simpsoncompuesta(f0,a,b,10*2**n)\n",
    "    n+=1\n",
    "\n",
    "print(\"Penúltima: \",aprox0)\n",
    "print(\"Última: \", aprox1)"
   ]
  },
  {
   "cell_type": "markdown",
   "id": "2ae79f96",
   "metadata": {},
   "source": [
    "Compararemos la aproximación obtenida con el valor exacto:"
   ]
  },
  {
   "cell_type": "code",
   "execution_count": 42,
   "id": "305d0512",
   "metadata": {},
   "outputs": [
    {
     "data": {
      "text/plain": [
       "(27062.70241389961, 5.867064321419842e-09)"
      ]
     },
     "execution_count": 42,
     "metadata": {},
     "output_type": "execute_result"
    }
   ],
   "source": [
    "valor_exacto, abserr = quad(f0, a, b)\n",
    "valor_exacto, abserr"
   ]
  },
  {
   "cell_type": "code",
   "execution_count": 43,
   "id": "69b7bace",
   "metadata": {},
   "outputs": [
    {
     "name": "stdout",
     "output_type": "stream",
     "text": [
      "Valor exacto:  27062.70241389961\n",
      "Penúltima:  27062.70241416132\n",
      "Última:  27062.70241391597\n",
      "Error penúltima:  2.6170891942456365e-07\n",
      "Error última:  1.6359990695491433e-08\n"
     ]
    }
   ],
   "source": [
    "print(\"Valor exacto: \", valor_exacto)\n",
    "print(\"Penúltima: \",aprox0)\n",
    "print(\"Última: \", aprox1)\n",
    "print(\"Error penúltima: \", abs(aprox0-valor_exacto))\n",
    "print(\"Error última: \", abs(aprox1-valor_exacto))"
   ]
  },
  {
   "cell_type": "markdown",
   "id": "0ce9bab8",
   "metadata": {},
   "source": [
    "## Ejercicio 7"
   ]
  },
  {
   "cell_type": "markdown",
   "id": "219b0095",
   "metadata": {},
   "source": [
    "Calcule las fórmulas gaussianas con $2$ y $3$ nodos,en el intervalo $[-1,1]$, siendo la función peso el valor absoluto de la variable. Aplíquelas para aproximar la función $x\\; e^x$ en $[-1,1]$ y compare los resultados con el valor exacto (organizando los cálculos de forma adecuada)."
   ]
  },
  {
   "cell_type": "markdown",
   "id": "c9e742c1",
   "metadata": {},
   "source": [
    "Vamos a porgramar una función para modularizar este procedimiento:"
   ]
  },
  {
   "cell_type": "code",
   "execution_count": 44,
   "id": "3153a389",
   "metadata": {},
   "outputs": [],
   "source": [
    "def get_nodos_gauss(w, a, b, n):\n",
    "    x = sp.Symbol('x')\n",
    "    grexact = 2*n-1\n",
    "    \n",
    "    p = sp.symbols('p0:'+ str(n)) # generamos una tupla de n nodos\n",
    "    nodos = list(p)\n",
    "    c = sp.symbols('c0:'+ str(n)) # generamos una tupla de n coeficientes\n",
    "    coefs = list(c)\n",
    "    \n",
    "    incogs = nodos + coefs\n",
    "    ecs = [np.dot([(z**i).subs({z:nodos[j]}) \\\n",
    "                   for j in range(n)],coefs)-sp.integrate(w(x)*x**i,(x,a,b)) \\\n",
    "                       for i in range(grexact+1)]\n",
    "    solsGauss = sp.solve(ecs,incogs)\n",
    "    \n",
    "    for i in range(n):\n",
    "        nodos[i] = solsGauss[0][i]\n",
    "        coefs[i] = solsGauss[0][n+i]\n",
    "    \n",
    "    return [{'coef': coefs[i], 'nodo': nodos[i]} for i in range(n)]"
   ]
  },
  {
   "cell_type": "markdown",
   "id": "b38356dd",
   "metadata": {},
   "source": [
    "Nótese que devuelve un array de dicts. Esto es así para facilitar la sustitución de los valores. Probaremos con dos y tres nodos en el intervalo $[-1,1]$, siendo $\\omega(x)=|x|$."
   ]
  },
  {
   "cell_type": "code",
   "execution_count": 45,
   "id": "4b11b2b5",
   "metadata": {},
   "outputs": [
    {
     "data": {
      "text/plain": [
       "[{'coef': 1/2, 'nodo': -sqrt(2)/2}, {'coef': 1/2, 'nodo': sqrt(2)/2}]"
      ]
     },
     "execution_count": 45,
     "metadata": {},
     "output_type": "execute_result"
    }
   ],
   "source": [
    "def w(x):\n",
    "    return abs(x)\n",
    "ng2 = get_nodos_gauss(w, -1, 1, 2)\n",
    "ng2"
   ]
  },
  {
   "cell_type": "code",
   "execution_count": 46,
   "id": "13337569",
   "metadata": {},
   "outputs": [
    {
     "data": {
      "text/plain": [
       "[{'coef': 1/4, 'nodo': 0},\n",
       " {'coef': 3/8, 'nodo': -sqrt(6)/3},\n",
       " {'coef': 3/8, 'nodo': sqrt(6)/3}]"
      ]
     },
     "execution_count": 46,
     "metadata": {},
     "output_type": "execute_result"
    }
   ],
   "source": [
    "ng3 = get_nodos_gauss(w, -1, 1, 3)\n",
    "ng3"
   ]
  },
  {
   "cell_type": "markdown",
   "id": "ef2e865c",
   "metadata": {},
   "source": [
    "Intentaremos aproximar: \n",
    "$$ \\int_{-1}^1 \\omega(x)xe^xdx=\\int_{-1}^1|x|xe^xdx$$\n",
    "Primero calculamos el valor exacto:"
   ]
  },
  {
   "cell_type": "code",
   "execution_count": 47,
   "id": "12d5e69e",
   "metadata": {},
   "outputs": [],
   "source": [
    "def f(x):\n",
    "    return x*sp.exp(x)"
   ]
  },
  {
   "cell_type": "code",
   "execution_count": 48,
   "id": "64e5a8b6",
   "metadata": {},
   "outputs": [
    {
     "data": {
      "text/latex": [
       "$\\displaystyle -4 + \\frac{5}{e} + e$"
      ],
      "text/plain": [
       "-4 + 5*exp(-1) + E"
      ]
     },
     "execution_count": 48,
     "metadata": {},
     "output_type": "execute_result"
    }
   ],
   "source": [
    "valor_exacto = sp.integrate(w(z)*f(z), [z,-1,1])\n",
    "valor_exacto"
   ]
  },
  {
   "cell_type": "code",
   "execution_count": 49,
   "id": "0912fef0",
   "metadata": {},
   "outputs": [],
   "source": [
    "# para agilizar los cálculos y mostrar directamente el resultado decimal\n",
    "valor_exacto = valor_exacto.evalf()"
   ]
  },
  {
   "cell_type": "code",
   "execution_count": 50,
   "id": "42154af8",
   "metadata": {},
   "outputs": [],
   "source": [
    "def evaluar_gauss(f, nodos_gauss):\n",
    "    aprox = 0\n",
    "    for nodo in nodos_gauss:\n",
    "        aprox += nodo['coef']*f(nodo['nodo'])\n",
    "\n",
    "    return aprox"
   ]
  },
  {
   "cell_type": "code",
   "execution_count": 51,
   "id": "6ff6c6a9",
   "metadata": {},
   "outputs": [],
   "source": [
    "valores_aproximados = {}\n",
    "valores_aproximados[2] = evaluar_gauss(f, ng2).evalf()\n",
    "valores_aproximados[3] = evaluar_gauss(f, ng3).evalf()"
   ]
  },
  {
   "cell_type": "code",
   "execution_count": 52,
   "id": "b08af701",
   "metadata": {},
   "outputs": [
    {
     "name": "stdout",
     "output_type": "stream",
     "text": [
      "Valor exacto: 0.557679034316257\n",
      "\n",
      "n\tAproximación\t\tError\n",
      "-\t------------\t\t-----\n",
      "2\t0.542720820636303\t-0.0149582136799534\n",
      "3\t0.557437075708894\t-0.000241958607363313\n"
     ]
    }
   ],
   "source": [
    "print(\"Valor exacto: {}\\n\".format(valor_exacto))\n",
    "\n",
    "print(\"n\\tAproximación\\t\\tError\")\n",
    "print(\"-\\t------------\\t\\t-----\")\n",
    "for i in [2, 3]:\n",
    "    print(\"{}\\t{}\\t{}\".format(i, valores_aproximados[i], valores_aproximados[i]-valor_exacto))"
   ]
  },
  {
   "cell_type": "markdown",
   "id": "3b7dc842",
   "metadata": {},
   "source": [
    "## Ejercicio 8"
   ]
  },
  {
   "cell_type": "markdown",
   "id": "00b01e1d",
   "metadata": {},
   "source": [
    "Programar las técnicas de integración de Romberg y adaptativa, para después aplicarlas a la aproximación de la siguiente integral $$\\int_a^b p(x)\\, dx$$\n",
    "siendo  $\\;a=\\displaystyle\\min_{0\\leq i\\leq 7}{d_i}$, $\\;b=\\displaystyle\\max_{0\\leq i\\leq 7}{d_i}$ y \n",
    "$$p(x)=d_0 + d_1 x + d_2 x^2 + d_3 x^3+ d_4 x^4 + d_5 x^5 + d_6 x^6 + d_7 x^7 $$\n",
    "(siendo $d_0, d_1, \\ldots, d_7$ los dígitos de su DNI, pasaporte o tarjeta de residente)."
   ]
  },
  {
   "cell_type": "markdown",
   "id": "00d9f3a2",
   "metadata": {},
   "source": [
    "En mi caso, mi dni es 49617109, por lo que $a=0$ y $b=9$. Además, mi polinomio sería:"
   ]
  },
  {
   "cell_type": "code",
   "execution_count": 53,
   "id": "d34429ec",
   "metadata": {},
   "outputs": [],
   "source": [
    "a, b = 0, 9\n",
    "def p(x):\n",
    "    return 4+9*x+6*x**2+1*x**3+7*x**4+1*x**5+0*x**6+9*x**7"
   ]
  },
  {
   "cell_type": "markdown",
   "id": "a29244f3",
   "metadata": {},
   "source": [
    "Veamos, primeramente, el valor exacto:"
   ]
  },
  {
   "cell_type": "code",
   "execution_count": 54,
   "id": "f6fa8be6",
   "metadata": {},
   "outputs": [
    {
     "data": {
      "text/latex": [
       "$\\displaystyle \\frac{1944092079}{40}$"
      ],
      "text/plain": [
       "1944092079/40"
      ]
     },
     "execution_count": 54,
     "metadata": {},
     "output_type": "execute_result"
    }
   ],
   "source": [
    "valor_exacto = sp.integrate(p(z), [z, a, b])\n",
    "valor_exacto"
   ]
  },
  {
   "cell_type": "code",
   "execution_count": 55,
   "id": "b2cdc8ca",
   "metadata": {},
   "outputs": [
    {
     "data": {
      "text/latex": [
       "$\\displaystyle 48602301.975$"
      ],
      "text/plain": [
       "48602301.9750000"
      ]
     },
     "execution_count": 55,
     "metadata": {},
     "output_type": "execute_result"
    }
   ],
   "source": [
    "valor_exacto = valor_exacto.evalf()\n",
    "valor_exacto"
   ]
  },
  {
   "cell_type": "markdown",
   "id": "475a15cb",
   "metadata": {},
   "source": [
    "###### Algoritmo de integración Romberg"
   ]
  },
  {
   "cell_type": "markdown",
   "id": "1d649198",
   "metadata": {},
   "source": [
    "La integración Romberg consiste en hallar la sucesión de aproximaciones $\\{R(N,N)\\}_{N=0}^\\infty$. Sería sencillo programar un algoritmo recursivo para obtener $R(M,M)$ dado un $M$, pero no tendría mucho interés práctico. Programaremos por tanto un algoritmo que irá calculando $R(M,M)$ partiendo de $M=0$ y que parará cuando la diferencia absoluta de los dos últimos términos calculados sea menor que una cierta tolerancia, `tol`.\n",
    "\n",
    "$$\\begin{matrix}\n",
    "R(0,0)\\\\\n",
    "R(1,0) & R(1,1)\\\\\n",
    "R(2,0) & R(2,1) & R(2,2)\\\\\n",
    "\\vdots & \\vdots & \\vdots & \\ddots \\\\\n",
    "R(N,0) & R(N,1) & R(N,2) & \\cdots & R(N,N)\n",
    "\\end{matrix}$$\n",
    "\n",
    "Usaremos que:\n",
    "\n",
    "$$R(j,0)=T_{2^j},\\;\\;\\;\\;R(j,k)=\\frac{4^k R(j,k-1)-R(j-1,k-1)}{4^k-1}\\;\\text{con}\\;j=0,1,...,N;k=1,...,j$$\n",
    "\n",
    "donde $T_n$ es la fórmula del trapecio compuesta en $[a,b]$ con $n$ nodos (programada en la [solución al ejercicio 4](#Solución-al-ejercicio-4)).\n",
    "\n",
    "Este algoritmo funcionará almacenando únicamente las filas necesarias para calcular la última iteración de la sucesión (teniendo en cuenta que, de regalo, nos llevamos que para calcular la última iteración nos hace falta almacenar la fila de la iteración anterior, permitiéndonos hacer la comprobación de la tolerancia aquí)."
   ]
  },
  {
   "cell_type": "code",
   "execution_count": 56,
   "id": "053c71c4",
   "metadata": {},
   "outputs": [],
   "source": [
    "def integracion_romberg(f, a, b, tol=10**(-4)):\n",
    "    n = 0\n",
    "    r0 = [formula_trapecio(f, a, b, 2**n)]\n",
    "    continuar = True\n",
    "    \n",
    "    while continuar:\n",
    "        n += 1\n",
    "        r1 = [formula_trapecio(f, a, b, 2**n)]\n",
    "        \n",
    "        for i in range(0, n):\n",
    "            r1.append((4**n*r1[i-1]-r0[n-1])/(4**n-1))\n",
    "\n",
    "        continuar = (abs(r1[n]-r0[n-1]) >= tol)\n",
    "        r0 = r1\n",
    "    \n",
    "    return r1[n]"
   ]
  },
  {
   "cell_type": "markdown",
   "id": "99c4f8ef",
   "metadata": {},
   "source": [
    "Lo aplicamos a nuestro polinomio:"
   ]
  },
  {
   "cell_type": "code",
   "execution_count": 57,
   "id": "c7f46d6b",
   "metadata": {},
   "outputs": [
    {
     "data": {
      "text/plain": [
       "48602301.97501296"
      ]
     },
     "execution_count": 57,
     "metadata": {},
     "output_type": "execute_result"
    }
   ],
   "source": [
    "valor_aproximado = integracion_romberg(p, a, b)\n",
    "valor_aproximado"
   ]
  },
  {
   "cell_type": "markdown",
   "id": "973e6fbb",
   "metadata": {},
   "source": [
    "Obtenemos una aproximación bastante buena"
   ]
  },
  {
   "cell_type": "code",
   "execution_count": 58,
   "id": "72f1f43f",
   "metadata": {},
   "outputs": [
    {
     "data": {
      "text/latex": [
       "$\\displaystyle 1.29565596580505 \\cdot 10^{-5}$"
      ],
      "text/plain": [
       "1.29565596580505e-5"
      ]
     },
     "execution_count": 58,
     "metadata": {},
     "output_type": "execute_result"
    }
   ],
   "source": [
    "error_romberg = abs(valor_exacto - valor_aproximado)\n",
    "error_romberg"
   ]
  },
  {
   "cell_type": "markdown",
   "id": "2b0c1ae8",
   "metadata": {},
   "source": [
    "###### Algoritmo de integración adaptativa"
   ]
  },
  {
   "cell_type": "code",
   "execution_count": 59,
   "id": "89f3ad24",
   "metadata": {},
   "outputs": [],
   "source": [
    "def formula_simpson(f, a, b):\n",
    "    m = (a+b)/2\n",
    "    return (b-a)/6*(f(a)+4*f(m)+f(b))\n",
    "\n",
    "def integracion_adaptativa(f, a, b, e=10**(-3)):\n",
    "    m = (a+b)/2\n",
    "    s = formula_simpson(f, a, m) + formula_simpson(f, m, b)\n",
    "    return s if ( abs(s-formula_simpson(f, a, b)) < 10*e ) \\\n",
    "        else integracion_adaptativa(f, a, m, e/2) + integracion_adaptativa(f, m, b, e/2)"
   ]
  },
  {
   "cell_type": "markdown",
   "id": "bc3d7475",
   "metadata": {},
   "source": [
    "Veamos la forma que tiene nuestro polinomio, y así podremos predecir en cierto modo cómo se comportará el algoritmo de integración adaptativa."
   ]
  },
  {
   "cell_type": "code",
   "execution_count": 60,
   "id": "4246187d",
   "metadata": {},
   "outputs": [
    {
     "data": {
      "text/plain": [
       "48602301.9752125"
      ]
     },
     "execution_count": 60,
     "metadata": {},
     "output_type": "execute_result"
    }
   ],
   "source": [
    "valor_aproximado = integracion_adaptativa(p, a, b)\n",
    "valor_aproximado"
   ]
  },
  {
   "cell_type": "markdown",
   "id": "5c532cba",
   "metadata": {},
   "source": [
    "Para hacer plot incluyendo las subdivisiones del algoritmo de integración adaptativa, usaremos una ligera variación de la función en la que usaremos una variable de scope `global`. Es muy importante puntualizar que esta no es una buena práctica de diseño en Python, y que es posible crear una función equivalente sin necesidad de usar `global`, pero sería un tanto ilegible (en otros lenguajes como C o Java sería más sencillo, pues bastaría pasar parámetros por referencia). Por tanto, lo siguiente colmará nuestro propósito sobradamente. Ejecutaremos esta función modificada que, además, almacena estas subdivisiones en el vector `subdivisiones`:"
   ]
  },
  {
   "cell_type": "code",
   "execution_count": 61,
   "id": "147bf836",
   "metadata": {},
   "outputs": [],
   "source": [
    "subdivisiones = []\n",
    "def integracion_adaptativa_s(f, a, b, e=10**(-3)):\n",
    "    global subdivisiones\n",
    "    m = (a+b)/2\n",
    "    s = formula_simpson(f, a, m) + formula_simpson(f, m, b)\n",
    "    if ( abs(s-formula_simpson(f, a, b)) < 10*e ):\n",
    "        return s\n",
    "    else:\n",
    "        subdivisiones.append(m)\n",
    "        return integracion_adaptativa_s(f, a, m, e/2) + integracion_adaptativa_s(f, m, b, e/2)"
   ]
  },
  {
   "cell_type": "code",
   "execution_count": 62,
   "id": "af72fa68",
   "metadata": {},
   "outputs": [
    {
     "data": {
      "text/plain": [
       "48602301.9752125"
      ]
     },
     "execution_count": 62,
     "metadata": {},
     "output_type": "execute_result"
    }
   ],
   "source": [
    "integracion_adaptativa_s(p, a, b)"
   ]
  },
  {
   "cell_type": "code",
   "execution_count": 63,
   "id": "4ffef820",
   "metadata": {},
   "outputs": [
    {
     "data": {
      "text/plain": [
       "[4.5,\n",
       " 2.25,\n",
       " 1.125,\n",
       " 0.5625,\n",
       " 0.28125,\n",
       " 0.421875,\n",
       " 0.84375,\n",
       " 0.703125,\n",
       " 0.984375,\n",
       " 1.0546875,\n",
       " 1.6875,\n",
       " 1.40625,\n",
       " 1.265625,\n",
       " 1.1953125,\n",
       " 1.3359375,\n",
       " 1.546875,\n",
       " 1.4765625,\n",
       " 1.6171875,\n",
       " 1.96875,\n",
       " 1.828125,\n",
       " 1.7578125,\n",
       " 1.8984375,\n",
       " 2.109375,\n",
       " 2.0390625,\n",
       " 2.1796875,\n",
       " 3.375,\n",
       " 2.8125,\n",
       " 2.53125,\n",
       " 2.390625,\n",
       " 2.3203125,\n",
       " 2.4609375,\n",
       " 2.671875,\n",
       " 2.6015625,\n",
       " 2.7421875,\n",
       " 2.70703125,\n",
       " 2.77734375,\n",
       " 3.09375,\n",
       " 2.953125,\n",
       " 2.8828125,\n",
       " 2.84765625,\n",
       " 2.91796875,\n",
       " 3.0234375,\n",
       " 2.98828125,\n",
       " 3.05859375,\n",
       " 3.234375,\n",
       " 3.1640625,\n",
       " 3.12890625,\n",
       " 3.19921875,\n",
       " 3.3046875,\n",
       " 3.26953125,\n",
       " 3.33984375,\n",
       " 3.9375,\n",
       " 3.65625,\n",
       " 3.515625,\n",
       " 3.4453125,\n",
       " 3.41015625,\n",
       " 3.48046875,\n",
       " 3.5859375,\n",
       " 3.55078125,\n",
       " 3.62109375,\n",
       " 3.796875,\n",
       " 3.7265625,\n",
       " 3.69140625,\n",
       " 3.76171875,\n",
       " 3.8671875,\n",
       " 3.83203125,\n",
       " 3.90234375,\n",
       " 4.21875,\n",
       " 4.078125,\n",
       " 4.0078125,\n",
       " 3.97265625,\n",
       " 4.04296875,\n",
       " 4.1484375,\n",
       " 4.11328125,\n",
       " 4.18359375,\n",
       " 4.359375,\n",
       " 4.2890625,\n",
       " 4.25390625,\n",
       " 4.32421875,\n",
       " 4.4296875,\n",
       " 4.39453125,\n",
       " 4.46484375,\n",
       " 6.75,\n",
       " 5.625,\n",
       " 5.0625,\n",
       " 4.78125,\n",
       " 4.640625,\n",
       " 4.5703125,\n",
       " 4.53515625,\n",
       " 4.60546875,\n",
       " 4.7109375,\n",
       " 4.67578125,\n",
       " 4.74609375,\n",
       " 4.921875,\n",
       " 4.8515625,\n",
       " 4.81640625,\n",
       " 4.88671875,\n",
       " 4.9921875,\n",
       " 4.95703125,\n",
       " 5.02734375,\n",
       " 5.34375,\n",
       " 5.203125,\n",
       " 5.1328125,\n",
       " 5.09765625,\n",
       " 5.16796875,\n",
       " 5.2734375,\n",
       " 5.23828125,\n",
       " 5.30859375,\n",
       " 5.484375,\n",
       " 5.4140625,\n",
       " 5.37890625,\n",
       " 5.44921875,\n",
       " 5.5546875,\n",
       " 5.51953125,\n",
       " 5.58984375,\n",
       " 6.1875,\n",
       " 5.90625,\n",
       " 5.765625,\n",
       " 5.6953125,\n",
       " 5.66015625,\n",
       " 5.73046875,\n",
       " 5.8359375,\n",
       " 5.80078125,\n",
       " 5.87109375,\n",
       " 6.046875,\n",
       " 5.9765625,\n",
       " 5.94140625,\n",
       " 6.01171875,\n",
       " 6.1171875,\n",
       " 6.08203125,\n",
       " 6.15234375,\n",
       " 6.46875,\n",
       " 6.328125,\n",
       " 6.2578125,\n",
       " 6.22265625,\n",
       " 6.29296875,\n",
       " 6.3984375,\n",
       " 6.36328125,\n",
       " 6.43359375,\n",
       " 6.609375,\n",
       " 6.5390625,\n",
       " 6.50390625,\n",
       " 6.57421875,\n",
       " 6.6796875,\n",
       " 6.64453125,\n",
       " 6.662109375,\n",
       " 6.71484375,\n",
       " 6.697265625,\n",
       " 6.732421875,\n",
       " 7.875,\n",
       " 7.3125,\n",
       " 7.03125,\n",
       " 6.890625,\n",
       " 6.8203125,\n",
       " 6.78515625,\n",
       " 6.767578125,\n",
       " 6.802734375,\n",
       " 6.85546875,\n",
       " 6.837890625,\n",
       " 6.873046875,\n",
       " 6.9609375,\n",
       " 6.92578125,\n",
       " 6.908203125,\n",
       " 6.943359375,\n",
       " 6.99609375,\n",
       " 6.978515625,\n",
       " 7.013671875,\n",
       " 7.171875,\n",
       " 7.1015625,\n",
       " 7.06640625,\n",
       " 7.048828125,\n",
       " 7.083984375,\n",
       " 7.13671875,\n",
       " 7.119140625,\n",
       " 7.154296875,\n",
       " 7.2421875,\n",
       " 7.20703125,\n",
       " 7.189453125,\n",
       " 7.224609375,\n",
       " 7.27734375,\n",
       " 7.259765625,\n",
       " 7.294921875,\n",
       " 7.59375,\n",
       " 7.453125,\n",
       " 7.3828125,\n",
       " 7.34765625,\n",
       " 7.330078125,\n",
       " 7.365234375,\n",
       " 7.41796875,\n",
       " 7.400390625,\n",
       " 7.435546875,\n",
       " 7.5234375,\n",
       " 7.48828125,\n",
       " 7.470703125,\n",
       " 7.505859375,\n",
       " 7.55859375,\n",
       " 7.541015625,\n",
       " 7.576171875,\n",
       " 7.734375,\n",
       " 7.6640625,\n",
       " 7.62890625,\n",
       " 7.611328125,\n",
       " 7.646484375,\n",
       " 7.69921875,\n",
       " 7.681640625,\n",
       " 7.716796875,\n",
       " 7.8046875,\n",
       " 7.76953125,\n",
       " 7.751953125,\n",
       " 7.787109375,\n",
       " 7.83984375,\n",
       " 7.822265625,\n",
       " 7.857421875,\n",
       " 8.4375,\n",
       " 8.15625,\n",
       " 8.015625,\n",
       " 7.9453125,\n",
       " 7.91015625,\n",
       " 7.892578125,\n",
       " 7.927734375,\n",
       " 7.98046875,\n",
       " 7.962890625,\n",
       " 7.998046875,\n",
       " 8.0859375,\n",
       " 8.05078125,\n",
       " 8.033203125,\n",
       " 8.068359375,\n",
       " 8.12109375,\n",
       " 8.103515625,\n",
       " 8.138671875,\n",
       " 8.296875,\n",
       " 8.2265625,\n",
       " 8.19140625,\n",
       " 8.173828125,\n",
       " 8.208984375,\n",
       " 8.26171875,\n",
       " 8.244140625,\n",
       " 8.279296875,\n",
       " 8.3671875,\n",
       " 8.33203125,\n",
       " 8.314453125,\n",
       " 8.349609375,\n",
       " 8.40234375,\n",
       " 8.384765625,\n",
       " 8.419921875,\n",
       " 8.71875,\n",
       " 8.578125,\n",
       " 8.5078125,\n",
       " 8.47265625,\n",
       " 8.455078125,\n",
       " 8.490234375,\n",
       " 8.54296875,\n",
       " 8.525390625,\n",
       " 8.560546875,\n",
       " 8.6484375,\n",
       " 8.61328125,\n",
       " 8.595703125,\n",
       " 8.630859375,\n",
       " 8.68359375,\n",
       " 8.666015625,\n",
       " 8.701171875,\n",
       " 8.859375,\n",
       " 8.7890625,\n",
       " 8.75390625,\n",
       " 8.736328125,\n",
       " 8.771484375,\n",
       " 8.82421875,\n",
       " 8.806640625,\n",
       " 8.841796875,\n",
       " 8.9296875,\n",
       " 8.89453125,\n",
       " 8.876953125,\n",
       " 8.912109375,\n",
       " 8.96484375,\n",
       " 8.947265625,\n",
       " 8.982421875]"
      ]
     },
     "execution_count": 63,
     "metadata": {},
     "output_type": "execute_result"
    }
   ],
   "source": [
    "subdivisiones"
   ]
  },
  {
   "cell_type": "markdown",
   "id": "fbcd339a",
   "metadata": {},
   "source": [
    "El resultado es el mismo, pero, además, tenemos datos en subdivisiones"
   ]
  },
  {
   "cell_type": "markdown",
   "id": "825e79bb",
   "metadata": {},
   "source": [
    "Haremos plot de la función junto con las subdivisiones del algoritmo de integración adaptativa:"
   ]
  },
  {
   "cell_type": "code",
   "execution_count": 64,
   "id": "6c202e9f",
   "metadata": {},
   "outputs": [
    {
     "data": {
      "image/png": "[encoded data removed]",
      "text/plain": [
       "<Figure size 576x576 with 1 Axes>"
      ]
     },
     "metadata": {
      "needs_background": "light"
     },
     "output_type": "display_data"
    }
   ],
   "source": [
    "nxx = 100\n",
    "xx = np.linspace(float(a),float(b),nxx)\n",
    "yy = p(xx)\n",
    "fig,ax = plt.subplots(figsize=(8,8))\n",
    "ax.plot(xx,yy,'k',label='p(x)')\n",
    "for subd in subdivisiones:\n",
    "    ax.plot(subd,-12**5,'r|')\n",
    "ax.plot(-1,0,'r|', label='subdivisiones')\n",
    "ax.legend(loc='upper left')\n",
    "ax.set_xlim([a,b])\n",
    "ax.set_xlabel('$x$',fontsize=18)\n",
    "ax.set_ylabel('$y$',fontsize=18)\n",
    "ax.set_title('Integración Romberg de p(x)');"
   ]
  },
  {
   "cell_type": "markdown",
   "id": "be9685dc",
   "metadata": {},
   "source": [
    "Vemos cómo hay más subdivisiones donde más \"cambia\" $p$."
   ]
  },
  {
   "cell_type": "code",
   "execution_count": 65,
   "id": "97aba232",
   "metadata": {},
   "outputs": [
    {
     "data": {
      "text/latex": [
       "$\\displaystyle 0.000212498009204865$"
      ],
      "text/plain": [
       "0.000212498009204865"
      ]
     },
     "execution_count": 65,
     "metadata": {},
     "output_type": "execute_result"
    }
   ],
   "source": [
    "error_adaptativa = abs(valor_exacto - valor_aproximado)\n",
    "error_adaptativa"
   ]
  },
  {
   "cell_type": "markdown",
   "id": "59ab306d",
   "metadata": {},
   "source": [
    "Vemos que el error de la aproximación por integración Romberg es menor que el de la aproximación por integración adaptativa con nuestros criterios de tolerancia y $epsilon$, respectivamente para cada uno de ellos:"
   ]
  },
  {
   "cell_type": "code",
   "execution_count": 66,
   "id": "dcc87a3c",
   "metadata": {},
   "outputs": [
    {
     "data": {
      "text/latex": [
       "$\\displaystyle \\text{True}$"
      ],
      "text/plain": [
       "True"
      ]
     },
     "execution_count": 66,
     "metadata": {},
     "output_type": "execute_result"
    }
   ],
   "source": [
    "error_romberg < error_adaptativa"
   ]
  },
  {
   "cell_type": "code",
   "execution_count": null,
   "id": "36e89380",
   "metadata": {},
   "outputs": [],
   "source": []
  }
 ],
 "metadata": {
  "kernelspec": {
   "display_name": "Python 3 (ipykernel)",
   "language": "python",
   "name": "python3"
  },
  "language_info": {
   "codemirror_mode": {
    "name": "ipython",
    "version": 3
   },
   "file_extension": ".py",
   "mimetype": "text/x-python",
   "name": "python",
   "nbconvert_exporter": "python",
   "pygments_lexer": "ipython3",
   "version": "3.8.8"
  }
 },
 "nbformat": 4,
 "nbformat_minor": 5
}
