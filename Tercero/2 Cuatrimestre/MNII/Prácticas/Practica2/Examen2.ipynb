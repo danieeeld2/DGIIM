{
 "cells": [
  {
   "cell_type": "markdown",
   "id": "38d5cebf",
   "metadata": {},
   "source": [
    "Daniel Alconchel Vázquez"
   ]
  },
  {
   "cell_type": "markdown",
   "id": "89bbbb54",
   "metadata": {},
   "source": [
    "Vamos a comenzar almacenando los datos de mi DNI: 49617109"
   ]
  },
  {
   "cell_type": "code",
   "execution_count": 44,
   "id": "5d1bfb1f",
   "metadata": {},
   "outputs": [],
   "source": [
    "import numpy as np\n",
    "import matplotlib.pyplot as plt\n",
    "import sympy as sp\n",
    "from decimal import *\n",
    "import math\n",
    "import os\n",
    "from sympy.solvers import solve, nsolve, solveset\n",
    "from scipy.integrate import quad, dblquad, tplquad\n",
    "\n",
    "\n",
    "f = sp.Function('f')\n",
    "a,h = sp.symbols('a,h')\n",
    "x = sp.Symbol('x')"
   ]
  },
  {
   "cell_type": "code",
   "execution_count": 45,
   "id": "b32c1c1e",
   "metadata": {},
   "outputs": [],
   "source": [
    "s = 4+9+6+1+7+1+0+9\n",
    "m = s/8"
   ]
  },
  {
   "cell_type": "code",
   "execution_count": 46,
   "id": "13a43084",
   "metadata": {},
   "outputs": [
    {
     "data": {
      "text/plain": [
       "(37, 4.625)"
      ]
     },
     "execution_count": 46,
     "metadata": {},
     "output_type": "execute_result"
    }
   ],
   "source": [
    "s,m"
   ]
  },
  {
   "cell_type": "markdown",
   "id": "dd42abcd",
   "metadata": {},
   "source": [
    "Nos piden realizar la integral en el intervalo $[a,b]$, con $a=min(digitosdni)$ y $b=max(digitosdni)$. Luego, el intervalo a considerar, en mi caso, es $[0,9]$. Como el logaritmo da problemas en 0, voy a considerar el intervalo $[0.1, 9]$"
   ]
  },
  {
   "cell_type": "markdown",
   "id": "fe0df783",
   "metadata": {},
   "source": [
    "Por otro lado, la función dada, según mis datos, es $f(x)=37\\cdot x^{4.625}\\cdot ln(x)$"
   ]
  },
  {
   "cell_type": "markdown",
   "id": "95a7aa27",
   "metadata": {},
   "source": [
    "Vamos a crear el algoritmo de Simpson:"
   ]
  },
  {
   "cell_type": "code",
   "execution_count": 47,
   "id": "c7bc2214",
   "metadata": {},
   "outputs": [],
   "source": [
    "def Simpsoncompuesta(f,a,b,m):\n",
    "    h= (b-a)/(2*m)\n",
    "    P = sum([f(a+2*i*h) for i in range(1,m)])\n",
    "    I = sum([f(a+(2*i-1)*h) for i in range(1,m+1)])\n",
    "    E = f(a)+f(b)\n",
    "    return h/3*(E+2*P+4*I)"
   ]
  },
  {
   "cell_type": "code",
   "execution_count": 52,
   "id": "68872b6f",
   "metadata": {},
   "outputs": [],
   "source": [
    "def f0(x):\n",
    "    return 37*np.log(x)*(x**4.625)\n",
    "\n",
    "a,b = 0.1, 9\n",
    "\n",
    "aprox0 = Simpsoncompuesta(f0,a,b,10)\n",
    "aprox1 = Simpsoncompuesta(f0,a,b,20)\n",
    "\n",
    "n=2\n",
    "while abs(aprox0-aprox1) >= 10**-6:\n",
    "    aprox0 = aprox1\n",
    "    aprox1 = Simpsoncompuesta(f0,a,b,10*2**n)\n",
    "    n+=1"
   ]
  },
  {
   "cell_type": "markdown",
   "id": "946131de",
   "metadata": {},
   "source": [
    "Veamos el resultado obtenido:"
   ]
  },
  {
   "cell_type": "code",
   "execution_count": 59,
   "id": "8d66369b",
   "metadata": {},
   "outputs": [
    {
     "name": "stdout",
     "output_type": "stream",
     "text": [
      "Penúltima:  3096889.6416987274\n",
      "Última:  3096889.6416985956\n"
     ]
    }
   ],
   "source": [
    "print(\"Penúltima: \",aprox0)\n",
    "print(\"Última: \", aprox1)"
   ]
  },
  {
   "cell_type": "code",
   "execution_count": 60,
   "id": "07659bdf",
   "metadata": {},
   "outputs": [
    {
     "data": {
      "text/plain": [
       "1.317821443080902e-07"
      ]
     },
     "execution_count": 60,
     "metadata": {},
     "output_type": "execute_result"
    }
   ],
   "source": [
    "abs(aprox0-aprox1)"
   ]
  },
  {
   "cell_type": "markdown",
   "id": "10fa51a7",
   "metadata": {},
   "source": [
    "Como vemos, la diferencia entre las dos aproximaciones consecutivas es menos que $10^{-6}$"
   ]
  },
  {
   "cell_type": "markdown",
   "id": "30025fc0",
   "metadata": {},
   "source": [
    "Vamos ahora a calcular el valor exacto de la integral:"
   ]
  },
  {
   "cell_type": "code",
   "execution_count": 62,
   "id": "cdc46100",
   "metadata": {},
   "outputs": [
    {
     "data": {
      "text/plain": [
       "(3096889.6416985956, 1.1895808544667234e-06)"
      ]
     },
     "execution_count": 62,
     "metadata": {},
     "output_type": "execute_result"
    }
   ],
   "source": [
    "valor_exacto, abserr = quad(f0, a, b)\n",
    "valor_exacto, abserr"
   ]
  },
  {
   "cell_type": "markdown",
   "id": "cabe8030",
   "metadata": {},
   "source": [
    "Luego, en resumen tenemos que:"
   ]
  },
  {
   "cell_type": "code",
   "execution_count": 63,
   "id": "c2d6ba46",
   "metadata": {},
   "outputs": [
    {
     "name": "stdout",
     "output_type": "stream",
     "text": [
      "Valor exacto:  3096889.6416985956\n",
      "Penúltima:  3096889.6416987274\n",
      "Última:  3096889.6416985956\n",
      "Error penúltima:  1.317821443080902e-07\n",
      "Error última:  0.0\n"
     ]
    }
   ],
   "source": [
    "print(\"Valor exacto: \", valor_exacto)\n",
    "print(\"Penúltima: \",aprox0)\n",
    "print(\"Última: \", aprox1)\n",
    "print(\"Error penúltima: \", abs(aprox0-valor_exacto))\n",
    "print(\"Error última: \", abs(aprox1-valor_exacto))"
   ]
  },
  {
   "cell_type": "code",
   "execution_count": null,
   "id": "f6cc4729",
   "metadata": {},
   "outputs": [],
   "source": []
  }
 ],
 "metadata": {
  "kernelspec": {
   "display_name": "Python 3 (ipykernel)",
   "language": "python",
   "name": "python3"
  },
  "language_info": {
   "codemirror_mode": {
    "name": "ipython",
    "version": 3
   },
   "file_extension": ".py",
   "mimetype": "text/x-python",
   "name": "python",
   "nbconvert_exporter": "python",
   "pygments_lexer": "ipython3",
   "version": "3.8.10"
  }
 },
 "nbformat": 4,
 "nbformat_minor": 5
}
