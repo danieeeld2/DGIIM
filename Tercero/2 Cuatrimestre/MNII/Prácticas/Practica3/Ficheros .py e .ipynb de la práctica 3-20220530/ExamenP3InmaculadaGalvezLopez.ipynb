{
 "cells": [
  {
   "cell_type": "code",
   "execution_count": 1,
   "metadata": {},
   "outputs": [],
   "source": [
    "import numpy as np\n",
    "import sympy as sp\n",
    "import matplotlib.pyplot as plt\n",
    "%matplotlib inline \n",
    "from random import random \n",
    "sp.init_printing()\n",
    "import math\n",
    "import timeit\n",
    "\n",
    "\n",
    "t, x, z = sp.symbols('t, x, z')\n",
    "h = sp.symbols('h')\n",
    "y0 = sp.symbols('y_0')\n"
   ]
  },
  {
   "cell_type": "code",
   "execution_count": 2,
   "metadata": {},
   "outputs": [],
   "source": [
    "def f(t,z):\n",
    "    return (t-z)/2"
   ]
  },
  {
   "cell_type": "code",
   "execution_count": 3,
   "metadata": {},
   "outputs": [],
   "source": [
    "a = 0; b = 1;   # extremos inferior y superior del intervalo \n",
    "ya = 1          # condición inicial del PVI"
   ]
  },
  {
   "cell_type": "code",
   "execution_count": 4,
   "metadata": {},
   "outputs": [
    {
     "data": {
      "image/png": "[encoded data removed]",
      "text/latex": [
       "$$- \\frac{t}{2} + \\frac{y{\\left (t \\right )}}{2} + \\frac{d}{d t} y{\\left (t \\right )} = 0$$"
      ],
      "text/plain": [
       "  t   y(t)   d           \n",
       "- ─ + ──── + ──(y(t)) = 0\n",
       "  2    2     dt          "
      ]
     },
     "execution_count": 4,
     "metadata": {},
     "output_type": "execute_result"
    }
   ],
   "source": [
    "#Hallamos la solución exacta\n",
    "\n",
    "y = sp.Function('y')\n",
    "edo = y(t).diff(t)-f(t,y(t))\n",
    "sp.Eq(edo,0)"
   ]
  },
  {
   "cell_type": "code",
   "execution_count": 5,
   "metadata": {},
   "outputs": [
    {
     "data": {
      "image/png": "[encoded data removed]",
      "text/latex": [
       "$$y{\\left (t \\right )} = \\left(C_{1} + \\left(t - 2\\right) e^{\\frac{t}{2}}\\right) e^{- \\frac{t}{2}}$$"
      ],
      "text/plain": [
       "       ⎛              t⎞  -t \n",
       "       ⎜              ─⎟  ───\n",
       "       ⎜              2⎟   2 \n",
       "y(t) = ⎝C₁ + (t - 2)⋅ℯ ⎠⋅ℯ   "
      ]
     },
     "execution_count": 5,
     "metadata": {},
     "output_type": "execute_result"
    }
   ],
   "source": [
    "edo_sol = sp.dsolve(edo)\n",
    "edo_sol"
   ]
  },
  {
   "cell_type": "code",
   "execution_count": 6,
   "metadata": {},
   "outputs": [
    {
     "data": {
      "image/png": "[encoded data removed]",
      "text/latex": [
       "$$\\left \\{ y{\\left (0 \\right )} : y_{0}\\right \\}$$"
      ],
      "text/plain": [
       "{y(0): y₀}"
      ]
     },
     "execution_count": 6,
     "metadata": {},
     "output_type": "execute_result"
    }
   ],
   "source": [
    "ics = {y(0): y0} \n",
    "ics"
   ]
  },
  {
   "cell_type": "code",
   "execution_count": 7,
   "metadata": {},
   "outputs": [
    {
     "data": {
      "image/png": "[encoded data removed]",
      "text/latex": [
       "$$\\left ( C_{1} - 2, \\quad y_{0}\\right )$$"
      ],
      "text/plain": [
       "(C₁ - 2, y₀)"
      ]
     },
     "execution_count": 7,
     "metadata": {},
     "output_type": "execute_result"
    }
   ],
   "source": [
    "edo_sol.rhs.subs(t, 0),edo_sol.lhs.subs(t, 0).subs(ics)"
   ]
  },
  {
   "cell_type": "code",
   "execution_count": 8,
   "metadata": {},
   "outputs": [
    {
     "data": {
      "image/png": "[encoded data removed]",
      "text/latex": [
       "$$y_{0} = C_{1} - 2$$"
      ],
      "text/plain": [
       "y₀ = C₁ - 2"
      ]
     },
     "execution_count": 8,
     "metadata": {},
     "output_type": "execute_result"
    }
   ],
   "source": [
    "CI_eq = sp.Eq(edo_sol.lhs.subs(t, 0).subs(ics),edo_sol.rhs.subs(t, 0))\n",
    "CI_eq   "
   ]
  },
  {
   "cell_type": "code",
   "execution_count": 9,
   "metadata": {},
   "outputs": [
    {
     "data": {
      "image/png": "[encoded data removed]",
      "text/latex": [
       "$$\\left \\{ C_{1} : y_{0} + 2\\right \\}$$"
      ],
      "text/plain": [
       "{C₁: y₀ + 2}"
      ]
     },
     "execution_count": 9,
     "metadata": {},
     "output_type": "execute_result"
    }
   ],
   "source": [
    "CI_sol = sp.solve(CI_eq) \n",
    "CI_sol[0]                "
   ]
  },
  {
   "cell_type": "code",
   "execution_count": 10,
   "metadata": {},
   "outputs": [
    {
     "data": {
      "image/png": "[encoded data removed]",
      "text/latex": [
       "$$y{\\left (t \\right )} = \\left(C_{1} + \\left(t - 2\\right) e^{\\frac{t}{2}}\\right) e^{- \\frac{t}{2}}$$"
      ],
      "text/plain": [
       "       ⎛              t⎞  -t \n",
       "       ⎜              ─⎟  ───\n",
       "       ⎜              2⎟   2 \n",
       "y(t) = ⎝C₁ + (t - 2)⋅ℯ ⎠⋅ℯ   "
      ]
     },
     "execution_count": 10,
     "metadata": {},
     "output_type": "execute_result"
    }
   ],
   "source": [
    "edo_sol  "
   ]
  },
  {
   "cell_type": "code",
   "execution_count": 11,
   "metadata": {},
   "outputs": [
    {
     "data": {
      "image/png": "[encoded data removed]",
      "text/latex": [
       "$$y{\\left (t \\right )} = \\left(y_{0} + \\left(t - 2\\right) e^{\\frac{t}{2}} + 2\\right) e^{- \\frac{t}{2}}$$"
      ],
      "text/plain": [
       "       ⎛              t    ⎞  -t \n",
       "       ⎜              ─    ⎟  ───\n",
       "       ⎜              2    ⎟   2 \n",
       "y(t) = ⎝y₀ + (t - 2)⋅ℯ  + 2⎠⋅ℯ   "
      ]
     },
     "execution_count": 11,
     "metadata": {},
     "output_type": "execute_result"
    }
   ],
   "source": [
    "edo_sol.subs(CI_sol[0]) "
   ]
  },
  {
   "cell_type": "code",
   "execution_count": 12,
   "metadata": {},
   "outputs": [
    {
     "data": {
      "image/png": "[encoded data removed]",
      "text/latex": [
       "$$\\left(\\left(t - 2\\right) e^{\\frac{t}{2}} + 3\\right) e^{- \\frac{t}{2}}$$"
      ],
      "text/plain": [
       "⎛         t    ⎞  -t \n",
       "⎜         ─    ⎟  ───\n",
       "⎜         2    ⎟   2 \n",
       "⎝(t - 2)⋅ℯ  + 3⎠⋅ℯ   "
      ]
     },
     "execution_count": 12,
     "metadata": {},
     "output_type": "execute_result"
    }
   ],
   "source": [
    "sol_exacta = edo_sol.rhs.subs(CI_sol[0]).subs({y0:ya})\n"
   ]
  },
  {
   "cell_type": "code",
   "execution_count": 13,
   "metadata": {},
   "outputs": [],
   "source": [
    "'''EULER MEJORADO / PUNTO MEDIO'''\n",
    "def PtoMedio(F,a,b,x0,h):\n",
    "\n",
    "    N = int((b-a)/h)\n",
    "\n",
    "    tn =[]\n",
    "    xn = []\n",
    "    tn.append(a)\n",
    "    xn.append(x0)\n",
    "    \n",
    "    for i in range(1,N+1):\n",
    "        tn.append(a+i*h)\n",
    "        xn.append(0)\n",
    "    \n",
    "    for i in range(N):\n",
    "        xn[i+1] = xn[i] + h*F(tn[i]+h/2,xn[i]+(h/2)*F(tn[i],xn[i]))\n",
    "\n",
    "    valores_exactos = np.array([sol_exacta.subs({t:tn[n]}) for n in range(len(xn))])\n",
    "    \n",
    "    diferencias = []\n",
    "    for i in range (N+1):\n",
    "        diferencias.append(abs(valores_exactos[i]-xn[i]))\n",
    "        \n",
    "    return tn,xn,diferencias\n",
    "    "
   ]
  },
  {
   "cell_type": "code",
   "execution_count": 14,
   "metadata": {},
   "outputs": [],
   "source": [
    "a = 0\n",
    "b = 1\n",
    "x0 = 1\n",
    "h = 0.1\n",
    "tnPtoMedio, xnPtoMedio, difPtoMedio = PtoMedio(f,a,b,x0,h)"
   ]
  },
  {
   "cell_type": "code",
   "execution_count": 15,
   "metadata": {},
   "outputs": [],
   "source": [
    "'''EULER MODIFICADO / HEUN'''\n",
    "\n",
    "def Heun(F,a,b,x0,h):\n",
    "\n",
    "    N = int((b-a)/h)\n",
    "\n",
    "    tn =[]\n",
    "    xn = []\n",
    "    tn.append(a)\n",
    "    xn.append(x0)\n",
    "    \n",
    "    for i in range(1,N+1):\n",
    "        tn.append(a+i*h)\n",
    "        xn.append(0)\n",
    "    \n",
    "    \n",
    "    for i in range(N):\n",
    "        xn[i+1] = xn[i] + (h/2)*(F(tn[i],xn[i])+F(tn[i+1],xn[i]+h*F(tn[i],xn[i])))\n",
    "    \n",
    "    valores_exactos = np.array([sol_exacta.subs({t:tn[n]}) for n in range(len(xn))])\n",
    "    \n",
    "    diferencias = []\n",
    "    for i in range (N+1):\n",
    "        diferencias.append(abs(valores_exactos[i]-xn[i]))\n",
    "        \n",
    "    return tn,xn,diferencias"
   ]
  },
  {
   "cell_type": "code",
   "execution_count": 16,
   "metadata": {},
   "outputs": [],
   "source": [
    "a = 0\n",
    "b = 1\n",
    "x0 = 1\n",
    "h = 0.1\n",
    "tnHeun, xnHeun, difHeun = Heun(f,a,b,x0,h)"
   ]
  },
  {
   "cell_type": "code",
   "execution_count": null,
   "metadata": {},
   "outputs": [],
   "source": []
  },
  {
   "cell_type": "code",
   "execution_count": null,
   "metadata": {},
   "outputs": [],
   "source": []
  },
  {
   "cell_type": "code",
   "execution_count": 17,
   "metadata": {},
   "outputs": [],
   "source": [
    "#Modificamos para obtener RungeKutta con 2 evaluaciones en función de alpha y beta\n",
    "\n",
    "'''RUNGE-KUTTA 2 EVALUACIONES'''\n",
    "\n",
    "def RK2(F,alpha,beta,a,b,x0,h):\n",
    "\n",
    "    N = int((b-a)/h)\n",
    "\n",
    "    tn =[]\n",
    "    xn = []\n",
    "    tn.append(a)\n",
    "    xn.append(x0)\n",
    "\n",
    "    for i in range(1,N+1):\n",
    "        tn.append(a+i*h)\n",
    "        xn.append(0)\n",
    "\n",
    "    for i in range(N):\n",
    "        K1 = F(tn[i],xn[i])\n",
    "        K2 = F(tn[i]+beta*h, xn[i]+h*beta*K1)\n",
    "\n",
    "        xn[i+1] = xn[i] + h*((1-alpha)*K1 + alpha*K2)\n",
    "\n",
    "    valores_exactos = np.array([sol_exacta.subs({t:tn[n]}) for n in range(len(xn))])\n",
    "    \n",
    "    diferencias = []\n",
    "    for i in range (N+1):\n",
    "        diferencias.append(abs(valores_exactos[i]-xn[i]))\n",
    "        \n",
    "    return tn,xn,diferencias"
   ]
  },
  {
   "cell_type": "code",
   "execution_count": 18,
   "metadata": {},
   "outputs": [],
   "source": [
    "#En este caso, alpha = 3/4 y beta = 2/3\n",
    "\n",
    "a = 0\n",
    "b = 1\n",
    "x0 = 1\n",
    "h = 0.1\n",
    "\n",
    "tnRK, xnRK, difRK = RK2(f,3/4,2/3,a,b,x0,h)\n"
   ]
  },
  {
   "cell_type": "code",
   "execution_count": 19,
   "metadata": {},
   "outputs": [],
   "source": [
    "N = int((b-a)/h)\n",
    "for i in range (N+1):\n",
    "    difPtoMedio[i] = float(difPtoMedio[i])\n",
    "    difHeun[i] = float(difHeun[i])\n",
    "    difRK[i] = float(difRK[i])"
   ]
  },
  {
   "cell_type": "code",
   "execution_count": 20,
   "metadata": {},
   "outputs": [
    {
     "name": "stdout",
     "output_type": "stream",
     "text": [
      "0.0 \t 0.0 \t 0.0\n",
      "6.172649785796125e-05 \t 6.172649785796125e-05 \t 6.172649785796125e-05\n",
      "0.00011743339212144654 \t 0.00011743339212144654 \t 0.00011743339212144654\n",
      "0.0001675609592013405 \t 0.0001675609592013405 \t 0.0001675609592013405\n",
      "0.00021252085150380573 \t 0.00021252085150380573 \t 0.00021252085150380573\n",
      "0.0002526978420688275 \t 0.0002526978420688275 \t 0.0002526978420688275\n",
      "0.00028845146713607495 \t 0.00028845146713607495 \t 0.00028845146713607495\n",
      "0.000320117572425338 \t 0.000320117572425227 \t 0.000320117572425338\n",
      "0.000348009768630142 \t 0.00034800976863003097 \t 0.000348009768630142\n",
      "0.0003724208012952923 \t 0.0003724208012951813 \t 0.0003724208012952923\n",
      "0.00039362383996743855 \t 0.0003936238399673275 \t 0.00039362383996743855\n"
     ]
    }
   ],
   "source": [
    "for i in range(N+1):\n",
    "    print(difPtoMedio[i],\"\\t\",difHeun[i],\"\\t\",difRK[i])"
   ]
  },
  {
   "cell_type": "code",
   "execution_count": 21,
   "metadata": {},
   "outputs": [
    {
     "name": "stdout",
     "output_type": "stream",
     "text": [
      "Max Pto Medio:\n",
      "0.00039362383996743855\n",
      "\n",
      "Max Heun:\n",
      "0.0003936238399673275\n",
      "\n",
      "Max Runge Kutta:\n",
      "0.00039362383996743855\n"
     ]
    }
   ],
   "source": [
    "print(\"Max Pto Medio:\")\n",
    "print(np.amax(difPtoMedio))\n",
    "\n",
    "print(\"\\nMax Heun:\")\n",
    "print(np.amax(difHeun))\n",
    "\n",
    "print(\"\\nMax Runge Kutta:\")\n",
    "print(np.amax(difRK))"
   ]
  },
  {
   "cell_type": "code",
   "execution_count": null,
   "metadata": {},
   "outputs": [],
   "source": []
  },
  {
   "cell_type": "code",
   "execution_count": null,
   "metadata": {},
   "outputs": [],
   "source": []
  },
  {
   "cell_type": "code",
   "execution_count": null,
   "metadata": {},
   "outputs": [],
   "source": []
  }
 ],
 "metadata": {
  "kernelspec": {
   "display_name": "Python 3 (ipykernel)",
   "language": "python",
   "name": "python3"
  },
  "language_info": {
   "codemirror_mode": {
    "name": "ipython",
    "version": 3
   },
   "file_extension": ".py",
   "mimetype": "text/x-python",
   "name": "python",
   "nbconvert_exporter": "python",
   "pygments_lexer": "ipython3",
   "version": "3.8.8"
  }
 },
 "nbformat": 4,
 "nbformat_minor": 2
}
