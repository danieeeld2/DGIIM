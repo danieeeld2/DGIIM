{
 "cells": [
  {
   "cell_type": "markdown",
   "id": "55f27906",
   "metadata": {},
   "source": [
    "### Examen 3"
   ]
  },
  {
   "cell_type": "markdown",
   "id": "a8329b1b",
   "metadata": {},
   "source": [
    "###### Daniel Alconchel Vázquez"
   ]
  },
  {
   "cell_type": "code",
   "execution_count": 1,
   "id": "0349144b",
   "metadata": {},
   "outputs": [],
   "source": [
    "import numpy as np\n",
    "import sympy as sp\n",
    "import matplotlib.pyplot as plt\n",
    "%matplotlib inline \n",
    "from random import random \n",
    "sp.init_printing()\n",
    "import math\n",
    "import timeit\n",
    "\n",
    "\n",
    "t, x, z = sp.symbols('t, x, z')\n",
    "h = sp.symbols('h')\n",
    "y0 = sp.symbols('y_0')"
   ]
  },
  {
   "cell_type": "markdown",
   "id": "d363420d",
   "metadata": {},
   "source": [
    "Nos dan el siguiente problema de valor inicial:\n",
    "$$y'(t)=\\frac{t-y(t)}{2}, \\quad t\\in[0,1]$$\n",
    "$$y(0)=1$$"
   ]
  },
  {
   "cell_type": "code",
   "execution_count": 3,
   "id": "1ee69c36",
   "metadata": {},
   "outputs": [],
   "source": [
    "def f(t,z):\n",
    "    return (t-z)/2\n",
    "\n",
    "# Valores del intervalo\n",
    "a = 0; b = 1;\n",
    "# Condición Inicial del PVI\n",
    "y_a = 1"
   ]
  },
  {
   "cell_type": "markdown",
   "id": "b8a5fd9c",
   "metadata": {},
   "source": [
    "Vamos a comenzar hallando la solución exacta. Para ello:"
   ]
  },
  {
   "cell_type": "code",
   "execution_count": 5,
   "id": "78e9f1e5",
   "metadata": {},
   "outputs": [
    {
     "data": {
      "image/png": "[encoded data removed]",
      "text/latex": [
       "$\\displaystyle y{\\left(t \\right)} = \\left(C_{1} + \\left(t - 2\\right) e^{\\frac{t}{2}}\\right) e^{- \\frac{t}{2}}$"
      ],
      "text/plain": [
       "       ⎛              t⎞  -t \n",
       "       ⎜              ─⎟  ───\n",
       "       ⎜              2⎟   2 \n",
       "y(t) = ⎝C₁ + (t - 2)⋅ℯ ⎠⋅ℯ   "
      ]
     },
     "execution_count": 5,
     "metadata": {},
     "output_type": "execute_result"
    }
   ],
   "source": [
    "y = sp.Function('y')\n",
    "edo = y(t).diff(t)-f(t,y(t))\n",
    "sp.Eq(edo,0)\n",
    "edo_sol = sp.dsolve(edo)\n",
    "edo_sol"
   ]
  },
  {
   "cell_type": "code",
   "execution_count": 8,
   "id": "8e8da360",
   "metadata": {},
   "outputs": [
    {
     "data": {
      "image/png": "[encoded data removed]",
      "text/latex": [
       "$\\displaystyle \\left(\\left(t - 2\\right) e^{\\frac{t}{2}} + 3\\right) e^{- \\frac{t}{2}}$"
      ],
      "text/plain": [
       "⎛         t    ⎞  -t \n",
       "⎜         ─    ⎟  ───\n",
       "⎜         2    ⎟   2 \n",
       "⎝(t - 2)⋅ℯ  + 3⎠⋅ℯ   "
      ]
     },
     "execution_count": 8,
     "metadata": {},
     "output_type": "execute_result"
    }
   ],
   "source": [
    "ics = {y(0):y0}\n",
    "edo_sol.rhs.subs(t, 0),edo_sol.lhs.subs(t, 0).subs(ics)\n",
    "CI_eq = sp.Eq(edo_sol.lhs.subs(t, 0).subs(ics),edo_sol.rhs.subs(t, 0))\n",
    "CI_sol = sp.solve(CI_eq) \n",
    "edo_sol.subs(CI_sol[0]) \n",
    "sol_exacta = edo_sol.rhs.subs(CI_sol[0]).subs({y0:y_a})\n",
    "sol_exacta"
   ]
  },
  {
   "cell_type": "markdown",
   "id": "8c602021",
   "metadata": {},
   "source": [
    "Una vez que tenemos la solución exacta, vamos a proceder a calcular la solución con el método de Euler mejorado(punto medio) y Euler modificado(Heun). Para ello, comenzamos definiendo dichos métodos:"
   ]
  },
  {
   "cell_type": "code",
   "execution_count": 14,
   "id": "62ef7f2c",
   "metadata": {},
   "outputs": [],
   "source": [
    "'''EULER MEJORADO'''\n",
    "def euler_mejorado(F,a,b,x0,h):\n",
    "    N = int((b-a)/h)\n",
    "    tn =[]\n",
    "    xn = []\n",
    "    tn.append(a)\n",
    "    xn.append(x0)\n",
    "    \n",
    "    for i in range(1,N+1):\n",
    "        tn.append(a+i*h)\n",
    "        xn.append(0)\n",
    "    for i in range(N):\n",
    "        xn[i+1] = xn[i] + h*F(tn[i]+h/2,xn[i]+(h/2)*F(tn[i],xn[i]))\n",
    "\n",
    "    valores_exactos = np.array([sol_exacta.subs({t:tn[n]}) for n in range(len(xn))])\n",
    "    diferencias = []\n",
    "    for i in range (N+1):\n",
    "        diferencias.append(abs(valores_exactos[i]-xn[i]))\n",
    "        \n",
    "    return tn,xn,diferencias"
   ]
  },
  {
   "cell_type": "code",
   "execution_count": 17,
   "id": "d8fdd4d6",
   "metadata": {},
   "outputs": [],
   "source": [
    "'''EULER MODIFICADO'''\n",
    "def euler_modificado(F,a,b,x0,h):\n",
    "    N = int((b-a)/h)\n",
    "    tn =[]\n",
    "    xn = []\n",
    "    tn.append(a)\n",
    "    xn.append(x0)\n",
    "    \n",
    "    for i in range(1,N+1):\n",
    "        tn.append(a+i*h)\n",
    "        xn.append(0)    \n",
    "    for i in range(N):\n",
    "        xn[i+1] = xn[i] + (h/2)*(F(tn[i],xn[i])+F(tn[i+1],xn[i]+h*F(tn[i],xn[i])))\n",
    "    \n",
    "    valores_exactos = np.array([sol_exacta.subs({t:tn[n]}) for n in range(len(xn))])\n",
    "    diferencias = []\n",
    "    for i in range (N+1):\n",
    "        diferencias.append(abs(valores_exactos[i]-xn[i]))\n",
    "        \n",
    "    return tn,xn,diferencias"
   ]
  },
  {
   "cell_type": "markdown",
   "id": "6a6aa8b4",
   "metadata": {},
   "source": [
    "En vez de continuar en orden con el ejercicio, voy a pasar a definir el método de Runge-Kutta, que nos piden en un apartado posterior del enunciado. Para ello, usaremos la siguiente implementación:"
   ]
  },
  {
   "cell_type": "code",
   "execution_count": 23,
   "id": "09a42dd2",
   "metadata": {},
   "outputs": [],
   "source": [
    "'''RUNGE-KUTTA 2 ORDEN'''\n",
    "def runge_kutta_2(F,alpha,beta,a,b,x0,h):\n",
    "    N = int((b-a)/h)\n",
    "    tn =[]\n",
    "    xn = []\n",
    "    tn.append(a)\n",
    "    xn.append(x0)\n",
    "\n",
    "    for i in range(1,N+1):\n",
    "        tn.append(a+i*h)\n",
    "        xn.append(0)\n",
    "    for i in range(N):\n",
    "        K1 = F(tn[i],xn[i])\n",
    "        K2 = F(tn[i]+beta*h, xn[i]+h*beta*K1)\n",
    "\n",
    "        xn[i+1] = xn[i] + h*((1-alpha)*K1 + alpha*K2)\n",
    "\n",
    "    valores_exactos = np.array([sol_exacta.subs({t:tn[n]}) for n in range(len(xn))])\n",
    "    diferencias = []\n",
    "    for i in range (N+1):\n",
    "        diferencias.append(abs(valores_exactos[i]-xn[i]))\n",
    "        \n",
    "    return tn,xn,diferencias"
   ]
  },
  {
   "cell_type": "markdown",
   "id": "b8600f65",
   "metadata": {},
   "source": [
    "Una vez definidos estos tres métodos, se nos pide realizar los cálculos de las correspondientes aproximaciones numéricas, usando $h=0.1$."
   ]
  },
  {
   "cell_type": "code",
   "execution_count": 24,
   "id": "b5458ad4",
   "metadata": {},
   "outputs": [],
   "source": [
    "a = 0\n",
    "b = 1\n",
    "x0 = 1\n",
    "h = 0.1\n",
    "tnPtoMedio, xnPtoMedio, difPtoMedio = euler_mejorado(f,a,b,x0,h)"
   ]
  },
  {
   "cell_type": "code",
   "execution_count": 25,
   "id": "7b049aa5",
   "metadata": {},
   "outputs": [],
   "source": [
    "a = 0\n",
    "b = 1\n",
    "x0 = 1\n",
    "h = 0.1\n",
    "tnHeun, xnHeun, difHeun = euler_modificado(f,a,b,x0,h)"
   ]
  },
  {
   "cell_type": "code",
   "execution_count": 29,
   "id": "98d95c4f",
   "metadata": {},
   "outputs": [],
   "source": [
    "# alpha=3/4 y beta=2/3\n",
    "a = 0\n",
    "b = 1\n",
    "x0 = 1\n",
    "h = 0.1\n",
    "tnRK, xnRK, difRK = runge_kutta_2(f,3/4,2/3,a,b,x0,h)"
   ]
  },
  {
   "cell_type": "markdown",
   "id": "6d58b127",
   "metadata": {},
   "source": [
    "Una vez obtenidas las aproximaciones, podemos discernir numéricamente cuál de los tres métodos es mejor en cada caso. Para ello, calculamos el máximo de sus errores absolutos en los nodos de las particiones que hemos usado previamente:"
   ]
  },
  {
   "cell_type": "code",
   "execution_count": 30,
   "id": "54e44567",
   "metadata": {},
   "outputs": [
    {
     "name": "stdout",
     "output_type": "stream",
     "text": [
      "0.0 \t 0.0 \t 0.0\n",
      "6.172649785796125e-05 \t 6.172649785796125e-05 \t 6.172649785796125e-05\n",
      "0.00011743339212144654 \t 0.00011743339212144654 \t 0.00011743339212144654\n",
      "0.0001675609592013405 \t 0.0001675609592013405 \t 0.0001675609592013405\n",
      "0.00021252085150380573 \t 0.00021252085150380573 \t 0.00021252085150380573\n",
      "0.0002526978420688275 \t 0.0002526978420688275 \t 0.0002526978420688275\n",
      "0.00028845146713607495 \t 0.00028845146713607495 \t 0.00028845146713607495\n",
      "0.000320117572425338 \t 0.000320117572425227 \t 0.000320117572425338\n",
      "0.000348009768630142 \t 0.00034800976863003097 \t 0.000348009768630142\n",
      "0.0003724208012952923 \t 0.0003724208012951813 \t 0.0003724208012952923\n",
      "0.00039362383996743855 \t 0.0003936238399673275 \t 0.00039362383996743855\n"
     ]
    }
   ],
   "source": [
    "N = int((b-a)/h)\n",
    "for i in range (N+1):\n",
    "    difPtoMedio[i] = float(difPtoMedio[i])\n",
    "    difHeun[i] = float(difHeun[i])\n",
    "    difRK[i] = float(difRK[i])\n",
    "for i in range(N+1):\n",
    "    print(difPtoMedio[i],\"\\t\",difHeun[i],\"\\t\",difRK[i])"
   ]
  },
  {
   "cell_type": "code",
   "execution_count": 31,
   "id": "ff7a0cbd",
   "metadata": {},
   "outputs": [
    {
     "name": "stdout",
     "output_type": "stream",
     "text": [
      "Max Pto Medio:\n",
      "0.00039362383996743855\n",
      "\n",
      "Max Heun:\n",
      "0.0003936238399673275\n",
      "\n",
      "Max Runge Kutta:\n",
      "0.00039362383996743855\n"
     ]
    }
   ],
   "source": [
    "print(\"Max Pto Medio:\")\n",
    "print(np.amax(difPtoMedio))\n",
    "\n",
    "print(\"\\nMax Heun:\")\n",
    "print(np.amax(difHeun))\n",
    "\n",
    "print(\"\\nMax Runge Kutta:\")\n",
    "print(np.amax(difRK))"
   ]
  },
  {
   "cell_type": "markdown",
   "id": "16b2732a",
   "metadata": {},
   "source": [
    "Como vemos, al ser todos los métodos del mismo orden, la diferencia entre el máximo de sus errores absolutos es mínima, por lo que, en este caso, cualquiera de los 3 métodos es bueno."
   ]
  },
  {
   "cell_type": "code",
   "execution_count": null,
   "id": "7c984ce4",
   "metadata": {},
   "outputs": [],
   "source": []
  },
  {
   "cell_type": "code",
   "execution_count": null,
   "id": "56c23a15",
   "metadata": {},
   "outputs": [],
   "source": []
  }
 ],
 "metadata": {
  "kernelspec": {
   "display_name": "Python 3 (ipykernel)",
   "language": "python",
   "name": "python3"
  },
  "language_info": {
   "codemirror_mode": {
    "name": "ipython",
    "version": 3
   },
   "file_extension": ".py",
   "mimetype": "text/x-python",
   "name": "python",
   "nbconvert_exporter": "python",
   "pygments_lexer": "ipython3",
   "version": "3.8.8"
  }
 },
 "nbformat": 4,
 "nbformat_minor": 5
}
