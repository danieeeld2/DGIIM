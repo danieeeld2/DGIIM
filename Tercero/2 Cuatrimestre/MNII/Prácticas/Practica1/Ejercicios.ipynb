{
 "cells": [
  {
   "cell_type": "markdown",
   "id": "c91d2c4c",
   "metadata": {},
   "source": [
    "# Práctica 1"
   ]
  },
  {
   "cell_type": "markdown",
   "id": "669c6189",
   "metadata": {},
   "source": [
    "###### Alumno: Daniel Alconchel Vázquez"
   ]
  },
  {
   "cell_type": "markdown",
   "id": "43cefb5c",
   "metadata": {},
   "source": [
    "Comenzamos importando los módulos de Pyhton necesarios:"
   ]
  },
  {
   "cell_type": "code",
   "execution_count": 1,
   "id": "8e5f4403",
   "metadata": {},
   "outputs": [],
   "source": [
    "import numpy as np\n",
    "%matplotlib inline\n",
    "import matplotlib.pyplot as plt"
   ]
  },
  {
   "cell_type": "code",
   "execution_count": 2,
   "id": "250b3c72",
   "metadata": {},
   "outputs": [],
   "source": [
    "import sympy as sp"
   ]
  },
  {
   "cell_type": "code",
   "execution_count": 3,
   "id": "f6d780f3",
   "metadata": {},
   "outputs": [],
   "source": [
    "from numpy import sign"
   ]
  },
  {
   "cell_type": "code",
   "execution_count": 4,
   "id": "980c4bc2",
   "metadata": {},
   "outputs": [],
   "source": [
    "from decimal import *"
   ]
  },
  {
   "cell_type": "markdown",
   "id": "853f4229",
   "metadata": {},
   "source": [
    "## Ejercicio 1"
   ]
  },
  {
   "cell_type": "markdown",
   "id": "1123f9e4",
   "metadata": {},
   "source": [
    "1.- Demuestre que la ecuación  $x^3+4 x^2=10  $  tiene una única raíz en el intervalo $[1,2]$.  Aproxime dicha raíz con el método de bisección con al menos 3 cifras decimales exactas. ¿Cuántas iteraciones serán necesarias para conseguir 5 cifras decimales exactas (tol =$10^{-5}$)?  Aproxime también la raíz con el método de Newton-Raphson partiendo del extremo adecuado hasta que la diferencia en valor absoluto, entre dos aproximaciones consecutivas sea  inferior a  $10^{-3}$."
   ]
  },
  {
   "cell_type": "markdown",
   "id": "81867859",
   "metadata": {},
   "source": [
    "Para demostrar que $x^3+4x^2=10$ tiene solución única en el intervalo $[1,2]$, definimos la siguiente función\n",
    "\n",
    "$$f:[1,2] \\rightarrow \\mathbb{R},\\;\\;\\;\\;f(x)=x^3+4x-10\\;\\forall x \\in [1,2]$$"
   ]
  },
  {
   "cell_type": "markdown",
   "id": "a7b0b631",
   "metadata": {},
   "source": [
    "Se puede apreciar, que resolver la ecuación del enunciado es equivalente a ver las raíces de f. Usaremos el teorema de Bolzano para ver que tiene una única raíz en $[1,2]$. Para ello, evaluamos la función en los extremos:"
   ]
  },
  {
   "cell_type": "code",
   "execution_count": 5,
   "id": "1ff00ddc",
   "metadata": {},
   "outputs": [],
   "source": [
    "x = sp.Symbol('x')\n",
    "def f0(x):\n",
    "    return x**3+4*x-10\n",
    "funciones = [f0]"
   ]
  },
  {
   "cell_type": "code",
   "execution_count": 6,
   "id": "30e77f78",
   "metadata": {},
   "outputs": [
    {
     "data": {
      "text/plain": [
       "(-5, 6)"
      ]
     },
     "execution_count": 6,
     "metadata": {},
     "output_type": "execute_result"
    }
   ],
   "source": [
    "f0(1), f0(2)"
   ]
  },
  {
   "cell_type": "markdown",
   "id": "c76bd614",
   "metadata": {},
   "source": [
    "Podemos observar que $f(1)f(2)<0$, por lo que f tiene, al menos, una raíz en $[1,2]$. Para ver que es única, podemos ver que la función de f es creciente en $[1,2]$. Esto podemos apreciarlo calculando la derivada y observando el signo de la misma en el intervalo.\n",
    "\n",
    "$$f'(x)=3x^2+4>0\\; \\forall x\\in [1,2]$$"
   ]
  },
  {
   "cell_type": "markdown",
   "id": "f1b464f5",
   "metadata": {},
   "source": [
    "Ahora, aproximaremos dicha raíz con el método de bisección"
   ]
  },
  {
   "cell_type": "code",
   "execution_count": 7,
   "id": "c1e16e65",
   "metadata": {},
   "outputs": [],
   "source": [
    "def biseccion(f, a, b, maxiter=100, tol=10**(-5), prec=10**(-3), cifras=0):\n",
    "    # si no se especifican el número de cifras decimales a mostrar, se hará\n",
    "    # para que coincida con la precisión, es decir, si la precisión es\n",
    "    # 10**-n, el número de cifras a mostrar será n\n",
    "    # en caso de que la precisión no sea una potencia de 10, se usará\n",
    "    # la potencia de 10 inmediatamente inferior\n",
    "    if cifras <= 0:\n",
    "        cifras = int(np.ceil(abs(np.log10(prec))))\n",
    "    \n",
    "    exit = ''\n",
    "    \n",
    "    niter = 0\n",
    "    while niter < maxiter:\n",
    "        niter += 1\n",
    "        c = (a+b)/2\n",
    "        if abs(f(c)) < prec:\n",
    "            exit = 'precisión'\n",
    "            break\n",
    "        if sign(f(a)) != sign(f(c)):\n",
    "            b = c\n",
    "        else:\n",
    "            a = c\n",
    "        if b-a < tol:\n",
    "            exit = 'tolerancia'\n",
    "            break\n",
    "    \n",
    "    print('maxiter={}, tol={}, prec={}, cifras={}'.format(maxiter, tol, prec, cifras))\n",
    "    \n",
    "    if exit == 'precisión':\n",
    "        print('Se ha alcanzado la precisión deseada')\n",
    "    elif exit == 'tolerancia':\n",
    "        print('Se ha alcanzado la máxima tolerancia')\n",
    "    elif niter >= maxiter:\n",
    "        print('Se llegó al número máximo de iteraciones')\n",
    "    \n",
    "    print('Aproximación de la solución:', Decimal(c))\n",
    "    print('Aproximación de la solución con', cifras, 'cifras significativas:', round(Decimal(c), cifras))\n",
    "    print('Número de iteraciones:', niter)\n",
    "    \n",
    "    return c"
   ]
  },
  {
   "cell_type": "markdown",
   "id": "806ca1df",
   "metadata": {},
   "source": [
    "Aproximaremos dicha raíz con el método de bisección con al menos 3 cifras decimales exactas, es decir, con una precisión de $10^{-3}$"
   ]
  },
  {
   "cell_type": "code",
   "execution_count": 8,
   "id": "2e27279d",
   "metadata": {},
   "outputs": [
    {
     "name": "stdout",
     "output_type": "stream",
     "text": [
      "maxiter=100, tol=1e-05, prec=0.001, cifras=3\n",
      "Se ha alcanzado la precisión deseada\n",
      "Aproximación de la solución: 1.5567626953125\n",
      "Aproximación de la solución con 3 cifras significativas: 1.557\n",
      "Número de iteraciones: 13\n"
     ]
    },
    {
     "data": {
      "text/plain": [
       "1.5567626953125"
      ]
     },
     "execution_count": 8,
     "metadata": {},
     "output_type": "execute_result"
    }
   ],
   "source": [
    "biseccion(f0,1,2,prec=10**(-3))"
   ]
  },
  {
   "cell_type": "markdown",
   "id": "5b8971be",
   "metadata": {},
   "source": [
    "Vamos a definir ahora un método que nos calcule la solución exacta, para ver que es correcta"
   ]
  },
  {
   "cell_type": "code",
   "execution_count": 9,
   "id": "f2eb16fc",
   "metadata": {},
   "outputs": [],
   "source": [
    "def solucion_exacta(f, a=-sp.oo, b=sp.oo, cifras=None):\n",
    "    \"\"\"\n",
    "    Encontrar la raíz exacta de f en un intervalo [a,b]\n",
    "    \n",
    "    Importante: es necesario que haya una única raíz en el intervalo.\n",
    "    En caso contrario, se retornará una de ellas.\n",
    "    \n",
    "    En caso de que no haya raíces en el intervalo o sympy no pueda\n",
    "    encontrar la raíz se retornará None\n",
    "    \n",
    "    Si no se especifica en un intervalo, se tomará (-oo,+oo)\n",
    "    \n",
    "    Parameters\n",
    "    ----------\n",
    "    f : function\n",
    "        Función de la que encontrar la raíz\n",
    "    a: float\n",
    "        Extremo inferior\n",
    "    b: float\n",
    "        Extremo superior\n",
    "        \n",
    "    Return\n",
    "    ------\n",
    "    \"\"\"\n",
    "    \n",
    "    x = sp.Symbol('x')\n",
    "    try:\n",
    "        sol_exact = sp.solve(f(x), x)\n",
    "    except:\n",
    "        sol_exact = []\n",
    "    \n",
    "    for sol in sol_exact:\n",
    "        if sol.is_real:\n",
    "            if sol >= a and sol <= b:\n",
    "                print(\"Solución exacta en decimal:\", sol.evalf())\n",
    "                if cifras:\n",
    "                    print(\"Solución exacta con\", cifras, \"cifras significativas:\", sol.evalf(n=cifras+1))\n",
    "                return sol\n",
    "    \n",
    "    print(\"sympy no ha podido encontrar la solución exacta\")\n"
   ]
  },
  {
   "cell_type": "code",
   "execution_count": 10,
   "id": "e1ae07cc",
   "metadata": {},
   "outputs": [
    {
     "name": "stdout",
     "output_type": "stream",
     "text": [
      "Solución exacta en decimal: 1.55677326439421\n",
      "Solución exacta con 3 cifras significativas: 1.557\n"
     ]
    },
    {
     "data": {
      "text/latex": [
       "$\\displaystyle - \\frac{4}{3 \\sqrt[3]{5 + \\frac{\\sqrt{2217}}{9}}} + \\sqrt[3]{5 + \\frac{\\sqrt{2217}}{9}}$"
      ],
      "text/plain": [
       "-4/(3*(5 + sqrt(2217)/9)**(1/3)) + (5 + sqrt(2217)/9)**(1/3)"
      ]
     },
     "execution_count": 10,
     "metadata": {},
     "output_type": "execute_result"
    }
   ],
   "source": [
    "solucion_exacta(f0, 1, 2, cifras=3)"
   ]
  },
  {
   "cell_type": "markdown",
   "id": "351a91c7",
   "metadata": {},
   "source": [
    "Observemos que, para conseguir 3 cifras exactas, se han necesitado 13 iteraciones. Podemos hacer una predicción del número de iteraciones que necesitaremos para conseguir una precisión de 5 cifras. Para ello, sabemos que la cota de error de la bisección es de\n",
    "\n",
    "$$|e_n|=|x_n-s| \\leq \\frac{1}{2^{n-1}}(b-a)$$"
   ]
  },
  {
   "cell_type": "markdown",
   "id": "f55cb3ae",
   "metadata": {},
   "source": [
    "Despejando obtenemos que, para conseguir $5$ cifras decimales exactas, debe ser $|e_n|<10^{-5}$, de donde obtenemos que $n\\leq 17 \\implies$ Se necesitan 17 iteraciones para alcanzar dicha precisión."
   ]
  },
  {
   "cell_type": "markdown",
   "id": "67ec4143",
   "metadata": {},
   "source": [
    "Veamos que es cierto:"
   ]
  },
  {
   "cell_type": "code",
   "execution_count": 11,
   "id": "f05a12c5",
   "metadata": {},
   "outputs": [
    {
     "name": "stdout",
     "output_type": "stream",
     "text": [
      "maxiter=100, tol=1e-05, prec=1e-05, cifras=5\n",
      "Se ha alcanzado la máxima tolerancia\n",
      "Aproximación de la solución: 1.55677032470703125\n",
      "Aproximación de la solución con 5 cifras significativas: 1.55677\n",
      "Número de iteraciones: 17\n"
     ]
    },
    {
     "data": {
      "text/plain": [
       "1.5567703247070312"
      ]
     },
     "execution_count": 11,
     "metadata": {},
     "output_type": "execute_result"
    }
   ],
   "source": [
    "biseccion(f0, 1, 2, prec=10**(-5))"
   ]
  },
  {
   "cell_type": "code",
   "execution_count": 12,
   "id": "d5f5f889",
   "metadata": {},
   "outputs": [
    {
     "name": "stdout",
     "output_type": "stream",
     "text": [
      "Solución exacta en decimal: 1.55677326439421\n",
      "Solución exacta con 5 cifras significativas: 1.55677\n"
     ]
    },
    {
     "data": {
      "text/latex": [
       "$\\displaystyle - \\frac{4}{3 \\sqrt[3]{5 + \\frac{\\sqrt{2217}}{9}}} + \\sqrt[3]{5 + \\frac{\\sqrt{2217}}{9}}$"
      ],
      "text/plain": [
       "-4/(3*(5 + sqrt(2217)/9)**(1/3)) + (5 + sqrt(2217)/9)**(1/3)"
      ]
     },
     "execution_count": 12,
     "metadata": {},
     "output_type": "execute_result"
    }
   ],
   "source": [
    "solucion_exacta(f0, 1, 2, cifras=5)"
   ]
  },
  {
   "cell_type": "markdown",
   "id": "05bf2073",
   "metadata": {},
   "source": [
    "Ahora, implementaremos el algoritmo de Newton-Raphson, el cual, usaremos para resolver la ecuación, de forma que el error entre dos aproximaciones consecutivas sea inferior a $10^{-3}$"
   ]
  },
  {
   "cell_type": "code",
   "execution_count": 13,
   "id": "4befd384",
   "metadata": {},
   "outputs": [],
   "source": [
    "def newton_raphson(f, df, x0, a=-sp.oo, b=sp.oo, maxiter=100, tol=10**(-5), prec=10**(-3), cifras=0):\n",
    "    # si no se especifican el número de cifras decimales a mostrar, se hará\n",
    "    # para que coincida con la precisión, es decir, si la precisión es\n",
    "    # 10**-n, el número de cifras a mostrar será n\n",
    "    # en caso de que la precisión no sea una potencia de 10, se usará\n",
    "    # la potencia de 10 inmediatamente inferior\n",
    "    if cifras <= 0:\n",
    "        cifras = int(np.ceil(abs(np.log10(prec))))\n",
    "    \n",
    "    exit = ''\n",
    "    \n",
    "    niter = 0\n",
    "    while niter < maxiter:\n",
    "        niter += 1\n",
    "        x1 = x0 - f(x0)/df(x0)\n",
    "        if abs(f(x1)) < prec:\n",
    "            exit = 'precisión'\n",
    "            break\n",
    "        if abs(x1-x0) < tol:\n",
    "            exit = 'tolerancia'\n",
    "            break\n",
    "        x0 = x1\n",
    "    \n",
    "    print('maxiter={}, tol={}, prec={}, cifras={}'.format(maxiter, tol, prec, cifras))\n",
    "    \n",
    "    if exit == 'precisión':\n",
    "        print('Se ha alcanzado la precisión deseada')\n",
    "    elif exit == 'tolerancia':\n",
    "        print('Se ha alcanzado la máxima tolerancia')\n",
    "    elif niter >= maxiter:\n",
    "        print('Se llegó al número máximo de iteraciones')\n",
    "    \n",
    "    print('Aproximación de la solución:', Decimal(x1))\n",
    "    print('Aproximación de la solución con', cifras, 'cifras significativas:', round(Decimal(x1), cifras))\n",
    "    print('Número de iteraciones:', niter)\n",
    "    \n",
    "    return x1"
   ]
  },
  {
   "cell_type": "code",
   "execution_count": 14,
   "id": "05be55fa",
   "metadata": {},
   "outputs": [
    {
     "data": {
      "text/latex": [
       "$\\displaystyle 3 x^{2} + 4$"
      ],
      "text/plain": [
       "3*x**2 + 4"
      ]
     },
     "execution_count": 14,
     "metadata": {},
     "output_type": "execute_result"
    }
   ],
   "source": [
    "sp.diff(x**3+4*x-10, x)"
   ]
  },
  {
   "cell_type": "code",
   "execution_count": 15,
   "id": "1b844491",
   "metadata": {},
   "outputs": [],
   "source": [
    "def df0(x):\n",
    "    return 3*x**2+4"
   ]
  },
  {
   "cell_type": "code",
   "execution_count": 16,
   "id": "c190b1b2",
   "metadata": {},
   "outputs": [
    {
     "name": "stdout",
     "output_type": "stream",
     "text": [
      "maxiter=100, tol=1e-05, prec=0.001, cifras=3\n",
      "Se ha alcanzado la precisión deseada\n",
      "Aproximación de la solución: 1.5567740374915424172996836205129511654376983642578125\n",
      "Aproximación de la solución con 3 cifras significativas: 1.557\n",
      "Número de iteraciones: 2\n"
     ]
    },
    {
     "data": {
      "text/plain": [
       "1.5567740374915424"
      ]
     },
     "execution_count": 16,
     "metadata": {},
     "output_type": "execute_result"
    }
   ],
   "source": [
    "newton_raphson(f0, df0, 1.5, prec=10**(-3))"
   ]
  },
  {
   "cell_type": "markdown",
   "id": "62b3aa15",
   "metadata": {},
   "source": [
    "## Ejercicio 2"
   ]
  },
  {
   "cell_type": "markdown",
   "id": "4b52cc74",
   "metadata": {},
   "source": [
    "2.-Encuentre una aproximación de la raíz cúbica de 25 con dos decimales exactos ($tol=10^{-2}$), usando el algoritmo de bisección."
   ]
  },
  {
   "cell_type": "markdown",
   "id": "47dfb09b",
   "metadata": {},
   "source": [
    "Para este ejercicio, podremos reutilizar el algoritmo de Bisección del apartado anterior.\n",
    "Notemos que para encontrar la raíz cúbica de 25, basta con encontrar la raiz de la función\n",
    "$$f(x)=x^3-25$$\n",
    "\n",
    "Usando el Teorema de Bolzano, vemos que hay una raíz en el intervalo $[2,3]$. Además, podemos ver que la función es monótonamente creciente en dicho intervalo (basta con ver que el signo de la derivada es siempre positivo), lo cual nos garantiza que la raíz es única. Ahora procederemos a aplicar bisección en $[2,3]$ para obtener dos cifras decimales exactas."
   ]
  },
  {
   "cell_type": "code",
   "execution_count": 17,
   "id": "38b3c9d4",
   "metadata": {},
   "outputs": [],
   "source": [
    "def f1(x):\n",
    "    return x**3-25\n",
    "funciones.append(f1)"
   ]
  },
  {
   "cell_type": "code",
   "execution_count": 18,
   "id": "7ef570b5",
   "metadata": {},
   "outputs": [
    {
     "name": "stdout",
     "output_type": "stream",
     "text": [
      "maxiter=100, tol=1e-05, prec=0.001, cifras=2\n",
      "Se ha alcanzado la precisión deseada\n",
      "Aproximación de la solución: 2.92401123046875\n",
      "Aproximación de la solución con 2 cifras significativas: 2.92\n",
      "Número de iteraciones: 14\n"
     ]
    },
    {
     "data": {
      "text/plain": [
       "2.92401123046875"
      ]
     },
     "execution_count": 18,
     "metadata": {},
     "output_type": "execute_result"
    }
   ],
   "source": [
    "biseccion(f1,2,3,cifras=2)"
   ]
  },
  {
   "cell_type": "code",
   "execution_count": 19,
   "id": "25d6cb5c",
   "metadata": {},
   "outputs": [
    {
     "name": "stdout",
     "output_type": "stream",
     "text": [
      "Solución exacta en decimal: 2.92401773821287\n",
      "Solución exacta con 2 cifras significativas: 2.92\n"
     ]
    },
    {
     "data": {
      "text/latex": [
       "$\\displaystyle 5^{\\frac{2}{3}}$"
      ],
      "text/plain": [
       "5**(2/3)"
      ]
     },
     "execution_count": 19,
     "metadata": {},
     "output_type": "execute_result"
    }
   ],
   "source": [
    "solucion_exacta(f1,2,3,cifras=2)"
   ]
  },
  {
   "cell_type": "markdown",
   "id": "ceb87562",
   "metadata": {},
   "source": [
    "## Ejercicio 3"
   ]
  },
  {
   "cell_type": "markdown",
   "id": "334eae15",
   "metadata": {},
   "source": [
    "3.-Use el método de Newton-Raphson para aproximar las soluciones de las siguientes ecuaciones con tolerancia $10^{-5}$, partiendo de un valor adecuado, próximo a cada una de ellas en cada caso."
   ]
  },
  {
   "cell_type": "markdown",
   "id": "c1380ab8",
   "metadata": {},
   "source": [
    "Comenzamos con la ecuación $x^3-x-1 = 0$ en $[1,2]$. Encontrar su solución equivale a hallar las raices de la función\n",
    "\n",
    "$$f(x) = x^3-x-1$$\n",
    "\n",
    "en dicho intervalo. Para ello, aplicaremos el método de Newton-Rhapson definido en ejercicios anteriores, partiendo con $x_0 = 1.3$, en el intervalo $[1,2]$."
   ]
  },
  {
   "cell_type": "code",
   "execution_count": 20,
   "id": "ecd8f1c5",
   "metadata": {},
   "outputs": [],
   "source": [
    "def f2(x):\n",
    "    return x**3-x-1\n",
    "funciones.append(f2)"
   ]
  },
  {
   "cell_type": "code",
   "execution_count": 21,
   "id": "2c0733ae",
   "metadata": {},
   "outputs": [
    {
     "data": {
      "text/latex": [
       "$\\displaystyle 3 x^{2} - 1$"
      ],
      "text/plain": [
       "3*x**2 - 1"
      ]
     },
     "execution_count": 21,
     "metadata": {},
     "output_type": "execute_result"
    }
   ],
   "source": [
    "sp.diff(x**3-x-1, x)"
   ]
  },
  {
   "cell_type": "code",
   "execution_count": 22,
   "id": "6a161bab",
   "metadata": {},
   "outputs": [],
   "source": [
    "def df2(x):\n",
    "    return 3*x**2-1"
   ]
  },
  {
   "cell_type": "code",
   "execution_count": 23,
   "id": "6c6e4a47",
   "metadata": {},
   "outputs": [
    {
     "name": "stdout",
     "output_type": "stream",
     "text": [
      "maxiter=100, tol=1e-05, prec=0.001, cifras=3\n",
      "Se ha alcanzado la precisión deseada\n",
      "Aproximación de la solución: 1.3247187886152571589803983442834578454494476318359375\n",
      "Aproximación de la solución con 3 cifras significativas: 1.325\n",
      "Número de iteraciones: 20\n"
     ]
    },
    {
     "data": {
      "text/plain": [
       "1.3247187886152572"
      ]
     },
     "execution_count": 23,
     "metadata": {},
     "output_type": "execute_result"
    }
   ],
   "source": [
    "newton_raphson(f2, df2, 0, 1, 2, tol=10**(-5))"
   ]
  },
  {
   "cell_type": "code",
   "execution_count": 24,
   "id": "d3f807f2",
   "metadata": {},
   "outputs": [
    {
     "name": "stdout",
     "output_type": "stream",
     "text": [
      "Solución exacta en decimal: 1.32471795724475\n"
     ]
    },
    {
     "data": {
      "text/latex": [
       "$\\displaystyle \\frac{1}{3 \\sqrt[3]{\\frac{\\sqrt{69}}{18} + \\frac{1}{2}}} + \\sqrt[3]{\\frac{\\sqrt{69}}{18} + \\frac{1}{2}}$"
      ],
      "text/plain": [
       "1/(3*(sqrt(69)/18 + 1/2)**(1/3)) + (sqrt(69)/18 + 1/2)**(1/3)"
      ]
     },
     "execution_count": 24,
     "metadata": {},
     "output_type": "execute_result"
    }
   ],
   "source": [
    "solucion_exacta(f2, 1, 2)"
   ]
  },
  {
   "cell_type": "markdown",
   "id": "3f2be7a4",
   "metadata": {},
   "source": [
    "Procedemos de la misma forma para la siguiente función, que es $3x = 2+x^2-e^x$. Para ello, estudiaremos las raíces de \n",
    "\n",
    "$$f(x) = 3x-2-x^2+e^x$$\n",
    "\n",
    "partiendo de $x_0=0$, sin que se nos especifique un intervalo."
   ]
  },
  {
   "cell_type": "code",
   "execution_count": 25,
   "id": "a530360c",
   "metadata": {},
   "outputs": [],
   "source": [
    "def f3(x):\n",
    "    return 3*x-2-x**2+np.exp(x)\n",
    "funciones.append(f3)"
   ]
  },
  {
   "cell_type": "code",
   "execution_count": 26,
   "id": "e6d002a5",
   "metadata": {},
   "outputs": [
    {
     "data": {
      "text/latex": [
       "$\\displaystyle - 2 x + e^{x} + 3$"
      ],
      "text/plain": [
       "-2*x + exp(x) + 3"
      ]
     },
     "execution_count": 26,
     "metadata": {},
     "output_type": "execute_result"
    }
   ],
   "source": [
    "sp.diff(3*x-2-x**2+sp.exp(x),x)"
   ]
  },
  {
   "cell_type": "code",
   "execution_count": 27,
   "id": "43c442b6",
   "metadata": {},
   "outputs": [],
   "source": [
    "def df3(x):\n",
    "    return -2*x+np.exp(x)+3"
   ]
  },
  {
   "cell_type": "code",
   "execution_count": 28,
   "id": "eed4c69a",
   "metadata": {},
   "outputs": [
    {
     "name": "stdout",
     "output_type": "stream",
     "text": [
      "maxiter=100, tol=1e-05, prec=0.001, cifras=3\n",
      "Se ha alcanzado la precisión deseada\n",
      "Aproximación de la solución: 0.257524945045739972471210421645082533359527587890625\n",
      "Aproximación de la solución con 3 cifras significativas: 0.258\n",
      "Número de iteraciones: 2\n"
     ]
    },
    {
     "data": {
      "text/plain": [
       "0.25752494504574"
      ]
     },
     "execution_count": 28,
     "metadata": {},
     "output_type": "execute_result"
    }
   ],
   "source": [
    "newton_raphson(f3, df3, 0, tol=10**(-5))"
   ]
  },
  {
   "cell_type": "markdown",
   "id": "880e1abf",
   "metadata": {},
   "source": [
    "Por último, vamos con $x^2+10cos(x)+x=0$, nuevamente, sin especificar un intervalo, luego, estudiaremos las raíces de \n",
    "\n",
    "$$f(x) = x^2+10cos(x)+x$$\n",
    "\n",
    "partiendo de $x_0=-1$, sin especificar el intervalo."
   ]
  },
  {
   "cell_type": "code",
   "execution_count": 29,
   "id": "16bd0e50",
   "metadata": {},
   "outputs": [],
   "source": [
    "def f4(x):\n",
    "    return x**2+10*np.cos(x)+x\n",
    "funciones.append(f4)"
   ]
  },
  {
   "cell_type": "code",
   "execution_count": 30,
   "id": "14fe57ea",
   "metadata": {},
   "outputs": [
    {
     "data": {
      "text/latex": [
       "$\\displaystyle 2 x - 10 \\sin{\\left(x \\right)} + 1$"
      ],
      "text/plain": [
       "2*x - 10*sin(x) + 1"
      ]
     },
     "execution_count": 30,
     "metadata": {},
     "output_type": "execute_result"
    }
   ],
   "source": [
    "sp.diff(x**2+10*sp.cos(x)+x, x)"
   ]
  },
  {
   "cell_type": "code",
   "execution_count": 31,
   "id": "19daea93",
   "metadata": {},
   "outputs": [],
   "source": [
    "def df4(x):\n",
    "    return 2*x-10*np.sin(x)+1"
   ]
  },
  {
   "cell_type": "code",
   "execution_count": 32,
   "id": "c7437ede",
   "metadata": {},
   "outputs": [
    {
     "name": "stdout",
     "output_type": "stream",
     "text": [
      "maxiter=100, tol=1e-05, prec=0.001, cifras=3\n",
      "Se ha alcanzado la precisión deseada\n",
      "Aproximación de la solución: -1.6869398658093508469590915410663001239299774169921875\n",
      "Aproximación de la solución con 3 cifras significativas: -1.687\n",
      "Número de iteraciones: 3\n"
     ]
    },
    {
     "data": {
      "text/plain": [
       "-1.6869398658093508"
      ]
     },
     "execution_count": 32,
     "metadata": {},
     "output_type": "execute_result"
    }
   ],
   "source": [
    "newton_raphson(f4, df4, -1, tol=10**(-5))"
   ]
  },
  {
   "cell_type": "markdown",
   "id": "8794d5a8",
   "metadata": {},
   "source": [
    "## Ejercicio 4"
   ]
  },
  {
   "cell_type": "markdown",
   "id": "eccd285c",
   "metadata": {},
   "source": [
    "4.- Para la función  $ f(x)= 3 x^2+e^x-1$, \n",
    "\n",
    "i) encuentre, mediante el método de bisección una aproximación de la raíz en $[0,1]$ con, al menos, cuatro decimales exactos (tol =$10^{-4}$), y determine el número de iteraciones realizadas;\n",
    "\n",
    "ii) encuentre, mediante el método de Newton-Raphson, una aproximación de la raíz en $[0,1]$ con una tolerancia de $10^{-4}$, partiendo de $x_0=0$, y determine el número de iteraciones realizadas. "
   ]
  },
  {
   "cell_type": "markdown",
   "id": "72e90a4f",
   "metadata": {},
   "source": [
    "Para el primer apartado continuamos procediendo como hasta el momento."
   ]
  },
  {
   "cell_type": "code",
   "execution_count": 33,
   "id": "9aaac38e",
   "metadata": {},
   "outputs": [],
   "source": [
    "def f5(x):\n",
    "    return 3*x**2+np.exp(x)-1\n",
    "funciones.append(f5)"
   ]
  },
  {
   "cell_type": "code",
   "execution_count": 34,
   "id": "6f41b0d2",
   "metadata": {},
   "outputs": [
    {
     "name": "stdout",
     "output_type": "stream",
     "text": [
      "maxiter=100, tol=1e-05, prec=1e-05, cifras=4\n",
      "Se ha alcanzado la precisión deseada\n",
      "Aproximación de la solución: 0.00000762939453125\n",
      "Aproximación de la solución con 4 cifras significativas: 0.0000\n",
      "Número de iteraciones: 17\n"
     ]
    },
    {
     "data": {
      "text/plain": [
       "7.62939453125e-06"
      ]
     },
     "execution_count": 34,
     "metadata": {},
     "output_type": "execute_result"
    }
   ],
   "source": [
    "biseccion(f5, 0, 1, prec=10**(-5), cifras=4)"
   ]
  },
  {
   "cell_type": "markdown",
   "id": "97fb2317",
   "metadata": {},
   "source": [
    "Para el segundo apartado podemos, también, proceder como anteriormente."
   ]
  },
  {
   "cell_type": "code",
   "execution_count": 35,
   "id": "3859e633",
   "metadata": {},
   "outputs": [
    {
     "data": {
      "text/latex": [
       "$\\displaystyle 6 x + e^{x}$"
      ],
      "text/plain": [
       "6*x + exp(x)"
      ]
     },
     "execution_count": 35,
     "metadata": {},
     "output_type": "execute_result"
    }
   ],
   "source": [
    "sp.diff(3*x**2+sp.exp(x)-1, x)"
   ]
  },
  {
   "cell_type": "code",
   "execution_count": 36,
   "id": "c72d7443",
   "metadata": {},
   "outputs": [],
   "source": [
    "def df5(x):\n",
    "    return 6*x+np.exp(x)"
   ]
  },
  {
   "cell_type": "code",
   "execution_count": 37,
   "id": "86278df4",
   "metadata": {},
   "outputs": [
    {
     "name": "stdout",
     "output_type": "stream",
     "text": [
      "maxiter=100, tol=0.0001, prec=0.001, cifras=3\n",
      "Se ha alcanzado la precisión deseada\n",
      "Aproximación de la solución: 0\n",
      "Aproximación de la solución con 3 cifras significativas: 0.000\n",
      "Número de iteraciones: 1\n"
     ]
    },
    {
     "data": {
      "text/plain": [
       "0.0"
      ]
     },
     "execution_count": 37,
     "metadata": {},
     "output_type": "execute_result"
    }
   ],
   "source": [
    "newton_raphson(f5, df5, 0, 0, 1, tol=10**(-4))"
   ]
  },
  {
   "cell_type": "markdown",
   "id": "1711e7ea",
   "metadata": {},
   "source": [
    "## Ejercicio 5"
   ]
  },
  {
   "cell_type": "markdown",
   "id": "056e1f55",
   "metadata": {},
   "source": [
    "5.- Utilice las órdenes apropiadas de Python para aproximar todos los puntos donde se anulan las funciones siguientes (si es necesario, represéntelas gráficamente):\n",
    "\n",
    "i) $f(x)=x^7-x^4+2$ ,\n",
    "\n",
    "ii) $f(x)=x^7+\\cos  x-3$."
   ]
  },
  {
   "cell_type": "markdown",
   "id": "81a91ba2",
   "metadata": {},
   "source": [
    "El paquete **sympy** tiene una función para encontrar la solución exacta a una ecuación de la forma $f(x)=0$. Anteriormente, hemos implementado una versión que encuentra las soluciones en un intervalo en que sepamos que hay una raíz única."
   ]
  },
  {
   "cell_type": "markdown",
   "id": "84550fc3",
   "metadata": {},
   "source": [
    "Aprovechando esta función anteriormente implementada, es fácil ver que $f(x) = x^7-x^4+2$ tiene una única raíz en $\\mathbb{R}$. Por tanto, basta con:"
   ]
  },
  {
   "cell_type": "code",
   "execution_count": 38,
   "id": "bef153ce",
   "metadata": {},
   "outputs": [],
   "source": [
    "def f6(x):\n",
    "    return x**7-x**4+2\n",
    "funciones.append(f6)"
   ]
  },
  {
   "cell_type": "code",
   "execution_count": 39,
   "id": "a434aa42",
   "metadata": {},
   "outputs": [
    {
     "name": "stdout",
     "output_type": "stream",
     "text": [
      "Solución exacta en decimal: -1.00000000000000\n"
     ]
    },
    {
     "data": {
      "text/latex": [
       "$\\displaystyle -1$"
      ],
      "text/plain": [
       "-1"
      ]
     },
     "execution_count": 39,
     "metadata": {},
     "output_type": "execute_result"
    }
   ],
   "source": [
    "solucion_exacta(f6)"
   ]
  },
  {
   "cell_type": "markdown",
   "id": "8d2be139",
   "metadata": {},
   "source": [
    "Por lo tanto, la raíz es $-1$."
   ]
  },
  {
   "cell_type": "markdown",
   "id": "d1f3cb56",
   "metadata": {},
   "source": [
    "Si procedemos del mismo modo con la siguiente función nos encontramos un problema."
   ]
  },
  {
   "cell_type": "code",
   "execution_count": 40,
   "id": "3e0b2ebe",
   "metadata": {},
   "outputs": [],
   "source": [
    "def f7(x):\n",
    "    return x**7+sp.cos(x)-3\n",
    "funciones.append(f7)"
   ]
  },
  {
   "cell_type": "code",
   "execution_count": 41,
   "id": "d6501005",
   "metadata": {},
   "outputs": [
    {
     "name": "stdout",
     "output_type": "stream",
     "text": [
      "sympy no ha podido encontrar la solución exacta\n"
     ]
    }
   ],
   "source": [
    "solucion_exacta(f7)"
   ]
  },
  {
   "cell_type": "markdown",
   "id": "7bf2d567",
   "metadata": {},
   "source": [
    "En la función que hemos implementado, tenemos un bloque ***try ... except***, que evita mostrar el error completo. Si realizamos **sp.solve** manualmente, vemos que sympy no tiene implementado métodos para resolver este tipo de ecuaciones."
   ]
  },
  {
   "cell_type": "code",
   "execution_count": 42,
   "id": "adf85b83",
   "metadata": {},
   "outputs": [],
   "source": [
    "# sp.solve(f7(x),x) --> Ejecutar para ver error"
   ]
  },
  {
   "cell_type": "markdown",
   "id": "a3acbca3",
   "metadata": {},
   "source": [
    "Como no podemos resolverlo simbólicamente, usaremos un resolvedor numérico que trae implementado el paquete sympy y veremos que aproximación obtenemos:"
   ]
  },
  {
   "cell_type": "code",
   "execution_count": 43,
   "id": "821de770",
   "metadata": {},
   "outputs": [
    {
     "data": {
      "text/latex": [
       "$\\displaystyle 1.14545980727001$"
      ],
      "text/plain": [
       "1.14545980727001"
      ]
     },
     "execution_count": 43,
     "metadata": {},
     "output_type": "execute_result"
    }
   ],
   "source": [
    "aprox = sp.nsolve(f7(x), x, 1)\n",
    "aprox"
   ]
  },
  {
   "cell_type": "markdown",
   "id": "17b1b980",
   "metadata": {},
   "source": [
    "Para comprobar esta aproximación, mostraremos la gráfoca de la función en un entorno cercano a ese punto"
   ]
  },
  {
   "cell_type": "code",
   "execution_count": 44,
   "id": "7a99750b",
   "metadata": {},
   "outputs": [
    {
     "data": {
      "text/plain": [
       "Text(0.5, 1.0, 'Entorno de la raíz de f')"
      ]
     },
     "execution_count": 44,
     "metadata": {},
     "output_type": "execute_result"
    },
    {
     "data": {
      "image/png": "[encoded data removed]",
      "text/plain": [
       "<Figure size 576x576 with 1 Axes>"
      ]
     },
     "metadata": {
      "needs_background": "light"
     },
     "output_type": "display_data"
    }
   ],
   "source": [
    "nxx = 100;\n",
    "a = float(aprox) - 10**(-6); b = float(aprox) + 10**(-6)\n",
    "xx = np.linspace(a,b,nxx)\n",
    "yy = xx**7+np.cos(xx)-3\n",
    "fig, ax = plt.subplots(figsize=(8,8))\n",
    "ax.plot(xx,yy,'b',label='f(x)')\n",
    "ax.plot(float(aprox),0,'r|', label='aproximación')\n",
    "ax.axhline(y=0, color='k')\n",
    "ax.legend(loc='upper left')\n",
    "ax.set_xlabel('$x$',fontsize=18)\n",
    "ax.set_ylabel('$y$',fontsize=18)\n",
    "ax.set_title('Entorno de la raíz de f')"
   ]
  },
  {
   "cell_type": "markdown",
   "id": "6d5a7f34",
   "metadata": {},
   "source": [
    "Por lo que podemos ver que la aproximación es bastante buena."
   ]
  },
  {
   "cell_type": "markdown",
   "id": "664dd44a",
   "metadata": {},
   "source": [
    "## Ejercicio 6"
   ]
  },
  {
   "cell_type": "markdown",
   "id": "f517d627",
   "metadata": {},
   "source": [
    "6.- Aplicar los métodos de aceleración de la convergencia de Aitken y Steffensen (según los apuntes) a las sucesiones obtenidas para los distintos métodos programados en esta práctica y comparar los resultados. Para aplicar el método de aceleración de Steffensen, recuerde que para transformar cualquier ecuación de la forma  $ f(x)=0 $  en un problema de puntos fijos  $ g(x)=x $, la forma más simple puede ser definir  $g(x)=x \\pm f(x)$."
   ]
  },
  {
   "cell_type": "markdown",
   "id": "8cf39fdb",
   "metadata": {},
   "source": [
    "Vamos a comenzar programando los diferentes métodos que necesitamos (insertando los elementos en un vector de iteraciones), los cuales son:\n",
    "\n",
    "    - biseccion_iters: Método de bisección\n",
    "    \n",
    "    - regular_falsi_iters: Método de Regula-Falsi\n",
    "    \n",
    "    - secante_iters: Método de la secante\n",
    "    \n",
    "    - newton_raphson_iters: Método de Newton-Raphson\n",
    "    \n",
    "    - wittaker_iters: Método de Whittaker\n",
    "    \n",
    "    - steffensen_iters: Método de Steffensen"
   ]
  },
  {
   "cell_type": "code",
   "execution_count": 45,
   "id": "60387d75",
   "metadata": {},
   "outputs": [],
   "source": [
    "def biseccion_iters(f, a, b, maxiter=100, tol=10**(-5), prec=10**(-3), cifras=0):\n",
    "    # si no se especifican el número de cifras decimales a mostrar, se hará\n",
    "    # para que coincida con la precisión, es decir, si la precisión es\n",
    "    # 10**-n, el número de cifras a mostrar será n\n",
    "    # en caso de que la precisión no sea una potencia de 10, se usará\n",
    "    # la potencia de 10 inmediatamente inferior\n",
    "    if cifras <= 0:\n",
    "        cifras = int(np.ceil(abs(np.log10(prec))))\n",
    "    \n",
    "    exit = ''\n",
    "    iters = []\n",
    "    \n",
    "    niter = 0\n",
    "    while niter < maxiter:\n",
    "        c = (a+b)/2\n",
    "        iters.append(c)\n",
    "        \n",
    "        if abs(f(c)) < prec:\n",
    "            exit = 'precisión'\n",
    "            break\n",
    "        if sign(f(a)) != sign(f(c)):\n",
    "            b = c\n",
    "        else:\n",
    "            a = c\n",
    "        if b-a < tol:\n",
    "            exit = 'tolerancia'\n",
    "            break\n",
    "        \n",
    "        niter += 1\n",
    "    \n",
    "    print('maxiter={}, tol={}, prec={}, cifras={}'.format(maxiter, tol, prec, cifras))\n",
    "    \n",
    "    if exit == 'precisión':\n",
    "        print('Se ha alcanzado la precisión deseada')\n",
    "    elif exit == 'tolerancia':\n",
    "        print('Se ha alcanzado la máxima tolerancia')\n",
    "    elif niter >= maxiter:\n",
    "        print('Se llegó al número máximo de iteraciones')\n",
    "    \n",
    "    print('Aproximación de la solución:', Decimal(c))\n",
    "    print('Aproximación de la solución con', cifras, 'cifras significativas:', round(Decimal(c), cifras))\n",
    "    print('Número de iteraciones:', niter)\n",
    "    \n",
    "    return iters"
   ]
  },
  {
   "cell_type": "code",
   "execution_count": 46,
   "id": "02d2c841",
   "metadata": {},
   "outputs": [],
   "source": [
    "def regula_falsi_iters(f, a, b, maxiter=100, tol=10**(-5), prec=10**(-3), cifras=0):\n",
    "    # si no se especifican el número de cifras decimales a mostrar, se hará\n",
    "    # para que coincida con la precisión, es decir, si la precisión es\n",
    "    # 10**-n, el número de cifras a mostrar será n\n",
    "    # en caso de que la precisión no sea una potencia de 10, se usará\n",
    "    # la potencia de 10 inmediatamente inferior\n",
    "    if cifras <= 0:\n",
    "        cifras = int(np.ceil(abs(np.log10(prec))))\n",
    "    \n",
    "    exit = ''\n",
    "    iters = []\n",
    "    \n",
    "    niter = 0\n",
    "    while niter < maxiter:\n",
    "        c = b - ((a-b)*f(b))/(f(a)-f(b))\n",
    "        iters.append(c)\n",
    "        \n",
    "        if abs(f(c)) < prec:\n",
    "            exit = 'precisión'\n",
    "            break\n",
    "        if sign(f(a)) != sign(f(c)):\n",
    "            b = c\n",
    "        else:\n",
    "            a = c\n",
    "        if b-a < tol:\n",
    "            exit = 'tolerancia'\n",
    "            break\n",
    "        \n",
    "        niter += 1\n",
    "    \n",
    "    print('maxiter={}, tol={}, prec={}, cifras={}'.format(maxiter, tol, prec, cifras))\n",
    "    \n",
    "    if exit == 'precisión':\n",
    "        print('Se ha alcanzado la precisión deseada')\n",
    "    elif exit == 'tolerancia':\n",
    "        print('Se ha alcanzado la máxima tolerancia')\n",
    "    elif niter >= maxiter:\n",
    "        print('Se llegó al número máximo de iteraciones')\n",
    "    \n",
    "    print('Aproximación de la solución:', Decimal(c))\n",
    "    print('Aproximación de la solución con', cifras, 'cifras significativas:', round(Decimal(c), cifras))\n",
    "    print('Número de iteraciones:', niter)\n",
    "    \n",
    "    return iters"
   ]
  },
  {
   "cell_type": "code",
   "execution_count": 47,
   "id": "10d03b5f",
   "metadata": {},
   "outputs": [],
   "source": [
    "def secante_iters(f, a, b, maxiter=100, tol=10**(-5), prec=10**(-3), cifras=0):\n",
    "    # si no se especifican el número de cifras decimales a mostrar, se hará\n",
    "    # para que coincida con la precisión, es decir, si la precisión es\n",
    "    # 10**-n, el número de cifras a mostrar será n\n",
    "    # en caso de que la precisión no sea una potencia de 10, se usará\n",
    "    # la potencia de 10 inmediatamente inferior\n",
    "    if cifras <= 0:\n",
    "        cifras = int(np.ceil(abs(np.log10(prec))))\n",
    "    \n",
    "    exit = ''\n",
    "    iters = []\n",
    "    \n",
    "    niter = 0\n",
    "    x0 = a; x1 = b\n",
    "    \n",
    "    while niter < maxiter:\n",
    "        niter = niter + 1;\n",
    "        c = x1 - f(x1)*(x1-x0)/(f(x1)-f(x0))\n",
    "        iters.append(c)\n",
    "        \n",
    "        if abs(f(c)) < prec:\n",
    "            sale = 'precision'\n",
    "            break\n",
    "        else:\n",
    "            x1,x0 = c,x1\n",
    "        if abs(x1-x0) < tol:\n",
    "            sale = 'tolerancia'\n",
    "            break\n",
    "    \n",
    "    print('maxiter={}, tol={}, prec={}, cifras={}'.format(maxiter, tol, prec, cifras))\n",
    "    \n",
    "    if exit == 'precisión':\n",
    "        print('Se ha alcanzado la precisión deseada')\n",
    "    elif exit == 'tolerancia':\n",
    "        print('Se ha alcanzado la máxima tolerancia')\n",
    "    elif niter >= maxiter:\n",
    "        print('Se llegó al número máximo de iteraciones')\n",
    "    \n",
    "    print('Aproximación de la solución:', Decimal(c))\n",
    "    print('Aproximación de la solución con', cifras, 'cifras significativas:', round(Decimal(c), cifras))\n",
    "    print('Número de iteraciones:', niter)\n",
    "    \n",
    "    return iters"
   ]
  },
  {
   "cell_type": "code",
   "execution_count": 48,
   "id": "6be46687",
   "metadata": {},
   "outputs": [],
   "source": [
    "def newton_raphson_iters(f, df, x0, maxiter=100, tol=10**(-5), prec=10**(-3), cifras=0):\n",
    "    # si no se especifican el número de cifras decimales a mostrar, se hará\n",
    "    # para que coincida con la precisión, es decir, si la precisión es\n",
    "    # 10**-n, el número de cifras a mostrar será n\n",
    "    # en caso de que la precisión no sea una potencia de 10, se usará\n",
    "    # la potencia de 10 inmediatamente inferior\n",
    "    if cifras <= 0:\n",
    "        cifras = int(np.ceil(abs(np.log10(prec))))\n",
    "    \n",
    "    exit = ''\n",
    "    \n",
    "    iters = [x0]\n",
    "    niter = 0\n",
    "    while niter < maxiter:\n",
    "        niter += 1\n",
    "        x1 = x0 - f(x0)/df(x0)\n",
    "        iters.append(x1)\n",
    "        \n",
    "        if abs(f(x1)) < prec:\n",
    "            exit = 'precisión'\n",
    "            break\n",
    "        if abs(x1-x0) < tol:\n",
    "            exit = 'tolerancia'\n",
    "            break\n",
    "        x0 = x1\n",
    "    \n",
    "    print('maxiter={}, tol={}, prec={}, cifras={}'.format(maxiter, tol, prec, cifras))\n",
    "    \n",
    "    if exit == 'precisión':\n",
    "        print('Se ha alcanzado la precisión deseada')\n",
    "    elif exit == 'tolerancia':\n",
    "        print('Se ha alcanzado la máxima tolerancia')\n",
    "    elif niter >= maxiter:\n",
    "        print('Se llegó al número máximo de iteraciones')\n",
    "    \n",
    "    print('Aproximación de la solución:', Decimal(x1))\n",
    "    print('Aproximación de la solución con', cifras, 'cifras significativas:', round(Decimal(x1), cifras))\n",
    "    print('Número de iteraciones:', niter)\n",
    "    \n",
    "    return iters"
   ]
  },
  {
   "cell_type": "code",
   "execution_count": 49,
   "id": "b75769b6",
   "metadata": {},
   "outputs": [],
   "source": [
    "def whittaker_iters(f, m, x0, maxiter=100, tol=10**(-5), prec=10**(-3), cifras=0):\n",
    "    # si no se especifican el número de cifras decimales a mostrar, se hará\n",
    "    # para que coincida con la precisión, es decir, si la precisión es\n",
    "    # 10**-n, el número de cifras a mostrar será n\n",
    "    # en caso de que la precisión no sea una potencia de 10, se usará\n",
    "    # la potencia de 10 inmediatamente inferior\n",
    "    if cifras <= 0:\n",
    "        cifras = int(np.ceil(abs(np.log10(prec))))\n",
    "    \n",
    "    exit = ''\n",
    "    \n",
    "    iters = [x0]\n",
    "    niter = 0\n",
    "    while niter < maxiter:\n",
    "        niter += 1\n",
    "        x1 = x0 - f(x0)/m\n",
    "        iters.append(x1)\n",
    "        \n",
    "        if abs(f(x1)) < prec:\n",
    "            exit = 'precisión'\n",
    "            break\n",
    "        if abs(x1-x0) < tol:\n",
    "            exit = 'tolerancia'\n",
    "            break\n",
    "        x0 = x1\n",
    "    \n",
    "    print('maxiter={}, tol={}, prec={}, cifras={}'.format(maxiter, tol, prec, cifras))\n",
    "    \n",
    "    if exit == 'precisión':\n",
    "        print('Se ha alcanzado la precisión deseada')\n",
    "    elif exit == 'tolerancia':\n",
    "        print('Se ha alcanzado la máxima tolerancia')\n",
    "    elif niter >= maxiter:\n",
    "        print('Se llegó al número máximo de iteraciones')\n",
    "    \n",
    "    print('Aproximación de la solución:', Decimal(x1))\n",
    "    print('Aproximación de la solución con', cifras, 'cifras significativas:', round(Decimal(x1), cifras))\n",
    "    print('Número de iteraciones:', niter)\n",
    "    \n",
    "    return iters"
   ]
  },
  {
   "cell_type": "code",
   "execution_count": 50,
   "id": "9770b60b",
   "metadata": {},
   "outputs": [],
   "source": [
    "def steffensen_iters(f, df, x0, maxiter=100, tol=10**(-5), prec=10**(-3), cifras=0):\n",
    "    # si no se especifican el número de cifras decimales a mostrar, se hará\n",
    "    # para que coincida con la precisión, es decir, si la precisión es\n",
    "    # 10**-n, el número de cifras a mostrar será n\n",
    "    # en caso de que la precisión no sea una potencia de 10, se usará\n",
    "    # la potencia de 10 inmediatamente inferior\n",
    "    if cifras <= 0:\n",
    "        cifras = int(np.ceil(abs(np.log10(prec))))\n",
    "    \n",
    "    exit = ''\n",
    "    \n",
    "    iters = [x0]\n",
    "    niter = 0\n",
    "    while niter < maxiter:\n",
    "        niter += 1\n",
    "        x1 = x0 - f(x0)**2/(f(x0+f(x0))-f(x0))\n",
    "        iters.append(x1)\n",
    "        \n",
    "        if abs(f(x1)) < prec:\n",
    "            exit = 'precisión'\n",
    "            break\n",
    "        if abs(x1-x0) < tol:\n",
    "            exit = 'tolerancia'\n",
    "            break\n",
    "        x0 = x1\n",
    "    \n",
    "    print('maxiter={}, tol={}, prec={}, cifras={}'.format(maxiter, tol, prec, cifras))\n",
    "    \n",
    "    if exit == 'precisión':\n",
    "        print('Se ha alcanzado la precisión deseada')\n",
    "    elif exit == 'tolerancia':\n",
    "        print('Se ha alcanzado la máxima tolerancia')\n",
    "    elif niter >= maxiter:\n",
    "        print('Se llegó al número máximo de iteraciones')\n",
    "    \n",
    "    print('Aproximación de la solución:', Decimal(x1))\n",
    "    print('Aproximación de la solución con', cifras, 'cifras significativas:', round(Decimal(x1), cifras))\n",
    "    print('Número de iteraciones:', niter)\n",
    "    \n",
    "    return iters"
   ]
  },
  {
   "cell_type": "markdown",
   "id": "c66c623f",
   "metadata": {},
   "source": [
    "A continuación, programaremos la aceleración de Aitken. Dada una sucesión de iteraciones, $\\{x_n\\}_{n\\geq 0}$, construiremos la sucesión acelerada $\\{\\hat{x}_{n}\\}_{n\\geq 0}$ como\n",
    "\n",
    "$$\\hat{x}_n = x_n-\\frac{(\\Delta x_n)^2}{\\Delta^2 x_n} = x_n-\\frac{(x_{n+1}-x_n)^2}{x_{n+2}-2x_{n+1}+x_n}$$"
   ]
  },
  {
   "cell_type": "code",
   "execution_count": 51,
   "id": "154a1d9f",
   "metadata": {},
   "outputs": [],
   "source": [
    "def aceleracion_aitken(iters):\n",
    "    iters_a = []\n",
    "    for n in range(len(iters)-2):\n",
    "        iters_a.append(iters[n]-(iters[n+1]-iters[n])**2/(iters[n+2]-2*iters[n+1]+iters[n]))\n",
    "\n",
    "    return iters_a"
   ]
  },
  {
   "cell_type": "markdown",
   "id": "9afadec7",
   "metadata": {},
   "source": [
    "Finalmente, programaremos la aceleración de Stefensen. Tomaremos la tolerancia como criterio de parada."
   ]
  },
  {
   "cell_type": "code",
   "execution_count": 52,
   "id": "38efdec3",
   "metadata": {},
   "outputs": [],
   "source": [
    "def aceleracion_steffensen(f, iters, tol=10**(-5)):\n",
    "    g = lambda x: x - f(x)\n",
    "    \n",
    "    st = [1]\n",
    "    x0, x1 = 0, 1\n",
    "    \n",
    "    while (abs(x1 - x0) >= tol):    \n",
    "        v0 = iters[0]-(iters[1]-iters[0])**2/(iters[2]-2*iters[1]+iters[0])\n",
    "        v1 = g(v0)\n",
    "        v2 = g(v1)\n",
    "        st.append(v0)\n",
    "        iters = [v0, v1, v2]\n",
    "        \n",
    "        x1 = st[-1]; x0 = st[-2]\n",
    "    \n",
    "    return st[1:]"
   ]
  },
  {
   "cell_type": "markdown",
   "id": "85692a2a",
   "metadata": {},
   "source": [
    "Vamos a realizar las comparaciones sobre alguna de las funciones que hemos tenido anteriormente. Por ejemplo, f0, que está definida en el ejercicio 1:\n",
    "$$f(x)=x^2+4x-10$$"
   ]
  },
  {
   "cell_type": "code",
   "execution_count": 53,
   "id": "3b13ad1c",
   "metadata": {},
   "outputs": [
    {
     "data": {
      "text/plain": [
       "(<function __main__.f0(x)>, <function __main__.df0(x)>)"
      ]
     },
     "execution_count": 53,
     "metadata": {},
     "output_type": "execute_result"
    }
   ],
   "source": [
    "f0,df0"
   ]
  },
  {
   "cell_type": "markdown",
   "id": "182f22e0",
   "metadata": {},
   "source": [
    "Recordemos que f sólo tiene una raíz en $\\mathbb{R}$, que se encuentra en $[1,2]$. Por tanto, podemos aplicar bisección, Regula-Falsi y el método de la secante, en dicho intervalo. Además, se puede demostrar que el método de Newton-Raphson converge a la solución en este intervalo para cualquier $x_0$ inicial. Tomaremos $x_0=1.3$. También, tomaremos este $x_0$ para Whittaker y Steffensen. Tomaremos $m=f'(x_0)$ para Whittaker."
   ]
  },
  {
   "cell_type": "code",
   "execution_count": 54,
   "id": "0a1891a3",
   "metadata": {},
   "outputs": [
    {
     "name": "stdout",
     "output_type": "stream",
     "text": [
      "[Bisección]\n",
      "maxiter=100, tol=1e-05, prec=0.001, cifras=3\n",
      "Se ha alcanzado la precisión deseada\n",
      "Aproximación de la solución: 1.5567626953125\n",
      "Aproximación de la solución con 3 cifras significativas: 1.557\n",
      "Número de iteraciones: 12\n",
      "[Regula-Falsi]\n",
      "maxiter=100, tol=1e-05, prec=0.001, cifras=3\n",
      "Se ha alcanzado la precisión deseada\n",
      "Aproximación de la solución: 1.5566911363236892729133842294686473906040191650390625\n",
      "Aproximación de la solución con 3 cifras significativas: 1.557\n",
      "Número de iteraciones: 4\n",
      "[Secante]\n",
      "maxiter=100, tol=1e-05, prec=0.001, cifras=3\n",
      "Aproximación de la solución: 1.556767783245746716858093350310809910297393798828125\n",
      "Aproximación de la solución con 3 cifras significativas: 1.557\n",
      "Número de iteraciones: 4\n",
      "[Newton-Raphson]\n",
      "maxiter=100, tol=1e-05, prec=0.001, cifras=3\n",
      "Se ha alcanzado la precisión deseada\n",
      "Aproximación de la solución: 1.5567733222841038109862665805849246680736541748046875\n",
      "Aproximación de la solución con 3 cifras significativas: 1.557\n",
      "Número de iteraciones: 3\n",
      "[Whittaker]\n",
      "maxiter=100, tol=1e-05, prec=0.001, cifras=3\n",
      "Se ha alcanzado la precisión deseada\n",
      "Aproximación de la solución: 1.5567465795314781029645700982655398547649383544921875\n",
      "Aproximación de la solución con 3 cifras significativas: 1.557\n",
      "Número de iteraciones: 6\n",
      "[Steffensen]\n",
      "maxiter=100, tol=1e-05, prec=0.001, cifras=3\n",
      "Se ha alcanzado la precisión deseada\n",
      "Aproximación de la solución: 1.556778817825917204942243188270367681980133056640625\n",
      "Aproximación de la solución con 3 cifras significativas: 1.557\n",
      "Número de iteraciones: 6\n"
     ]
    }
   ],
   "source": [
    "a = 1; b = 2; x0 = 1.3; m = df0(x0)\n",
    "\n",
    "iters = []\n",
    "print(\"[Bisección]\")\n",
    "iters.append(biseccion_iters(f0, a, b))\n",
    "print(\"[Regula-Falsi]\")\n",
    "iters.append(regula_falsi_iters(f0, a, b))\n",
    "print(\"[Secante]\")\n",
    "iters.append(secante_iters(f0, a, b))\n",
    "print(\"[Newton-Raphson]\")\n",
    "iters.append(newton_raphson_iters(f0, df0, x0))\n",
    "print(\"[Whittaker]\")\n",
    "iters.append(whittaker_iters(f0, m, x0))\n",
    "print(\"[Steffensen]\")\n",
    "iters.append(steffensen_iters(f0, df0, x0))"
   ]
  },
  {
   "cell_type": "code",
   "execution_count": 55,
   "id": "73dfa88b",
   "metadata": {},
   "outputs": [
    {
     "data": {
      "text/plain": [
       "[[1.5,\n",
       "  1.75,\n",
       "  1.625,\n",
       "  1.5625,\n",
       "  1.53125,\n",
       "  1.546875,\n",
       "  1.5546875,\n",
       "  1.55859375,\n",
       "  1.556640625,\n",
       "  1.5576171875,\n",
       "  1.55712890625,\n",
       "  1.556884765625,\n",
       "  1.5567626953125],\n",
       " [1.4545454545454546,\n",
       "  1.5393401015228427,\n",
       "  1.5538452345212188,\n",
       "  1.5562827746246575,\n",
       "  1.5566911363236893],\n",
       " [1.4545454545454546,\n",
       "  1.5393401015228427,\n",
       "  1.5575294878392076,\n",
       "  1.5567677832457467],\n",
       " [1.3, 1.5869900771775083, 1.5571470603935478, 1.5567733222841038],\n",
       " [1.3,\n",
       "  1.5869900771775083,\n",
       "  1.548968650690248,\n",
       "  1.5586355638509501,\n",
       "  1.5563196332977893,\n",
       "  1.556883221700839,\n",
       "  1.556746579531478],\n",
       " [1.3,\n",
       "  1.7571551810891253,\n",
       "  1.680993828205968,\n",
       "  1.614245835479416,\n",
       "  1.5713647287260548,\n",
       "  1.5578195890347042,\n",
       "  1.5567788178259172]]"
      ]
     },
     "execution_count": 55,
     "metadata": {},
     "output_type": "execute_result"
    }
   ],
   "source": [
    "iters"
   ]
  },
  {
   "cell_type": "markdown",
   "id": "914a5eb6",
   "metadata": {},
   "source": [
    "Ahora aplicaremos los procesos de aceleración de Aitken y de Steffensen a cada una de las sucesiones obtenidas en el método anterior."
   ]
  },
  {
   "cell_type": "code",
   "execution_count": 56,
   "id": "59c6ef88",
   "metadata": {},
   "outputs": [
    {
     "name": "stdout",
     "output_type": "stream",
     "text": [
      "Solución exacta en decimal: 1.55677326439421\n"
     ]
    }
   ],
   "source": [
    "iters_aitken = []\n",
    "iters_steffensen = []\n",
    "for it in iters:\n",
    "    iters_aitken.append(aceleracion_aitken(it))\n",
    "    iters_steffensen.append(aceleracion_steffensen(f0, it))\n",
    "\n",
    "valor_exacto = solucion_exacta(f0).evalf()"
   ]
  },
  {
   "cell_type": "markdown",
   "id": "937fb705",
   "metadata": {},
   "source": [
    "Para comparar, compararemos que el error de las iteraciones del algoritmo principal con los de aceleraciones de Aitken y Steffensen, así como el número de la última iteración (n), para cada uno de los algoritmos anteriores."
   ]
  },
  {
   "cell_type": "code",
   "execution_count": 57,
   "id": "97dfb520",
   "metadata": {},
   "outputs": [
    {
     "name": "stdout",
     "output_type": "stream",
     "text": [
      "Algoritmo                 Error algoritmo     n               Error Aitken     n           Error Steffensen     n\n",
      "-------------- -------------------------- ----- -------------------------- ----- -------------------------- -----\n",
      "Bisección           0.0000105690817113757    13       0.000132639394211376    11       3.63780117140777E-11     6\n",
      "Regula-Falsi        0.0000821280705221028     5        5.26174224191323E-8     3       1.33226762955019E-15     3\n",
      "Secante            0.00000548114846465886     4      0.0000251341807773198     2       3.06421554796543E-14     4\n",
      "Newton-Raphson        5.78898924352700E-8     4     0.00000468196736691517     2       2.22044604925031E-16     4\n",
      "Whittaker           0.0000266848627332728     7        2.06707038152842E-8     5       2.22044604925031E-16     4\n",
      "Steffensen         0.00000555343170582923     7      0.0000810726710478438     5       6.66133814775094E-16     7\n"
     ]
    }
   ],
   "source": [
    "row = [\"Algoritmo\", \"Error algoritmo\", \"n\", \"Error Aitken\", \"n\", \"Error Steffensen\", \"n\"]\n",
    "print(\"{: <14} {: >26} {: >5} {: >26} {: >5} {: >26} {: >5}\".format(*row))\n",
    "print(\"-------------- -------------------------- ----- -------------------------- ----- -------------------------- -----\")\n",
    "\n",
    "algoritmos = [\"Bisección\", \"Regula-Falsi\", \"Secante\", \"Newton-Raphson\", \"Whittaker\", \"Steffensen\"]\n",
    "\n",
    "for i in range(len(algoritmos)):\n",
    "    row = [algoritmos[i]]\n",
    "    \n",
    "    # error algoritmo\n",
    "    n = len(iters[i])\n",
    "    val = iters[i][n-1]\n",
    "    row.append(abs(val-valor_exacto))\n",
    "    row.append(n)\n",
    "    \n",
    "    # error Aitken\n",
    "    n = len(iters_aitken[i])\n",
    "    val = iters_aitken[i][n-1]\n",
    "    row.append(abs(val-valor_exacto))\n",
    "    row.append(n)\n",
    "    \n",
    "    # error Steffensen\n",
    "    n = len(iters_steffensen[i])\n",
    "    val = iters_steffensen[i][n-1]\n",
    "    row.append(abs(val-valor_exacto))\n",
    "    row.append(n)\n",
    "    \n",
    "    print(\"{: <14} {: >26} {: >5} {: >26} {: >5} {: >26} {: >5}\".format(*row))"
   ]
  },
  {
   "cell_type": "markdown",
   "id": "f5e390e2",
   "metadata": {},
   "source": [
    "## Ejercicio 7"
   ]
  },
  {
   "cell_type": "markdown",
   "id": "fb574254",
   "metadata": {},
   "source": [
    "7.- Programar el método de Newton-Raphson acelerado, partiendo de cierto $x_0$ adecuado: $$x_{n+1}=x_n - m\\frac{f(x_n)}{f'(x_n)}, \\quad n=0,1,2,\\ldots$$ para el caso de una raíz múltiple (de multiplicidad $m\\in\\mathbb{N}$) de una ecuación del tipo $f(x)=0$ y comparar los resultados\n",
    "con los que se obtienen mediante el empleo de los métodos de aceleración habituales de Aitken y Steffensen (según los apuntes)."
   ]
  },
  {
   "cell_type": "markdown",
   "id": "0f5f3a40",
   "metadata": {},
   "source": [
    "Usaremos como base el método de Newton-Raphson:"
   ]
  },
  {
   "cell_type": "code",
   "execution_count": 58,
   "id": "fbfa0d69",
   "metadata": {},
   "outputs": [],
   "source": [
    "def newton_raphson_acelerado(f, df, m, x0, a=-sp.oo, b=sp.oo, maxiter=100, tol=10**(-5), prec=10**(-3), cifras=0):\n",
    "    # si no se especifican el número de cifras decimales a mostrar, se hará\n",
    "    # para que coincida con la precisión, es decir, si la precisión es\n",
    "    # 10**-n, el número de cifras a mostrar será n\n",
    "    # en caso de que la precisión no sea una potencia de 10, se usará\n",
    "    # la potencia de 10 inmediatamente inferior\n",
    "    if cifras <= 0:\n",
    "        cifras = int(np.ceil(abs(np.log10(prec))))\n",
    "    \n",
    "    exit = ''\n",
    "    \n",
    "    niter = 0\n",
    "    while niter < maxiter:\n",
    "        niter += 1\n",
    "        x1 = x0 - m*f(x0)/df(x0)\n",
    "        if abs(f(x1)) < prec:\n",
    "            exit = 'precisión'\n",
    "            break\n",
    "        if abs(x1-x0) < tol:\n",
    "            exit = 'tolerancia'\n",
    "            break\n",
    "        x0 = x1\n",
    "    \n",
    "    print('maxiter={}, tol={}, prec={}, cifras={}'.format(maxiter, tol, prec, cifras))\n",
    "    \n",
    "    if exit == 'precisión':\n",
    "        print('Se ha alcanzado la precisión deseada')\n",
    "    elif exit == 'tolerancia':\n",
    "        print('Se ha alcanzado la máxima tolerancia')\n",
    "    elif niter >= maxiter:\n",
    "        print('Se llegó al número máximo de iteraciones')\n",
    "    \n",
    "    print('Aproximación de la solución:', Decimal(x1))\n",
    "    print('Aproximación de la solución con', cifras, 'cifras significativas:', round(Decimal(x1), cifras))\n",
    "    print('Número de iteraciones:', niter)\n",
    "    \n",
    "    return x1"
   ]
  },
  {
   "cell_type": "markdown",
   "id": "d2e871f3",
   "metadata": {},
   "source": [
    "Lo usaremos para encontrar la raíz múltiple $\\sqrt{2}$, de multiplicidad $m=3$, de la ecuación\n",
    "$$f(x)=(x-\\sqrt{2})^3(x+4)$$"
   ]
  },
  {
   "cell_type": "code",
   "execution_count": 59,
   "id": "b3d62079",
   "metadata": {},
   "outputs": [],
   "source": [
    "def f8(x):\n",
    "    return (x-np.sqrt(2))**3*(x+4)"
   ]
  },
  {
   "cell_type": "code",
   "execution_count": 60,
   "id": "b58d6686",
   "metadata": {},
   "outputs": [
    {
     "data": {
      "text/latex": [
       "$\\displaystyle 3 \\left(x + 4\\right) \\left(x - \\sqrt{2}\\right)^{2} + \\left(x - \\sqrt{2}\\right)^{3}$"
      ],
      "text/plain": [
       "3*(x + 4)*(x - sqrt(2))**2 + (x - sqrt(2))**3"
      ]
     },
     "execution_count": 60,
     "metadata": {},
     "output_type": "execute_result"
    }
   ],
   "source": [
    "sp.diff((x-sp.sqrt(2))**3*(x+4),x)"
   ]
  },
  {
   "cell_type": "code",
   "execution_count": 61,
   "id": "198414c8",
   "metadata": {},
   "outputs": [],
   "source": [
    "def df8(x):\n",
    "    return 3*(x+4)*(x-np.sqrt(2))**2+(x-np.sqrt(2))**3"
   ]
  },
  {
   "cell_type": "code",
   "execution_count": 62,
   "id": "1fc82413",
   "metadata": {},
   "outputs": [
    {
     "name": "stdout",
     "output_type": "stream",
     "text": [
      "Solución exacta en decimal: 1.41421356237310\n"
     ]
    },
    {
     "data": {
      "text/latex": [
       "$\\displaystyle 1.4142135623731$"
      ],
      "text/plain": [
       "1.41421356237310"
      ]
     },
     "execution_count": 62,
     "metadata": {},
     "output_type": "execute_result"
    }
   ],
   "source": [
    "valor_exacto = solucion_exacta(f8, 0, 2)\n",
    "valor_exacto"
   ]
  },
  {
   "cell_type": "markdown",
   "id": "9d9c0cef",
   "metadata": {},
   "source": [
    "Pondremos $x_0=25$, por ejemplo, para tener más iteraciones, pues converge muy rápido."
   ]
  },
  {
   "cell_type": "code",
   "execution_count": 63,
   "id": "a7686579",
   "metadata": {},
   "outputs": [
    {
     "name": "stdout",
     "output_type": "stream",
     "text": [
      "maxiter=100, tol=1e-05, prec=0.0001, cifras=4\n",
      "Se ha alcanzado la precisión deseada\n",
      "Aproximación de la solución: 1.43966471556344810522887200932018458843231201171875\n",
      "Aproximación de la solución con 4 cifras significativas: 1.4397\n",
      "Número de iteraciones: 3\n"
     ]
    },
    {
     "data": {
      "text/plain": [
       "1.439664715563448"
      ]
     },
     "execution_count": 63,
     "metadata": {},
     "output_type": "execute_result"
    }
   ],
   "source": [
    "newton_raphson_acelerado(f8, df8, 3, 25, prec=10**(-4))"
   ]
  },
  {
   "cell_type": "markdown",
   "id": "742dfa01",
   "metadata": {},
   "source": [
    "Compararemos ahora con Aitken y Stefensen. Del mismo modo, crearemos una función que guarde las iteraciones."
   ]
  },
  {
   "cell_type": "code",
   "execution_count": 64,
   "id": "36561b74",
   "metadata": {},
   "outputs": [],
   "source": [
    "def newton_raphson_acelerado_iters(f, df, m, x0, maxiter=100, tol=10**(-5), prec=10**(-3), cifras=0):\n",
    "    # si no se especifican el número de cifras decimales a mostrar, se hará\n",
    "    # para que coincida con la precisión, es decir, si la precisión es\n",
    "    # 10**-n, el número de cifras a mostrar será n\n",
    "    # en caso de que la precisión no sea una potencia de 10, se usará\n",
    "    # la potencia de 10 inmediatamente inferior\n",
    "    if cifras <= 0:\n",
    "        cifras = int(np.ceil(abs(np.log10(prec))))\n",
    "    \n",
    "    exit = ''\n",
    "    \n",
    "    iters = [x0]\n",
    "    niter = 0\n",
    "    while niter < maxiter:\n",
    "        niter += 1\n",
    "        x1 = x0 - m*f(x0)/df(x0)\n",
    "        iters.append(x1)\n",
    "        \n",
    "        if abs(f(x1)) < prec:\n",
    "            exit = 'precisión'\n",
    "            break\n",
    "        if abs(x1-x0) < tol:\n",
    "            exit = 'tolerancia'\n",
    "            break\n",
    "        x0 = x1\n",
    "    \n",
    "    print('maxiter={}, tol={}, prec={}, cifras={}'.format(maxiter, tol, prec, cifras))\n",
    "    \n",
    "    if exit == 'precisión':\n",
    "        print('Se ha alcanzado la precisión deseada')\n",
    "    elif exit == 'tolerancia':\n",
    "        print('Se ha alcanzado la máxima tolerancia')\n",
    "    elif niter >= maxiter:\n",
    "        print('Se llegó al número máximo de iteraciones')\n",
    "    \n",
    "    print('Aproximación de la solución:', Decimal(x1))\n",
    "    print('Aproximación de la solución con', cifras, 'cifras significativas:', round(Decimal(x1), cifras))\n",
    "    print('Número de iteraciones:', niter)\n",
    "    \n",
    "    return iters"
   ]
  },
  {
   "cell_type": "code",
   "execution_count": 65,
   "id": "453f44cd",
   "metadata": {},
   "outputs": [
    {
     "name": "stdout",
     "output_type": "stream",
     "text": [
      "maxiter=100, tol=1e-05, prec=0.0001, cifras=4\n",
      "Se ha alcanzado la precisión deseada\n",
      "Aproximación de la solución: 1.43966471556344810522887200932018458843231201171875\n",
      "Aproximación de la solución con 4 cifras significativas: 1.4397\n",
      "Número de iteraciones: 3\n"
     ]
    }
   ],
   "source": [
    "iters = newton_raphson_acelerado_iters(f8, df8, 3, 25, prec=10**(-4))"
   ]
  },
  {
   "cell_type": "code",
   "execution_count": 66,
   "id": "df7ce6da",
   "metadata": {},
   "outputs": [
    {
     "data": {
      "text/plain": [
       "[25, 6.444600737809118, 2.1100848456345567, 1.439664715563448]"
      ]
     },
     "execution_count": 66,
     "metadata": {},
     "output_type": "execute_result"
    }
   ],
   "source": [
    "iters"
   ]
  },
  {
   "cell_type": "code",
   "execution_count": 67,
   "id": "ac0b3864",
   "metadata": {},
   "outputs": [],
   "source": [
    "iters_aitken = aceleracion_aitken(iters)\n",
    "iters_steffensen = aceleracion_steffensen(f8, iters, tol=10**(-3))"
   ]
  },
  {
   "cell_type": "code",
   "execution_count": 68,
   "id": "d1e3431b",
   "metadata": {},
   "outputs": [
    {
     "data": {
      "text/latex": [
       "$\\displaystyle 1.4142135623731$"
      ],
      "text/plain": [
       "1.41421356237310"
      ]
     },
     "execution_count": 68,
     "metadata": {},
     "output_type": "execute_result"
    }
   ],
   "source": [
    "valor_exacto"
   ]
  },
  {
   "cell_type": "code",
   "execution_count": 69,
   "id": "0c284cf8",
   "metadata": {},
   "outputs": [
    {
     "data": {
      "text/plain": [
       "[25, 6.444600737809118, 2.1100848456345567, 1.439664715563448]"
      ]
     },
     "execution_count": 69,
     "metadata": {},
     "output_type": "execute_result"
    }
   ],
   "source": [
    "iters"
   ]
  },
  {
   "cell_type": "code",
   "execution_count": 70,
   "id": "d63f0c60",
   "metadata": {},
   "outputs": [
    {
     "data": {
      "text/plain": [
       "[0.7889272543187431, 1.3169978476684507]"
      ]
     },
     "execution_count": 70,
     "metadata": {},
     "output_type": "execute_result"
    }
   ],
   "source": [
    "iters_aitken"
   ]
  },
  {
   "cell_type": "code",
   "execution_count": 71,
   "id": "c6f84c88",
   "metadata": {},
   "outputs": [
    {
     "data": {
      "text/plain": [
       "[0.7889272543187431,\n",
       " 1.4300072104287338,\n",
       " 1.4247406163133771,\n",
       " 1.421231754993639,\n",
       " 1.4188927416107997,\n",
       " 1.4173332795661917,\n",
       " 1.416293522960526,\n",
       " 1.4156002556537108]"
      ]
     },
     "execution_count": 71,
     "metadata": {},
     "output_type": "execute_result"
    }
   ],
   "source": [
    "iters_steffensen"
   ]
  },
  {
   "cell_type": "markdown",
   "id": "60ccf9ec",
   "metadata": {},
   "source": [
    "## Ejercicio 8"
   ]
  },
  {
   "cell_type": "markdown",
   "id": "94eacf27",
   "metadata": {},
   "source": [
    "8.- Programar el conocido algoritmo de Horner para la evaluación de un polinomio y emplearlo de forma reiterativa para el cálculo del desarrollo de Taylor de orden $ n$ de un polinomio cualquiera. Aprovecharlo también para programar una versión especial del método de Newton-Raphson para polinomios, evaluando tanto  $ p(x_k ) $ como $ p'(x_k)$ mediante el citado algoritmo y aplicarlo para aproximar alguna de las raíces reales del siguiente polinomio\n",
    "\n",
    "$$p(x)=d_0 + d_1 x + d_2 x^2 + d_3 x^3+ d_4 x^4 + d_5 x^5 + d_6 x^6 + d_7 x^7 $$\n",
    "(siendo $d_0, d_1, \\ldots, d_7$ los dígitos ordenados de su DNI, pasaporte o tarjeta de residente).\n",
    "\n",
    "Programar y construir también una sucesión de Sturm para dicho polinomio."
   ]
  },
  {
   "cell_type": "markdown",
   "id": "b0a1a7ce",
   "metadata": {},
   "source": [
    "Primero, vamos a ver cuál es nuestro polinomio:\n",
    "$$p(x)=4+9x+6x^2+x^3+7x^4+x^5+9x^7$$"
   ]
  },
  {
   "cell_type": "markdown",
   "id": "fa45d545",
   "metadata": {},
   "source": [
    "Programaremos el algoritmo de Horner a continuación. Para ello, deberemos extraer los coeficientes del polinomio. Realizaremos una primera aproximación en la que le pasaremos un array de coeficientes, de forma que un polinomio\n",
    "$$p(x)=a_0+a_1x+a_2x^2+...+a_nx^n$$\n",
    "\n",
    "que le corresponde el array $a_0,a_1,...,a_n$.\n",
    "Nuestra primera aproximación del algoritmo tendrá como *input* este array."
   ]
  },
  {
   "cell_type": "code",
   "execution_count": 72,
   "id": "208fef2a",
   "metadata": {},
   "outputs": [],
   "source": [
    "def horner_prev(coefs, x0):\n",
    "    n = len(coefs)\n",
    "    b = coefs[n-1]\n",
    "    \n",
    "    for a in coefs[-2::-1]:\n",
    "        b = a + b*x0\n",
    "        \n",
    "    return b   "
   ]
  },
  {
   "cell_type": "code",
   "execution_count": 73,
   "id": "2902da24",
   "metadata": {},
   "outputs": [],
   "source": [
    "def p(x):\n",
    "    return 4+9*x+6*x**2+x**3+7*x**4+x**5+0*x**6+9*x**7"
   ]
  },
  {
   "cell_type": "code",
   "execution_count": 74,
   "id": "fc6660c3",
   "metadata": {},
   "outputs": [],
   "source": [
    "p_c = [4,9,6,1,7,1,0,9]"
   ]
  },
  {
   "cell_type": "code",
   "execution_count": 75,
   "id": "7cf91611",
   "metadata": {},
   "outputs": [
    {
     "data": {
      "text/plain": [
       "True"
      ]
     },
     "execution_count": 75,
     "metadata": {},
     "output_type": "execute_result"
    }
   ],
   "source": [
    "all([horner_prev(p_c, x0) == p(x0) for x0 in np.arange(-5,5,0.5)])"
   ]
  },
  {
   "cell_type": "markdown",
   "id": "21006766",
   "metadata": {},
   "source": [
    "Sin embargo, resulta un poco tedioso tener que extraer los coeficientes del polinomio a mano, pero podemos hacerlo con *sympy*."
   ]
  },
  {
   "cell_type": "code",
   "execution_count": 76,
   "id": "cf5c2b3c",
   "metadata": {},
   "outputs": [],
   "source": [
    "def get_coefs(p):\n",
    "    x = sp.Symbol('x')\n",
    "    coefs = sp.Poly(p(x),x).all_coeffs()[::-1]\n",
    "    return coefs"
   ]
  },
  {
   "cell_type": "code",
   "execution_count": 77,
   "id": "ba3d9f33",
   "metadata": {},
   "outputs": [
    {
     "data": {
      "text/plain": [
       "[4, 9, 6, 1, 7, 1, 0, 9]"
      ]
     },
     "execution_count": 77,
     "metadata": {},
     "output_type": "execute_result"
    }
   ],
   "source": [
    "get_coefs(p)"
   ]
  },
  {
   "cell_type": "markdown",
   "id": "96c9900f",
   "metadata": {},
   "source": [
    "Ahora podemos implementar el algoritmo de Horner de forma que le pasemos un polinimio directamente:"
   ]
  },
  {
   "cell_type": "code",
   "execution_count": 78,
   "id": "c2d74bc5",
   "metadata": {},
   "outputs": [],
   "source": [
    "def horner(p, x0):\n",
    "    coefs = get_coefs(p)\n",
    "    return horner_prev(coefs, x0)"
   ]
  },
  {
   "cell_type": "markdown",
   "id": "0265521a",
   "metadata": {},
   "source": [
    "Que usaremos en una nueva implementación de Newton-Raphson, que evalue usando Horner."
   ]
  },
  {
   "cell_type": "code",
   "execution_count": 79,
   "id": "3e4bb19e",
   "metadata": {},
   "outputs": [],
   "source": [
    "def newton_raphson_horner(f, df, x0, a=-sp.oo, b=sp.oo, maxiter=100, tol=10**(-5), prec=10**(-3), cifras=0):\n",
    "    # si no se especifican el número de cifras decimales a mostrar, se hará\n",
    "    # para que coincida con la precisión, es decir, si la precisión es\n",
    "    # 10**-n, el número de cifras a mostrar será n\n",
    "    # en caso de que la precisión no sea una potencia de 10, se usará\n",
    "    # la potencia de 10 inmediatamente inferior\n",
    "    if cifras <= 0:\n",
    "        cifras = int(np.ceil(abs(np.log10(prec))))\n",
    "    \n",
    "    exit = ''\n",
    "    \n",
    "    niter = 0\n",
    "    while niter < maxiter:\n",
    "        niter += 1\n",
    "        x1 = x0 - horner(f,x0)/horner(df,x0)\n",
    "        if abs(f(x1)) < prec:\n",
    "            exit = 'precisión'\n",
    "            break\n",
    "        if abs(x1-x0) < tol:\n",
    "            exit = 'tolerancia'\n",
    "            break\n",
    "        x0 = x1\n",
    "    \n",
    "    print('maxiter={}, tol={}, prec={}, cifras={}'.format(maxiter, tol, prec, cifras))\n",
    "    \n",
    "    if exit == 'precisión':\n",
    "        print('Se ha alcanzado la precisión deseada')\n",
    "    elif exit == 'tolerancia':\n",
    "        print('Se ha alcanzado la máxima tolerancia')\n",
    "    elif niter >= maxiter:\n",
    "        print('Se llegó al número máximo de iteraciones')\n",
    "    \n",
    "    print('Aproximación de la solución:', float(x1))\n",
    "    print('Aproximación de la solución con', cifras, 'cifras significativas:', round(float(x1), cifras))\n",
    "    print('Número de iteraciones:', niter)\n",
    "    \n",
    "    return x1"
   ]
  },
  {
   "cell_type": "code",
   "execution_count": 80,
   "id": "b7ec9d44",
   "metadata": {},
   "outputs": [
    {
     "data": {
      "text/latex": [
       "$\\displaystyle 63 x^{6} + 5 x^{4} + 28 x^{3} + 3 x^{2} + 12 x + 9$"
      ],
      "text/plain": [
       "63*x**6 + 5*x**4 + 28*x**3 + 3*x**2 + 12*x + 9"
      ]
     },
     "execution_count": 80,
     "metadata": {},
     "output_type": "execute_result"
    }
   ],
   "source": [
    "sp.diff(p(x),x)"
   ]
  },
  {
   "cell_type": "code",
   "execution_count": 81,
   "id": "6db859b3",
   "metadata": {},
   "outputs": [],
   "source": [
    "def dp(x):\n",
    "    return 63*x**6+5*x**4+28*x**3+3*x**2+12*x+9"
   ]
  },
  {
   "cell_type": "code",
   "execution_count": 82,
   "id": "9dffc367",
   "metadata": {},
   "outputs": [
    {
     "name": "stdout",
     "output_type": "stream",
     "text": [
      "maxiter=100, tol=1e-05, prec=0.001, cifras=3\n",
      "Se ha alcanzado la precisión deseada\n",
      "Aproximación de la solución: -0.8826187895178279\n",
      "Aproximación de la solución con 3 cifras significativas: -0.883\n",
      "Número de iteraciones: 4\n"
     ]
    },
    {
     "data": {
      "text/latex": [
       "$\\displaystyle - \\frac{9634414184351783034828280574047556909551435250382412283754426433374476687666898814138725733981473675510087727285796788810367024803070828979657128966005074214713832530985024506539997880127595383283821177332050962663026826571977123869237502196619316392733615255824648786723773283214488486533005250572338557386670092462419342128041943556722847452641970368347831073506687976960044898287635866778564499028229257913297297423126390216686999628033231050386116885246679391086059760845649269971486940975070179106845598143051920706975846161125777525981670991528467739385368470474394186293400237312571091862120095877491}{10915713894573936612839330049322675086490485967583059172753812720988698886530312346819865978478148967035558901497156667246749096204778291443981168742385062747941900974267072286108664244082475786959256528266918432325041294026484626413679081896337473898642251118315105839141411764975004705088626845280276502127547774276363220342135119964032020210854145907944348641713967031833591100563976230930645807059982381808374296038293922786452705037384678125849162539369983418696754331803584424620006051954677401915402313480273271401873010040719589168722978276015027242708053742805522815728567609432121335569511820253935}$"
      ],
      "text/plain": [
       "-9634414184351783034828280574047556909551435250382412283754426433374476687666898814138725733981473675510087727285796788810367024803070828979657128966005074214713832530985024506539997880127595383283821177332050962663026826571977123869237502196619316392733615255824648786723773283214488486533005250572338557386670092462419342128041943556722847452641970368347831073506687976960044898287635866778564499028229257913297297423126390216686999628033231050386116885246679391086059760845649269971486940975070179106845598143051920706975846161125777525981670991528467739385368470474394186293400237312571091862120095877491/10915713894573936612839330049322675086490485967583059172753812720988698886530312346819865978478148967035558901497156667246749096204778291443981168742385062747941900974267072286108664244082475786959256528266918432325041294026484626413679081896337473898642251118315105839141411764975004705088626845280276502127547774276363220342135119964032020210854145907944348641713967031833591100563976230930645807059982381808374296038293922786452705037384678125849162539369983418696754331803584424620006051954677401915402313480273271401873010040719589168722978276015027242708053742805522815728567609432121335569511820253935"
      ]
     },
     "execution_count": 82,
     "metadata": {},
     "output_type": "execute_result"
    }
   ],
   "source": [
    "newton_raphson_horner(p, dp, -1)"
   ]
  },
  {
   "cell_type": "code",
   "execution_count": 83,
   "id": "0118f17d",
   "metadata": {},
   "outputs": [
    {
     "name": "stdout",
     "output_type": "stream",
     "text": [
      "maxiter=100, tol=1e-05, prec=0.001, cifras=3\n",
      "Se ha alcanzado la precisión deseada\n",
      "Aproximación de la solución: -0.88261878951782801738801254032296128571033477783203125\n",
      "Aproximación de la solución con 3 cifras significativas: -0.883\n",
      "Número de iteraciones: 4\n"
     ]
    },
    {
     "data": {
      "text/plain": [
       "-0.882618789517828"
      ]
     },
     "execution_count": 83,
     "metadata": {},
     "output_type": "execute_result"
    }
   ],
   "source": [
    "newton_raphson(p, dp, -1)"
   ]
  },
  {
   "cell_type": "code",
   "execution_count": null,
   "id": "109edaae",
   "metadata": {},
   "outputs": [],
   "source": []
  }
 ],
 "metadata": {
  "kernelspec": {
   "display_name": "Python 3 (ipykernel)",
   "language": "python",
   "name": "python3"
  },
  "language_info": {
   "codemirror_mode": {
    "name": "ipython",
    "version": 3
   },
   "file_extension": ".py",
   "mimetype": "text/x-python",
   "name": "python",
   "nbconvert_exporter": "python",
   "pygments_lexer": "ipython3",
   "version": "3.8.10"
  }
 },
 "nbformat": 4,
 "nbformat_minor": 5
}
