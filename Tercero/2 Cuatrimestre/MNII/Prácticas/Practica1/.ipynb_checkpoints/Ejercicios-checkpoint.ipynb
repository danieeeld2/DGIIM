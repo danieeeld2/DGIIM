{
 "cells": [
  {
   "cell_type": "markdown",
   "id": "c91d2c4c",
   "metadata": {},
   "source": [
    "# Práctica 1"
   ]
  },
  {
   "cell_type": "markdown",
   "id": "669c6189",
   "metadata": {},
   "source": [
    "###### Alumno: Daniel Alconchel Vázquez"
   ]
  },
  {
   "cell_type": "markdown",
   "id": "43cefb5c",
   "metadata": {},
   "source": [
    "Comenzamos importando los módulos de Pyhton necesarios:"
   ]
  },
  {
   "cell_type": "code",
   "execution_count": 1,
   "id": "8e5f4403",
   "metadata": {},
   "outputs": [],
   "source": [
    "import numpy as np\n",
    "%matplotlib inline\n",
    "import matplotlib.pyplot as plt"
   ]
  },
  {
   "cell_type": "code",
   "execution_count": 2,
   "id": "250b3c72",
   "metadata": {},
   "outputs": [],
   "source": [
    "import sympy as sp"
   ]
  },
  {
   "cell_type": "code",
   "execution_count": 3,
   "id": "f6d780f3",
   "metadata": {},
   "outputs": [],
   "source": [
    "from numpy import sign"
   ]
  },
  {
   "cell_type": "code",
   "execution_count": 4,
   "id": "980c4bc2",
   "metadata": {},
   "outputs": [],
   "source": [
    "from decimal import *"
   ]
  },
  {
   "cell_type": "markdown",
   "id": "853f4229",
   "metadata": {},
   "source": [
    "## Ejercicio 1"
   ]
  },
  {
   "cell_type": "markdown",
   "id": "1123f9e4",
   "metadata": {},
   "source": [
    "1.- Demuestre que la ecuación  $x^3+4 x^2=10  $  tiene una única raíz en el intervalo $[1,2]$.  Aproxime dicha raíz con el método de bisección con al menos 3 cifras decimales exactas. ¿Cuántas iteraciones serán necesarias para conseguir 5 cifras decimales exactas (tol =$10^{-5}$)?  Aproxime también la raíz con el método de Newton-Raphson partiendo del extremo adecuado hasta que la diferencia en valor absoluto, entre dos aproximaciones consecutivas sea  inferior a  $10^{-3}$."
   ]
  },
  {
   "cell_type": "markdown",
   "id": "81867859",
   "metadata": {},
   "source": [
    "Para demostrar que $x^3+4x^2=10$ tiene solución única en el intervalo $[1,2]$, definimos la siguiente función\n",
    "\n",
    "$$f:[1,2] \\leftarrow \\mathbb{R},\\;\\;\\;\\;f(x)=x^3+4x-10\\;\\forall x \\in [1,2]$$"
   ]
  },
  {
   "cell_type": "markdown",
   "id": "a7b0b631",
   "metadata": {},
   "source": [
    "Se puede apreciar, que resolver la ecuación del enunciado es equivalente a ver las raíces de f. Usaremos el teorema de Bolzano para ver que tiene una única raíz en $[1,2]$. Para ello, evaluamos la función en los extremos:"
   ]
  },
  {
   "cell_type": "code",
   "execution_count": 7,
   "id": "1ff00ddc",
   "metadata": {},
   "outputs": [],
   "source": [
    "x = sp.Symbol('x')\n",
    "def f0(x):\n",
    "    return x**3+4*x-10\n",
    "funciones = [f0]"
   ]
  },
  {
   "cell_type": "code",
   "execution_count": 8,
   "id": "30e77f78",
   "metadata": {},
   "outputs": [
    {
     "data": {
      "text/plain": [
       "(-5, 6)"
      ]
     },
     "execution_count": 8,
     "metadata": {},
     "output_type": "execute_result"
    }
   ],
   "source": [
    "f0(1), f0(2)"
   ]
  },
  {
   "cell_type": "markdown",
   "id": "c76bd614",
   "metadata": {},
   "source": [
    "Podemos observar que $f(1)f(2)<0$, por lo que f tiene, al menos, una raíz en $[1,2]$. Para ver que es única, podemos ver que la función de f es creciente en $[1,2]$. Esto podemos apreciarlo calculando la derivada y observando el signo de la misma en el intervalo.\n",
    "\n",
    "$$f'(x)=3x^2+4>0\\; \\forall x\\in [1,2]$$"
   ]
  },
  {
   "cell_type": "code",
   "execution_count": null,
   "id": "ba42c634",
   "metadata": {},
   "outputs": [],
   "source": []
  }
 ],
 "metadata": {
  "kernelspec": {
   "display_name": "Python 3 (ipykernel)",
   "language": "python",
   "name": "python3"
  },
  "language_info": {
   "codemirror_mode": {
    "name": "ipython",
    "version": 3
   },
   "file_extension": ".py",
   "mimetype": "text/x-python",
   "name": "python",
   "nbconvert_exporter": "python",
   "pygments_lexer": "ipython3",
   "version": "3.8.8"
  }
 },
 "nbformat": 4,
 "nbformat_minor": 5
}
